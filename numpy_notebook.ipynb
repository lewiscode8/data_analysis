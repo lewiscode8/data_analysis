{
 "cells": [
  {
   "cell_type": "code",
   "execution_count": 1,
   "id": "698627db-dd3e-431b-9d41-555169cfc1d1",
   "metadata": {},
   "outputs": [],
   "source": [
    "import numpy as np\n",
    "arr1 = list(range(1000000))\n",
    "arr2 = list(range(1000000,2000000))\n",
    "\n",
    "arr1_np = np.array(arr1)\n",
    "arr2_np = np.array(arr2)"
   ]
  },
  {
   "cell_type": "code",
   "execution_count": 2,
   "id": "3fb8ca6a-3473-4703-ae66-2e4a93a53b11",
   "metadata": {},
   "outputs": [
    {
     "name": "stdout",
     "output_type": "stream",
     "text": [
      "Wall time: 55.4 ms\n"
     ]
    },
    {
     "data": {
      "text/plain": [
       "-1942957984"
      ]
     },
     "execution_count": 2,
     "metadata": {},
     "output_type": "execute_result"
    }
   ],
   "source": [
    "%%time\n",
    "np.dot(arr1_np, arr2_np)"
   ]
  },
  {
   "cell_type": "code",
   "execution_count": 3,
   "id": "ad8b00f0-7df8-4b95-b784-083f6ae8e083",
   "metadata": {},
   "outputs": [],
   "source": [
    "# This is a list of lists...\n",
    "climate_data = np.array([[73, 67, 43],\n",
    "                        [91, 88, 64],\n",
    "                        [87, 134, 58],\n",
    "                        [102, 43, 37],\n",
    "                        [69, 96, 70]])"
   ]
  },
  {
   "cell_type": "code",
   "execution_count": 4,
   "id": "1de7fab7-a09d-4404-8d98-c64ab59611c5",
   "metadata": {},
   "outputs": [
    {
     "data": {
      "text/plain": [
       "array([[ 73,  67,  43],\n",
       "       [ 91,  88,  64],\n",
       "       [ 87, 134,  58],\n",
       "       [102,  43,  37],\n",
       "       [ 69,  96,  70]])"
      ]
     },
     "execution_count": 4,
     "metadata": {},
     "output_type": "execute_result"
    }
   ],
   "source": [
    "climate_data"
   ]
  },
  {
   "cell_type": "code",
   "execution_count": 5,
   "id": "7e9a610b-b007-4007-b143-0e2a2c7f84fe",
   "metadata": {},
   "outputs": [
    {
     "data": {
      "text/plain": [
       "(5, 3)"
      ]
     },
     "execution_count": 5,
     "metadata": {},
     "output_type": "execute_result"
    }
   ],
   "source": [
    "# Checks the measurements of the matrix\n",
    "climate_data.shape"
   ]
  },
  {
   "cell_type": "code",
   "execution_count": 6,
   "id": "60942ff4-4feb-4082-ac9a-180a2c63694a",
   "metadata": {},
   "outputs": [],
   "source": [
    "weights = np.array([0.3, 0.2, 0.5])"
   ]
  },
  {
   "cell_type": "code",
   "execution_count": 7,
   "id": "6ab5ffed-f16c-4ee6-9eab-56418d799557",
   "metadata": {},
   "outputs": [
    {
     "data": {
      "text/plain": [
       "array([0.3, 0.2, 0.5])"
      ]
     },
     "execution_count": 7,
     "metadata": {},
     "output_type": "execute_result"
    }
   ],
   "source": [
    "weights"
   ]
  },
  {
   "cell_type": "code",
   "execution_count": 8,
   "id": "a2efdbf4-f9ed-4bae-95ef-d02b962f452e",
   "metadata": {},
   "outputs": [
    {
     "data": {
      "text/plain": [
       "dtype('float64')"
      ]
     },
     "execution_count": 8,
     "metadata": {},
     "output_type": "execute_result"
    }
   ],
   "source": [
    "weights.dtype"
   ]
  },
  {
   "cell_type": "code",
   "execution_count": 9,
   "id": "d414064c-49ed-431a-9f41-6a25316aab2c",
   "metadata": {},
   "outputs": [
    {
     "data": {
      "text/plain": [
       "dtype('int32')"
      ]
     },
     "execution_count": 9,
     "metadata": {},
     "output_type": "execute_result"
    }
   ],
   "source": [
    "climate_data.dtype"
   ]
  },
  {
   "cell_type": "code",
   "execution_count": 10,
   "id": "d1557912-c387-496f-b4b3-1752b1abaaca",
   "metadata": {},
   "outputs": [
    {
     "data": {
      "text/plain": [
       "array([56.8, 76.9, 81.9, 57.7, 74.9])"
      ]
     },
     "execution_count": 10,
     "metadata": {},
     "output_type": "execute_result"
    }
   ],
   "source": [
    "# This multiplys matrices..It does the same work as np.dot\n",
    "climate_data @ weights"
   ]
  },
  {
   "cell_type": "code",
   "execution_count": 11,
   "id": "fca76a39-534f-4355-90d6-d587f9f15ffd",
   "metadata": {},
   "outputs": [],
   "source": [
    "yields = np.dot(climate_data, weights)"
   ]
  },
  {
   "cell_type": "code",
   "execution_count": 12,
   "id": "0d59ff93-546b-4d43-8855-9c3325f2cfa9",
   "metadata": {},
   "outputs": [
    {
     "data": {
      "text/plain": [
       "array([56.8, 76.9, 81.9, 57.7, 74.9])"
      ]
     },
     "execution_count": 12,
     "metadata": {},
     "output_type": "execute_result"
    }
   ],
   "source": [
    "yields"
   ]
  },
  {
   "cell_type": "code",
   "execution_count": 13,
   "id": "ddd52061-d0e0-47ad-b7c3-6f3475876ea8",
   "metadata": {},
   "outputs": [
    {
     "data": {
      "text/plain": [
       "(5,)"
      ]
     },
     "execution_count": 13,
     "metadata": {},
     "output_type": "execute_result"
    }
   ],
   "source": [
    "yields.shape"
   ]
  },
  {
   "cell_type": "code",
   "execution_count": 14,
   "id": "b07d1b46-421f-4599-8d31-d20970f7705b",
   "metadata": {},
   "outputs": [],
   "source": [
    "# np.concatenate function helps provide the yields back to climate_data as the fourth column\n",
    "climate_results = np.concatenate((climate_data, yields.reshape(5, 1)), axis = 1)"
   ]
  },
  {
   "cell_type": "code",
   "execution_count": 15,
   "id": "d8b2765c-138b-4e7f-8444-ae6806ac42e8",
   "metadata": {},
   "outputs": [
    {
     "data": {
      "text/plain": [
       "array([[ 73. ,  67. ,  43. ,  56.8],\n",
       "       [ 91. ,  88. ,  64. ,  76.9],\n",
       "       [ 87. , 134. ,  58. ,  81.9],\n",
       "       [102. ,  43. ,  37. ,  57.7],\n",
       "       [ 69. ,  96. ,  70. ,  74.9]])"
      ]
     },
     "execution_count": 15,
     "metadata": {},
     "output_type": "execute_result"
    }
   ],
   "source": [
    "climate_results"
   ]
  },
  {
   "cell_type": "code",
   "execution_count": 16,
   "id": "70721959-d414-4b1c-8a06-d5b745f9a3e1",
   "metadata": {},
   "outputs": [],
   "source": [
    "np.savetxt('climate_results.txt',\n",
    "          climate_results,\n",
    "          fmt = '%.2f',\n",
    "          header = 'Temperature,Rainfall,humidity,yield_apples',\n",
    "        comments = '')"
   ]
  },
  {
   "cell_type": "code",
   "execution_count": 17,
   "id": "d35fb1b9-47e8-4b48-b9de-5b0fcefc488e",
   "metadata": {},
   "outputs": [],
   "source": [
    "arr2 = np.array([[1, 2, 3, 4],\n",
    "                [5, 6, 7, 8],\n",
    "                [9, 1, 2, 3]])"
   ]
  },
  {
   "cell_type": "code",
   "execution_count": 18,
   "id": "679b06f8-0278-4195-a4d8-191667fb0c81",
   "metadata": {},
   "outputs": [
    {
     "data": {
      "text/plain": [
       "array([[ 4,  5,  6,  7],\n",
       "       [ 8,  9, 10, 11],\n",
       "       [12,  4,  5,  6]])"
      ]
     },
     "execution_count": 18,
     "metadata": {},
     "output_type": "execute_result"
    }
   ],
   "source": [
    "arr2 + 3"
   ]
  },
  {
   "cell_type": "code",
   "execution_count": 19,
   "id": "685669fb-f95d-4ea9-b7fe-29157cc744b8",
   "metadata": {},
   "outputs": [],
   "source": [
    "import numpy as np\n",
    "arr1 = np.array([[1, 2, 3], [3, 4, 5]])\n",
    "arr2 = np.array([[2, 2, 3], [1, 2, 5]])"
   ]
  },
  {
   "cell_type": "code",
   "execution_count": 20,
   "id": "a87e78f6-9eb2-487d-bf31-e2a60becb04b",
   "metadata": {},
   "outputs": [
    {
     "data": {
      "text/plain": [
       "array([[False,  True,  True],\n",
       "       [False, False,  True]])"
      ]
     },
     "execution_count": 20,
     "metadata": {},
     "output_type": "execute_result"
    }
   ],
   "source": [
    "arr1 == arr2"
   ]
  },
  {
   "cell_type": "code",
   "execution_count": 21,
   "id": "751e7622-d368-4cc5-97f8-3f8f2ce274ed",
   "metadata": {},
   "outputs": [
    {
     "data": {
      "text/plain": [
       "array([[ True, False, False],\n",
       "       [ True,  True, False]])"
      ]
     },
     "execution_count": 21,
     "metadata": {},
     "output_type": "execute_result"
    }
   ],
   "source": [
    "arr1 != arr2"
   ]
  },
  {
   "cell_type": "code",
   "execution_count": 22,
   "id": "e2cbe53d-c758-4ee1-b330-48842738f24e",
   "metadata": {},
   "outputs": [
    {
     "data": {
      "text/plain": [
       "array([[False,  True,  True],\n",
       "       [ True,  True,  True]])"
      ]
     },
     "execution_count": 22,
     "metadata": {},
     "output_type": "execute_result"
    }
   ],
   "source": [
    "arr1 >= arr2"
   ]
  },
  {
   "cell_type": "markdown",
   "id": "3a9553d0-d276-41c5-a42b-9ae9850ff03e",
   "metadata": {},
   "source": [
    "# And So Many Others"
   ]
  },
  {
   "cell_type": "code",
   "execution_count": 23,
   "id": "cc075447-5acb-44bb-945a-2f3a9db7aee6",
   "metadata": {},
   "outputs": [
    {
     "data": {
      "text/plain": [
       "3"
      ]
     },
     "execution_count": 23,
     "metadata": {},
     "output_type": "execute_result"
    }
   ],
   "source": [
    "(arr1 == arr2).sum()"
   ]
  },
  {
   "cell_type": "markdown",
   "id": "a1cbb0bf-852a-4a1d-a44f-c55e3dc86b51",
   "metadata": {},
   "source": [
    "# That means that there are only three right bools"
   ]
  },
  {
   "cell_type": "code",
   "execution_count": 24,
   "id": "31b4a315-c5ef-4d74-9097-a0494685e0da",
   "metadata": {},
   "outputs": [
    {
     "data": {
      "text/plain": [
       "array([[0., 0.],\n",
       "       [0., 0.],\n",
       "       [0., 0.]])"
      ]
     },
     "execution_count": 24,
     "metadata": {},
     "output_type": "execute_result"
    }
   ],
   "source": [
    "np.zeros((3, 2))"
   ]
  },
  {
   "cell_type": "code",
   "execution_count": 25,
   "id": "bf6bf182-543c-4d67-8566-b768ab180e93",
   "metadata": {},
   "outputs": [
    {
     "data": {
      "text/plain": [
       "array([[[1., 1., 1.],\n",
       "        [1., 1., 1.]],\n",
       "\n",
       "       [[1., 1., 1.],\n",
       "        [1., 1., 1.]]])"
      ]
     },
     "execution_count": 25,
     "metadata": {},
     "output_type": "execute_result"
    }
   ],
   "source": [
    "np.ones((2, 2, 3))"
   ]
  },
  {
   "cell_type": "code",
   "execution_count": 26,
   "id": "8c66cb2f-6658-4825-b136-c0e83a147cca",
   "metadata": {},
   "outputs": [
    {
     "data": {
      "text/plain": [
       "array([[1., 0.],\n",
       "       [0., 1.]])"
      ]
     },
     "execution_count": 26,
     "metadata": {},
     "output_type": "execute_result"
    }
   ],
   "source": [
    "# Creates an indentity matrix\n",
    "np.eye(2)"
   ]
  },
  {
   "cell_type": "code",
   "execution_count": 27,
   "id": "38523811-2619-49c6-92ee-72a768cf11cc",
   "metadata": {},
   "outputs": [
    {
     "data": {
      "text/plain": [
       "array([[0.33858445, 0.50646671, 0.38794016],\n",
       "       [0.67954167, 0.1755687 , 0.71643611]])"
      ]
     },
     "execution_count": 27,
     "metadata": {},
     "output_type": "execute_result"
    }
   ],
   "source": [
    "np.random.rand(2, 3)"
   ]
  },
  {
   "cell_type": "code",
   "execution_count": 28,
   "id": "388e2378-4f79-40e4-8d4f-9b8d93f22837",
   "metadata": {},
   "outputs": [
    {
     "data": {
      "text/plain": [
       "array([[-0.08072657, -0.98200057, -0.94166002],\n",
       "       [-3.53835889, -0.56504083,  0.13010278]])"
      ]
     },
     "execution_count": 28,
     "metadata": {},
     "output_type": "execute_result"
    }
   ],
   "source": [
    "np.random.randn(2, 3)"
   ]
  },
  {
   "cell_type": "code",
   "execution_count": 29,
   "id": "9de27247-cecf-46e5-9d89-b4b2e5d38034",
   "metadata": {},
   "outputs": [
    {
     "data": {
      "text/plain": [
       "array([[42, 42, 42],\n",
       "       [42, 42, 42]])"
      ]
     },
     "execution_count": 29,
     "metadata": {},
     "output_type": "execute_result"
    }
   ],
   "source": [
    "np.full([2, 3], 42)"
   ]
  },
  {
   "cell_type": "code",
   "execution_count": 30,
   "id": "b0676c3e-142a-4f04-95f2-e3332ad5191f",
   "metadata": {},
   "outputs": [
    {
     "data": {
      "text/plain": [
       "array([10, 13, 16, 19, 22, 25, 28, 31, 34, 37, 40, 43, 46, 49, 52, 55, 58,\n",
       "       61, 64, 67, 70, 73, 76, 79, 82, 85, 88])"
      ]
     },
     "execution_count": 30,
     "metadata": {},
     "output_type": "execute_result"
    }
   ],
   "source": [
    "# This means that you want to start at 10 and end at ninety and still use a range of 3\n",
    "np.arange(10, 90, 3)"
   ]
  },
  {
   "cell_type": "code",
   "execution_count": 31,
   "id": "65fba6ef-4495-45d9-875d-88e145d00ef7",
   "metadata": {},
   "outputs": [
    {
     "data": {
      "text/plain": [
       "array([ 3.,  6.,  9., 12., 15., 18., 21., 24., 27., 30.])"
      ]
     },
     "execution_count": 31,
     "metadata": {},
     "output_type": "execute_result"
    }
   ],
   "source": [
    "np.linspace(3, 30, 10)"
   ]
  },
  {
   "cell_type": "code",
   "execution_count": 32,
   "id": "bc09fe68-5de9-4e39-be43-7e4ed26d5119",
   "metadata": {},
   "outputs": [
    {
     "data": {
      "text/plain": [
       "array([[[10, 13, 16],\n",
       "        [19, 22, 25],\n",
       "        [28, 31, 34]],\n",
       "\n",
       "       [[37, 40, 43],\n",
       "        [46, 49, 52],\n",
       "        [55, 58, 61]],\n",
       "\n",
       "       [[64, 67, 70],\n",
       "        [73, 76, 79],\n",
       "        [82, 85, 88]]])"
      ]
     },
     "execution_count": 32,
     "metadata": {},
     "output_type": "execute_result"
    }
   ],
   "source": [
    "np.arange(10, 90, 3).reshape(3, 3, 3)"
   ]
  },
  {
   "cell_type": "code",
   "execution_count": 33,
   "id": "307116ed-d272-4ede-8280-ebce73ca1508",
   "metadata": {
    "collapsed": true,
    "jupyter": {
     "outputs_hidden": true
    },
    "tags": []
   },
   "outputs": [
    {
     "ename": "AttributeError",
     "evalue": "module 'numpy' has no attribute 'df'",
     "output_type": "error",
     "traceback": [
      "\u001b[1;31m---------------------------------------------------------------------------\u001b[0m",
      "\u001b[1;31mAttributeError\u001b[0m                            Traceback (most recent call last)",
      "\u001b[1;32m<ipython-input-33-48117855e3ff>\u001b[0m in \u001b[0;36m<module>\u001b[1;34m\u001b[0m\n\u001b[0;32m      6\u001b[0m \u001b[0mnp\u001b[0m\u001b[1;33m.\u001b[0m\u001b[0mmedian\u001b[0m\u001b[1;33m\u001b[0m\u001b[1;33m\u001b[0m\u001b[0m\n\u001b[0;32m      7\u001b[0m \u001b[0mnp\u001b[0m\u001b[1;33m.\u001b[0m\u001b[0marray\u001b[0m\u001b[1;33m\u001b[0m\u001b[1;33m\u001b[0m\u001b[0m\n\u001b[1;32m----> 8\u001b[1;33m \u001b[0mnp\u001b[0m\u001b[1;33m.\u001b[0m\u001b[0mdf\u001b[0m\u001b[1;33m\u001b[0m\u001b[1;33m\u001b[0m\u001b[0m\n\u001b[0m",
      "\u001b[1;32mc:\\users\\jonathan_k\\appdata\\local\\programs\\python\\python39\\lib\\site-packages\\numpy\\__init__.py\u001b[0m in \u001b[0;36m__getattr__\u001b[1;34m(attr)\u001b[0m\n\u001b[0;32m    301\u001b[0m                 \u001b[1;32mreturn\u001b[0m \u001b[0mTester\u001b[0m\u001b[1;33m\u001b[0m\u001b[1;33m\u001b[0m\u001b[0m\n\u001b[0;32m    302\u001b[0m \u001b[1;33m\u001b[0m\u001b[0m\n\u001b[1;32m--> 303\u001b[1;33m             raise AttributeError(\"module {!r} has no attribute \"\n\u001b[0m\u001b[0;32m    304\u001b[0m                                  \"{!r}\".format(__name__, attr))\n\u001b[0;32m    305\u001b[0m \u001b[1;33m\u001b[0m\u001b[0m\n",
      "\u001b[1;31mAttributeError\u001b[0m: module 'numpy' has no attribute 'df'"
     ]
    }
   ],
   "source": [
    "#  List of functions\n",
    "np.concatenate\n",
    "np.min\n",
    "np.max\n",
    "np.mean\n",
    "np.median\n",
    "np.array\n",
    "np.df"
   ]
  },
  {
   "cell_type": "code",
   "execution_count": 2,
   "id": "515f9b8c-2c8e-4fe0-893d-3fbb0d2435ba",
   "metadata": {},
   "outputs": [],
   "source": [
    "import os"
   ]
  },
  {
   "cell_type": "code",
   "execution_count": 3,
   "id": "64129083-1310-4d58-9229-a9d3f16b7064",
   "metadata": {},
   "outputs": [
    {
     "data": {
      "text/plain": [
       "'C:\\\\Users\\\\Jonathan_K'"
      ]
     },
     "execution_count": 3,
     "metadata": {},
     "output_type": "execute_result"
    }
   ],
   "source": [
    "os.getcwd() # Checking what Word directory we are currently using"
   ]
  },
  {
   "cell_type": "code",
   "execution_count": 4,
   "id": "af84fea9-76c3-42e6-a3e1-bff9264de748",
   "metadata": {
    "collapsed": true,
    "jupyter": {
     "outputs_hidden": true
    },
    "tags": []
   },
   "outputs": [
    {
     "data": {
      "text/plain": [
       "['.android',\n",
       " '.config',\n",
       " '.data',\n",
       " '.idlerc',\n",
       " '.ipynb_checkpoints',\n",
       " '.ipython',\n",
       " '.jupyter',\n",
       " '.lewis.data',\n",
       " '.matplotlib',\n",
       " '.node_repl_history',\n",
       " '.vscode',\n",
       " '3D Objects',\n",
       " 'AppData',\n",
       " 'Application Data',\n",
       " 'climate_results',\n",
       " 'climate_results.txt',\n",
       " 'Contacts',\n",
       " 'Cookies',\n",
       " 'Creative Cloud Files',\n",
       " 'data',\n",
       " 'Desktop',\n",
       " 'Documents',\n",
       " 'Downloads',\n",
       " 'Favorites',\n",
       " 'IntelGraphicsProfiles',\n",
       " \"lewis'_new_notebook.ipynb\",\n",
       " 'Links',\n",
       " 'Local Settings',\n",
       " 'MicrosoftEdgeBackups',\n",
       " 'Music',\n",
       " 'My Documents',\n",
       " 'NetHood',\n",
       " 'NTUSER.DAT',\n",
       " 'ntuser.dat.LOG1',\n",
       " 'ntuser.dat.LOG2',\n",
       " 'NTUSER.DAT{53b39e87-18c4-11ea-a811-000d3aa4692b}.TxR.0.regtrans-ms',\n",
       " 'NTUSER.DAT{53b39e87-18c4-11ea-a811-000d3aa4692b}.TxR.1.regtrans-ms',\n",
       " 'NTUSER.DAT{53b39e87-18c4-11ea-a811-000d3aa4692b}.TxR.2.regtrans-ms',\n",
       " 'NTUSER.DAT{53b39e87-18c4-11ea-a811-000d3aa4692b}.TxR.blf',\n",
       " 'NTUSER.DAT{53b39e88-18c4-11ea-a811-000d3aa4692b}.TM.blf',\n",
       " 'NTUSER.DAT{53b39e88-18c4-11ea-a811-000d3aa4692b}.TMContainer00000000000000000001.regtrans-ms',\n",
       " 'NTUSER.DAT{53b39e88-18c4-11ea-a811-000d3aa4692b}.TMContainer00000000000000000002.regtrans-ms',\n",
       " 'ntuser.ini',\n",
       " 'numpy_notebook.ipynb',\n",
       " 'OneDrive',\n",
       " 'pandas.ipynb',\n",
       " 'Pictures',\n",
       " 'PrintHood',\n",
       " 'PycharmProjects',\n",
       " 'Recent',\n",
       " 'Saved Games',\n",
       " 'scf',\n",
       " 'Searches',\n",
       " 'SendTo',\n",
       " 'Start Menu',\n",
       " 'Templates',\n",
       " 'Videos']"
      ]
     },
     "execution_count": 4,
     "metadata": {},
     "output_type": "execute_result"
    }
   ],
   "source": [
    "os.listdir('.')"
   ]
  },
  {
   "cell_type": "code",
   "execution_count": 154,
   "id": "ba1dcee6-acb6-4dbc-b8c8-7a04288258f8",
   "metadata": {},
   "outputs": [],
   "source": [
    "os.makedirs('.lewis.data', exist_ok = True) # Creates a directory"
   ]
  },
  {
   "cell_type": "code",
   "execution_count": 159,
   "id": "ff04541d-71b1-4e7f-a7f7-78af0195ad3c",
   "metadata": {},
   "outputs": [
    {
     "data": {
      "text/plain": [
       "True"
      ]
     },
     "execution_count": 159,
     "metadata": {},
     "output_type": "execute_result"
    }
   ],
   "source": [
    "'climate_results.txt' in os.listdir('.lewis.data') # Here we are confirming the presence of our file...."
   ]
  },
  {
   "cell_type": "code",
   "execution_count": 38,
   "id": "52fe8381-3b22-49bf-982d-20ef136db6d1",
   "metadata": {},
   "outputs": [],
   "source": [
    "file = open('./.lewis.data/climate_results.txt', mode = 'r')"
   ]
  },
  {
   "cell_type": "code",
   "execution_count": 39,
   "id": "93d330ba-a16c-4fb9-b267-091da7c61242",
   "metadata": {},
   "outputs": [],
   "source": [
    "file_content = file.read()"
   ]
  },
  {
   "cell_type": "code",
   "execution_count": 40,
   "id": "50bf81eb-6e48-485b-a392-83f54d367e6c",
   "metadata": {},
   "outputs": [
    {
     "name": "stdout",
     "output_type": "stream",
     "text": [
      "Temperature,Rainfall,humidity,yield_apples\n",
      "73.00 67.00 43.00 56.80\n",
      "91.00 88.00 64.00 76.90\n",
      "87.00 134.00 58.00 81.90\n",
      "102.00 43.00 37.00 57.70\n",
      "69.00 96.00 70.00 74.90\n",
      "\n"
     ]
    }
   ],
   "source": [
    "print(file_content)"
   ]
  },
  {
   "cell_type": "code",
   "execution_count": 45,
   "id": "afc5258c-6e30-457d-9ee7-a2120e57e475",
   "metadata": {},
   "outputs": [
    {
     "data": {
      "text/plain": [
       "['73.00', '67.00', '43.00', '56.80']"
      ]
     },
     "execution_count": 45,
     "metadata": {},
     "output_type": "execute_result"
    }
   ],
   "source": [
    "'73.00 67.00 43.00 56.80'.split()# Split method breaks a string into a list using the given separater(, in this case)."
   ]
  },
  {
   "cell_type": "code",
   "execution_count": null,
   "id": "9c6e5bc5-b6d8-4b17-81aa-ff2698a11caa",
   "metadata": {},
   "outputs": [],
   "source": [
    "climates = [{'Temperature': 73.00, 'Rainfall': 67.00, 'humidity': 43.00, 'yield_apples' : 56.80}]"
   ]
  },
  {
   "cell_type": "code",
   "execution_count": 190,
   "id": "c942ddda-72a7-4795-af39-60b2e0e29132",
   "metadata": {},
   "outputs": [
    {
     "data": {
      "text/plain": [
       "'7'"
      ]
     },
     "execution_count": 190,
     "metadata": {},
     "output_type": "execute_result"
    }
   ],
   "source": [
    "file_content[43]  # Now see here you are able to access letter per letter which might make work so tiresome and of course this is so useless"
   ]
  },
  {
   "cell_type": "code",
   "execution_count": 172,
   "id": "de7cdc96-b125-45f1-88ce-5fdcca09342e",
   "metadata": {},
   "outputs": [],
   "source": [
    "file.close()"
   ]
  },
  {
   "cell_type": "code",
   "execution_count": 173,
   "id": "143da9d6-6dea-453a-b403-727f09fd81bf",
   "metadata": {},
   "outputs": [
    {
     "name": "stdout",
     "output_type": "stream",
     "text": [
      "Temperature,Rainfall,humidity,yield_apples\n",
      "73.00 67.00 43.00 56.80\n",
      "91.00 88.00 64.00 76.90\n",
      "87.00 134.00 58.00 81.90\n",
      "102.00 43.00 37.00 57.70\n",
      "69.00 96.00 70.00 74.90\n",
      "\n"
     ]
    }
   ],
   "source": [
    "with open('./.lewis.data/climate_results.txt', 'r') as file:\n",
    "    file_contents = file.read()\n",
    "    print(file_contents)"
   ]
  },
  {
   "cell_type": "code",
   "execution_count": 179,
   "id": "c7830244-c6d3-457f-951c-9e272c3bb294",
   "metadata": {},
   "outputs": [],
   "source": [
    "with open('./.lewis.data/climate_results.txt', 'r') as file:\n",
    "    file_contents = file.readlines()  # This is what helps you access line per line...(readlines())"
   ]
  },
  {
   "cell_type": "code",
   "execution_count": 180,
   "id": "a2ead831-5123-419d-ad2a-e1956c19ff02",
   "metadata": {},
   "outputs": [
    {
     "data": {
      "text/plain": [
       "['Temperature,Rainfall,humidity,yield_apples\\n',\n",
       " '73.00 67.00 43.00 56.80\\n',\n",
       " '91.00 88.00 64.00 76.90\\n',\n",
       " '87.00 134.00 58.00 81.90\\n',\n",
       " '102.00 43.00 37.00 57.70\\n',\n",
       " '69.00 96.00 70.00 74.90\\n']"
      ]
     },
     "execution_count": 180,
     "metadata": {},
     "output_type": "execute_result"
    }
   ],
   "source": [
    "file_contents"
   ]
  },
  {
   "cell_type": "code",
   "execution_count": 197,
   "id": "75f73d15-224e-4c64-8c21-c1dfe980b82e",
   "metadata": {},
   "outputs": [
    {
     "data": {
      "text/plain": [
       "'Temperature,Rainfall,humidity,yield_apples\\n'"
      ]
     },
     "execution_count": 197,
     "metadata": {},
     "output_type": "execute_result"
    }
   ],
   "source": [
    "file_contents[0] # Here you are accesing line per line"
   ]
  },
  {
   "cell_type": "code",
   "execution_count": 187,
   "id": "924ccc33-38e1-4f37-af34-a73e48949eab",
   "metadata": {},
   "outputs": [
    {
     "data": {
      "text/plain": [
       "'Temperature,Rainfall,humidity,yield_apples'"
      ]
     },
     "execution_count": 187,
     "metadata": {},
     "output_type": "execute_result"
    }
   ],
   "source": [
    "file_contents[0].strip()  # Removes the new line tag"
   ]
  },
  {
   "cell_type": "code",
   "execution_count": 7,
   "id": "0c29a352-fe43-4228-9f65-ee713e13165c",
   "metadata": {},
   "outputs": [],
   "source": [
    "with open('./.lewis.data/climate_results.txt', 'r') as file:\n",
    "    file_contents = file.readlines()"
   ]
  },
  {
   "cell_type": "code",
   "execution_count": 8,
   "id": "cf27263d-873a-4546-b7b8-695d604c01a3",
   "metadata": {},
   "outputs": [],
   "source": [
    "def parse_headers(header_line):\n",
    "    return header_line.strip().split(',')"
   ]
  },
  {
   "cell_type": "code",
   "execution_count": 43,
   "id": "a85ea96c-85ad-4475-b1c1-0350b03fff00",
   "metadata": {},
   "outputs": [],
   "source": [
    "headers = parse_headers(file_contents[1])"
   ]
  },
  {
   "cell_type": "code",
   "execution_count": 44,
   "id": "51cde334-aa80-4886-81e4-ecd1fbf35e5d",
   "metadata": {},
   "outputs": [
    {
     "data": {
      "text/plain": [
       "['73.00 67.00 43.00 56.80']"
      ]
     },
     "execution_count": 44,
     "metadata": {},
     "output_type": "execute_result"
    }
   ],
   "source": [
    "headers"
   ]
  },
  {
   "cell_type": "code",
   "execution_count": 46,
   "id": "b6c2c5a3-483d-4fe8-8052-e7b0e0d2823b",
   "metadata": {},
   "outputs": [],
   "source": [
    "def parse_values(data_line):\n",
    "    values = []\n",
    "    for item in data_line.strip().split():\n",
    "        if item == '':\n",
    "            values.apppend(0.0)\n",
    "        else:\n",
    "            values.append(item)\n",
    "    return values"
   ]
  },
  {
   "cell_type": "code",
   "execution_count": 47,
   "id": "9e132a81-b9c1-4609-8b3d-87b35fb91f82",
   "metadata": {},
   "outputs": [],
   "source": [
    "values1 = parse_values(file_contents[1])"
   ]
  },
  {
   "cell_type": "code",
   "execution_count": 48,
   "id": "415a64bc-14bf-4213-ae20-3c72fb482991",
   "metadata": {},
   "outputs": [
    {
     "data": {
      "text/plain": [
       "['73.00', '67.00', '43.00', '56.80']"
      ]
     },
     "execution_count": 48,
     "metadata": {},
     "output_type": "execute_result"
    }
   ],
   "source": [
    "values1"
   ]
  },
  {
   "cell_type": "code",
   "execution_count": 26,
   "id": "d001a041-5867-4950-a9fd-b5ef74e595ef",
   "metadata": {},
   "outputs": [
    {
     "name": "stdout",
     "output_type": "stream",
     "text": [
      "(1, 'a')\n",
      "(2, 'b')\n",
      "(3, 'c')\n"
     ]
    }
   ],
   "source": [
    "import numpy\n",
    "for item in zip([1, 2, 3], ['a', 'b', 'c']):\n",
    "    print(item)"
   ]
  },
  {
   "cell_type": "code",
   "execution_count": 27,
   "id": "aedf32a7-48ca-4da6-832f-1bee5de7ab8b",
   "metadata": {},
   "outputs": [],
   "source": [
    "def create_item_dict(values, headers):\n",
    "    result = {}\n",
    "    for value, header in zip(values, headers):\n",
    "        result[header] = value\n",
    "    return result"
   ]
  },
  {
   "cell_type": "code",
   "execution_count": 28,
   "id": "ecc5923a-8e74-43eb-baef-a6f4ba644162",
   "metadata": {},
   "outputs": [
    {
     "data": {
      "text/plain": [
       "['Temperature', 'Rainfall', 'humidity', 'yield_apples']"
      ]
     },
     "execution_count": 28,
     "metadata": {},
     "output_type": "execute_result"
    }
   ],
   "source": [
    "headers"
   ]
  },
  {
   "cell_type": "code",
   "execution_count": 49,
   "id": "e0d06f7a-41bb-474f-9d75-49edb140456c",
   "metadata": {},
   "outputs": [
    {
     "data": {
      "text/plain": [
       "{'73.00 67.00 43.00 56.80': '73.00'}"
      ]
     },
     "execution_count": 49,
     "metadata": {},
     "output_type": "execute_result"
    }
   ],
   "source": [
    "create_item_dict(values1, headers)"
   ]
  },
  {
   "cell_type": "code",
   "execution_count": null,
   "id": "81475b38-0443-4f2b-aa0b-d1baf29bb767",
   "metadata": {},
   "outputs": [],
   "source": []
  }
 ],
 "metadata": {
  "kernelspec": {
   "display_name": "Python 3",
   "language": "python",
   "name": "python3"
  },
  "language_info": {
   "codemirror_mode": {
    "name": "ipython",
    "version": 3
   },
   "file_extension": ".py",
   "mimetype": "text/x-python",
   "name": "python",
   "nbconvert_exporter": "python",
   "pygments_lexer": "ipython3",
   "version": "3.9.0"
  }
 },
 "nbformat": 4,
 "nbformat_minor": 5
}
