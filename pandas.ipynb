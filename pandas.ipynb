{
 "cells": [
  {
   "cell_type": "markdown",
   "id": "22b56c14-b53c-4cfd-a997-94eb193eb119",
   "metadata": {
    "tags": []
   },
   "source": [
    "# Data Analysis is all about 'Inspecting, Cleansing, Transforming, And Modeling Data'\n",
    "\n",
    "### Keep that in mind always Lewis..\n",
    "\n",
    "# We are here to change data into useful information"
   ]
  },
  {
   "cell_type": "code",
   "execution_count": 1,
   "id": "665c4803-7721-4a34-ad19-611bad3b99d1",
   "metadata": {},
   "outputs": [],
   "source": [
    "import pandas as pd"
   ]
  },
  {
   "cell_type": "code",
   "execution_count": 2,
   "id": "c10b2b32-e76d-4265-b571-e86dcdeb3192",
   "metadata": {},
   "outputs": [],
   "source": [
    "import os"
   ]
  },
  {
   "cell_type": "code",
   "execution_count": 3,
   "id": "853f938b-6b78-488e-a196-aebebc8c4ebd",
   "metadata": {},
   "outputs": [],
   "source": [
    "covid = pd.read_csv('./.data/covid_results.txt') # This also help bring in data on board"
   ]
  },
  {
   "cell_type": "code",
   "execution_count": 4,
   "id": "1d5b376e-a57f-4934-b85a-aed5ec4efc8f",
   "metadata": {},
   "outputs": [
    {
     "data": {
      "text/html": [
       "<div>\n",
       "<style scoped>\n",
       "    .dataframe tbody tr th:only-of-type {\n",
       "        vertical-align: middle;\n",
       "    }\n",
       "\n",
       "    .dataframe tbody tr th {\n",
       "        vertical-align: top;\n",
       "    }\n",
       "\n",
       "    .dataframe thead th {\n",
       "        text-align: right;\n",
       "    }\n",
       "</style>\n",
       "<table border=\"1\" class=\"dataframe\">\n",
       "  <thead>\n",
       "    <tr style=\"text-align: right;\">\n",
       "      <th></th>\n",
       "      <th>date</th>\n",
       "      <th>new_cases</th>\n",
       "      <th>new_deaths</th>\n",
       "      <th>new_tests</th>\n",
       "    </tr>\n",
       "  </thead>\n",
       "  <tbody>\n",
       "    <tr>\n",
       "      <th>0</th>\n",
       "      <td>2020-04-21</td>\n",
       "      <td>2256.0</td>\n",
       "      <td>454.0</td>\n",
       "      <td>28095.0</td>\n",
       "    </tr>\n",
       "    <tr>\n",
       "      <th>1</th>\n",
       "      <td>2020-04-22</td>\n",
       "      <td>2729.0</td>\n",
       "      <td>534.0</td>\n",
       "      <td>44248.0</td>\n",
       "    </tr>\n",
       "    <tr>\n",
       "      <th>2</th>\n",
       "      <td>2020-04-23</td>\n",
       "      <td>3370.0</td>\n",
       "      <td>437.0</td>\n",
       "      <td>37083.0</td>\n",
       "    </tr>\n",
       "    <tr>\n",
       "      <th>3</th>\n",
       "      <td>2020-04-24</td>\n",
       "      <td>2646.0</td>\n",
       "      <td>464.0</td>\n",
       "      <td>95273.0</td>\n",
       "    </tr>\n",
       "    <tr>\n",
       "      <th>4</th>\n",
       "      <td>2020-04-25</td>\n",
       "      <td>3021.0</td>\n",
       "      <td>420.0</td>\n",
       "      <td>38676.0</td>\n",
       "    </tr>\n",
       "    <tr>\n",
       "      <th>5</th>\n",
       "      <td>2020-04-26</td>\n",
       "      <td>2357.0</td>\n",
       "      <td>415.0</td>\n",
       "      <td>24113.0</td>\n",
       "    </tr>\n",
       "    <tr>\n",
       "      <th>6</th>\n",
       "      <td>2020-04-27</td>\n",
       "      <td>2324.0</td>\n",
       "      <td>260.0</td>\n",
       "      <td>26678.0</td>\n",
       "    </tr>\n",
       "    <tr>\n",
       "      <th>7</th>\n",
       "      <td>2020-04-28</td>\n",
       "      <td>1739.0</td>\n",
       "      <td>333.0</td>\n",
       "      <td>37554.0</td>\n",
       "    </tr>\n",
       "  </tbody>\n",
       "</table>\n",
       "</div>"
      ],
      "text/plain": [
       "         date  new_cases  new_deaths  new_tests\n",
       "0  2020-04-21     2256.0       454.0    28095.0\n",
       "1  2020-04-22     2729.0       534.0    44248.0\n",
       "2  2020-04-23     3370.0       437.0    37083.0\n",
       "3  2020-04-24     2646.0       464.0    95273.0\n",
       "4  2020-04-25     3021.0       420.0    38676.0\n",
       "5  2020-04-26     2357.0       415.0    24113.0\n",
       "6  2020-04-27     2324.0       260.0    26678.0\n",
       "7  2020-04-28     1739.0       333.0    37554.0"
      ]
     },
     "execution_count": 4,
     "metadata": {},
     "output_type": "execute_result"
    }
   ],
   "source": [
    "covid"
   ]
  },
  {
   "cell_type": "code",
   "execution_count": 5,
   "id": "2b16d213-1dee-42f6-8e71-81d12ad21ea5",
   "metadata": {},
   "outputs": [
    {
     "data": {
      "text/html": [
       "<div>\n",
       "<style scoped>\n",
       "    .dataframe tbody tr th:only-of-type {\n",
       "        vertical-align: middle;\n",
       "    }\n",
       "\n",
       "    .dataframe tbody tr th {\n",
       "        vertical-align: top;\n",
       "    }\n",
       "\n",
       "    .dataframe thead th {\n",
       "        text-align: right;\n",
       "    }\n",
       "</style>\n",
       "<table border=\"1\" class=\"dataframe\">\n",
       "  <thead>\n",
       "    <tr style=\"text-align: right;\">\n",
       "      <th></th>\n",
       "      <th>new_cases</th>\n",
       "      <th>new_deaths</th>\n",
       "      <th>new_tests</th>\n",
       "    </tr>\n",
       "  </thead>\n",
       "  <tbody>\n",
       "    <tr>\n",
       "      <th>count</th>\n",
       "      <td>8.000000</td>\n",
       "      <td>8.000000</td>\n",
       "      <td>8.000000</td>\n",
       "    </tr>\n",
       "    <tr>\n",
       "      <th>mean</th>\n",
       "      <td>2555.250000</td>\n",
       "      <td>414.625000</td>\n",
       "      <td>41465.000000</td>\n",
       "    </tr>\n",
       "    <tr>\n",
       "      <th>std</th>\n",
       "      <td>502.530667</td>\n",
       "      <td>83.955664</td>\n",
       "      <td>22815.491266</td>\n",
       "    </tr>\n",
       "    <tr>\n",
       "      <th>min</th>\n",
       "      <td>1739.000000</td>\n",
       "      <td>260.000000</td>\n",
       "      <td>24113.000000</td>\n",
       "    </tr>\n",
       "    <tr>\n",
       "      <th>25%</th>\n",
       "      <td>2307.000000</td>\n",
       "      <td>394.500000</td>\n",
       "      <td>27740.750000</td>\n",
       "    </tr>\n",
       "    <tr>\n",
       "      <th>50%</th>\n",
       "      <td>2501.500000</td>\n",
       "      <td>428.500000</td>\n",
       "      <td>37318.500000</td>\n",
       "    </tr>\n",
       "    <tr>\n",
       "      <th>75%</th>\n",
       "      <td>2802.000000</td>\n",
       "      <td>456.500000</td>\n",
       "      <td>40069.000000</td>\n",
       "    </tr>\n",
       "    <tr>\n",
       "      <th>max</th>\n",
       "      <td>3370.000000</td>\n",
       "      <td>534.000000</td>\n",
       "      <td>95273.000000</td>\n",
       "    </tr>\n",
       "  </tbody>\n",
       "</table>\n",
       "</div>"
      ],
      "text/plain": [
       "         new_cases  new_deaths     new_tests\n",
       "count     8.000000    8.000000      8.000000\n",
       "mean   2555.250000  414.625000  41465.000000\n",
       "std     502.530667   83.955664  22815.491266\n",
       "min    1739.000000  260.000000  24113.000000\n",
       "25%    2307.000000  394.500000  27740.750000\n",
       "50%    2501.500000  428.500000  37318.500000\n",
       "75%    2802.000000  456.500000  40069.000000\n",
       "max    3370.000000  534.000000  95273.000000"
      ]
     },
     "execution_count": 5,
     "metadata": {},
     "output_type": "execute_result"
    }
   ],
   "source": [
    "covid.describe() # This Provides the few needed data to start with"
   ]
  },
  {
   "cell_type": "code",
   "execution_count": 6,
   "id": "c93b0189-b8f9-4488-924f-b2d2a0d71655",
   "metadata": {},
   "outputs": [
    {
     "data": {
      "image/png": "[encoded data removed]",
      "text/plain": [
       "<Figure size 432x288 with 1 Axes>"
      ]
     },
     "metadata": {
      "needs_background": "light"
     },
     "output_type": "display_data"
    }
   ],
   "source": [
    "covid.plot();"
   ]
  },
  {
   "cell_type": "code",
   "execution_count": 7,
   "id": "09b5ddae-b02f-45c6-aa37-999820945104",
   "metadata": {},
   "outputs": [
    {
     "data": {
      "text/plain": [
       "pandas.core.frame.DataFrame"
      ]
     },
     "execution_count": 7,
     "metadata": {},
     "output_type": "execute_result"
    }
   ],
   "source": [
    "type(covid)"
   ]
  },
  {
   "cell_type": "code",
   "execution_count": 8,
   "id": "f68e914f-f52a-441b-9bd8-cf1d68023331",
   "metadata": {},
   "outputs": [
    {
     "name": "stdout",
     "output_type": "stream",
     "text": [
      "<class 'pandas.core.frame.DataFrame'>\n",
      "RangeIndex: 8 entries, 0 to 7\n",
      "Data columns (total 4 columns):\n",
      " #   Column      Non-Null Count  Dtype  \n",
      "---  ------      --------------  -----  \n",
      " 0   date        8 non-null      object \n",
      " 1   new_cases   8 non-null      float64\n",
      " 2   new_deaths  8 non-null      float64\n",
      " 3   new_tests   8 non-null      float64\n",
      "dtypes: float64(3), object(1)\n",
      "memory usage: 384.0+ bytes\n"
     ]
    }
   ],
   "source": [
    "covid.info()"
   ]
  },
  {
   "cell_type": "code",
   "execution_count": 9,
   "id": "5835c189-3792-474f-9887-b11eb9d1e6b3",
   "metadata": {},
   "outputs": [
    {
     "data": {
      "text/plain": [
       "Index(['date', 'new_cases', 'new_deaths', 'new_tests'], dtype='object')"
      ]
     },
     "execution_count": 9,
     "metadata": {},
     "output_type": "execute_result"
    }
   ],
   "source": [
    "covid.columns"
   ]
  },
  {
   "cell_type": "code",
   "execution_count": 10,
   "id": "cebf8d34-e195-429d-8671-0d5e5770b022",
   "metadata": {},
   "outputs": [
    {
     "data": {
      "text/plain": [
       "(8, 4)"
      ]
     },
     "execution_count": 10,
     "metadata": {},
     "output_type": "execute_result"
    }
   ],
   "source": [
    "covid.shape"
   ]
  },
  {
   "cell_type": "markdown",
   "id": "edf87d01-4909-4794-a8e6-771e636bae10",
   "metadata": {},
   "source": [
    "# Summary of The Functions we have come across\n",
    "## pd.read_csv - Read data from a CSV file into a pandas Dataframe object\n",
    "## .info() - View basic information about rows, columns, & data types\n",
    "## .describe() - view statistical information about numeric columns\n",
    "## .columns - get the list of columns names\n",
    "## .shape - get the number of rows & columns as a tuple"
   ]
  },
  {
   "cell_type": "code",
   "execution_count": 11,
   "id": "832b8e4e-884a-4aab-bf29-9fe41bdb9da5",
   "metadata": {},
   "outputs": [],
   "source": [
    "covid_data_dict = {\n",
    "    'date' : ['2020-08-30', '2020-08-31', '2020-09-01', '2020-09-02', '2020-09-03'],\n",
    "    'new_cases' : [1444, 1365, 996, 975, 1326],\n",
    "    'new_deaths' : [1, 4, 6, 8, 6],\n",
    "    'new_tests' : [53541, 42583, 54395, None, None]\n",
    "}"
   ]
  },
  {
   "cell_type": "code",
   "execution_count": 12,
   "id": "6eb96dd7-5dd7-444b-8070-8ddc04d43212",
   "metadata": {},
   "outputs": [
    {
     "data": {
      "text/html": [
       "<div>\n",
       "<style scoped>\n",
       "    .dataframe tbody tr th:only-of-type {\n",
       "        vertical-align: middle;\n",
       "    }\n",
       "\n",
       "    .dataframe tbody tr th {\n",
       "        vertical-align: top;\n",
       "    }\n",
       "\n",
       "    .dataframe thead th {\n",
       "        text-align: right;\n",
       "    }\n",
       "</style>\n",
       "<table border=\"1\" class=\"dataframe\">\n",
       "  <thead>\n",
       "    <tr style=\"text-align: right;\">\n",
       "      <th></th>\n",
       "      <th>date</th>\n",
       "      <th>new_cases</th>\n",
       "      <th>new_deaths</th>\n",
       "      <th>new_tests</th>\n",
       "    </tr>\n",
       "  </thead>\n",
       "  <tbody>\n",
       "    <tr>\n",
       "      <th>0</th>\n",
       "      <td>2020-04-21</td>\n",
       "      <td>2256.0</td>\n",
       "      <td>454.0</td>\n",
       "      <td>28095.0</td>\n",
       "    </tr>\n",
       "    <tr>\n",
       "      <th>1</th>\n",
       "      <td>2020-04-22</td>\n",
       "      <td>2729.0</td>\n",
       "      <td>534.0</td>\n",
       "      <td>44248.0</td>\n",
       "    </tr>\n",
       "    <tr>\n",
       "      <th>2</th>\n",
       "      <td>2020-04-23</td>\n",
       "      <td>3370.0</td>\n",
       "      <td>437.0</td>\n",
       "      <td>37083.0</td>\n",
       "    </tr>\n",
       "    <tr>\n",
       "      <th>3</th>\n",
       "      <td>2020-04-24</td>\n",
       "      <td>2646.0</td>\n",
       "      <td>464.0</td>\n",
       "      <td>95273.0</td>\n",
       "    </tr>\n",
       "    <tr>\n",
       "      <th>4</th>\n",
       "      <td>2020-04-25</td>\n",
       "      <td>3021.0</td>\n",
       "      <td>420.0</td>\n",
       "      <td>38676.0</td>\n",
       "    </tr>\n",
       "    <tr>\n",
       "      <th>5</th>\n",
       "      <td>2020-04-26</td>\n",
       "      <td>2357.0</td>\n",
       "      <td>415.0</td>\n",
       "      <td>24113.0</td>\n",
       "    </tr>\n",
       "    <tr>\n",
       "      <th>6</th>\n",
       "      <td>2020-04-27</td>\n",
       "      <td>2324.0</td>\n",
       "      <td>260.0</td>\n",
       "      <td>26678.0</td>\n",
       "    </tr>\n",
       "    <tr>\n",
       "      <th>7</th>\n",
       "      <td>2020-04-28</td>\n",
       "      <td>1739.0</td>\n",
       "      <td>333.0</td>\n",
       "      <td>37554.0</td>\n",
       "    </tr>\n",
       "  </tbody>\n",
       "</table>\n",
       "</div>"
      ],
      "text/plain": [
       "         date  new_cases  new_deaths  new_tests\n",
       "0  2020-04-21     2256.0       454.0    28095.0\n",
       "1  2020-04-22     2729.0       534.0    44248.0\n",
       "2  2020-04-23     3370.0       437.0    37083.0\n",
       "3  2020-04-24     2646.0       464.0    95273.0\n",
       "4  2020-04-25     3021.0       420.0    38676.0\n",
       "5  2020-04-26     2357.0       415.0    24113.0\n",
       "6  2020-04-27     2324.0       260.0    26678.0\n",
       "7  2020-04-28     1739.0       333.0    37554.0"
      ]
     },
     "execution_count": 12,
     "metadata": {},
     "output_type": "execute_result"
    }
   ],
   "source": [
    "covid"
   ]
  },
  {
   "cell_type": "code",
   "execution_count": 13,
   "id": "1e68daae-8ec8-4a31-8a97-f26aaf023ff0",
   "metadata": {},
   "outputs": [
    {
     "data": {
      "text/plain": [
       "[1444, 1365, 996, 975, 1326]"
      ]
     },
     "execution_count": 13,
     "metadata": {},
     "output_type": "execute_result"
    }
   ],
   "source": [
    "covid_data_dict['new_cases']"
   ]
  },
  {
   "cell_type": "code",
   "execution_count": 14,
   "id": "662d22e3-799c-4835-b15a-7384dc77c67f",
   "metadata": {},
   "outputs": [
    {
     "data": {
      "text/plain": [
       "0    2256.0\n",
       "1    2729.0\n",
       "2    3370.0\n",
       "3    2646.0\n",
       "4    3021.0\n",
       "5    2357.0\n",
       "6    2324.0\n",
       "7    1739.0\n",
       "Name: new_cases, dtype: float64"
      ]
     },
     "execution_count": 14,
     "metadata": {},
     "output_type": "execute_result"
    }
   ],
   "source": [
    "covid['new_cases']"
   ]
  },
  {
   "cell_type": "code",
   "execution_count": 15,
   "id": "f6b41682-4e39-413e-855e-3f93c4574b2e",
   "metadata": {},
   "outputs": [
    {
     "data": {
      "text/plain": [
       "pandas.core.series.Series"
      ]
     },
     "execution_count": 15,
     "metadata": {},
     "output_type": "execute_result"
    }
   ],
   "source": [
    "type(covid['new_cases'])"
   ]
  },
  {
   "cell_type": "code",
   "execution_count": 16,
   "id": "bfda9b43-011f-467a-a346-e637563b02fe",
   "metadata": {},
   "outputs": [
    {
     "data": {
      "text/plain": [
       "2646.0"
      ]
     },
     "execution_count": 16,
     "metadata": {},
     "output_type": "execute_result"
    }
   ],
   "source": [
    "covid['new_cases'][3]"
   ]
  },
  {
   "cell_type": "code",
   "execution_count": 17,
   "id": "c9f7e305-c5f0-4f29-8f73-08ac9a5e2591",
   "metadata": {},
   "outputs": [
    {
     "data": {
      "text/plain": [
       "2646.0"
      ]
     },
     "execution_count": 17,
     "metadata": {},
     "output_type": "execute_result"
    }
   ],
   "source": [
    "covid.at[3, 'new_cases']"
   ]
  },
  {
   "cell_type": "code",
   "execution_count": 18,
   "id": "d4e2bac9-ecfb-4311-96c9-2afb1d4e758b",
   "metadata": {},
   "outputs": [
    {
     "data": {
      "text/plain": [
       "0    2256.0\n",
       "1    2729.0\n",
       "2    3370.0\n",
       "3    2646.0\n",
       "4    3021.0\n",
       "5    2357.0\n",
       "6    2324.0\n",
       "7    1739.0\n",
       "Name: new_cases, dtype: float64"
      ]
     },
     "execution_count": 18,
     "metadata": {},
     "output_type": "execute_result"
    }
   ],
   "source": [
    "covid.new_cases # You can also use that But it only works for data that does'nt consist spaces or anything otherthan commas"
   ]
  },
  {
   "cell_type": "code",
   "execution_count": 19,
   "id": "466e66a4-8f81-4abc-96bb-aa6101fa1cf5",
   "metadata": {},
   "outputs": [
    {
     "data": {
      "text/plain": [
       "2646.0"
      ]
     },
     "execution_count": 19,
     "metadata": {},
     "output_type": "execute_result"
    }
   ],
   "source": [
    "covid.new_cases[3]"
   ]
  },
  {
   "cell_type": "code",
   "execution_count": 20,
   "id": "68e56e5f-139d-46b6-81d8-508920c772bf",
   "metadata": {},
   "outputs": [
    {
     "data": {
      "text/html": [
       "<div>\n",
       "<style scoped>\n",
       "    .dataframe tbody tr th:only-of-type {\n",
       "        vertical-align: middle;\n",
       "    }\n",
       "\n",
       "    .dataframe tbody tr th {\n",
       "        vertical-align: top;\n",
       "    }\n",
       "\n",
       "    .dataframe thead th {\n",
       "        text-align: right;\n",
       "    }\n",
       "</style>\n",
       "<table border=\"1\" class=\"dataframe\">\n",
       "  <thead>\n",
       "    <tr style=\"text-align: right;\">\n",
       "      <th></th>\n",
       "      <th>new_cases</th>\n",
       "      <th>new_tests</th>\n",
       "    </tr>\n",
       "  </thead>\n",
       "  <tbody>\n",
       "    <tr>\n",
       "      <th>0</th>\n",
       "      <td>2256.0</td>\n",
       "      <td>28095.0</td>\n",
       "    </tr>\n",
       "    <tr>\n",
       "      <th>1</th>\n",
       "      <td>2729.0</td>\n",
       "      <td>44248.0</td>\n",
       "    </tr>\n",
       "    <tr>\n",
       "      <th>2</th>\n",
       "      <td>3370.0</td>\n",
       "      <td>37083.0</td>\n",
       "    </tr>\n",
       "    <tr>\n",
       "      <th>3</th>\n",
       "      <td>2646.0</td>\n",
       "      <td>95273.0</td>\n",
       "    </tr>\n",
       "    <tr>\n",
       "      <th>4</th>\n",
       "      <td>3021.0</td>\n",
       "      <td>38676.0</td>\n",
       "    </tr>\n",
       "    <tr>\n",
       "      <th>5</th>\n",
       "      <td>2357.0</td>\n",
       "      <td>24113.0</td>\n",
       "    </tr>\n",
       "    <tr>\n",
       "      <th>6</th>\n",
       "      <td>2324.0</td>\n",
       "      <td>26678.0</td>\n",
       "    </tr>\n",
       "    <tr>\n",
       "      <th>7</th>\n",
       "      <td>1739.0</td>\n",
       "      <td>37554.0</td>\n",
       "    </tr>\n",
       "  </tbody>\n",
       "</table>\n",
       "</div>"
      ],
      "text/plain": [
       "   new_cases  new_tests\n",
       "0     2256.0    28095.0\n",
       "1     2729.0    44248.0\n",
       "2     3370.0    37083.0\n",
       "3     2646.0    95273.0\n",
       "4     3021.0    38676.0\n",
       "5     2357.0    24113.0\n",
       "6     2324.0    26678.0\n",
       "7     1739.0    37554.0"
      ]
     },
     "execution_count": 20,
     "metadata": {},
     "output_type": "execute_result"
    }
   ],
   "source": [
    "covid[['new_cases','new_tests']]"
   ]
  },
  {
   "cell_type": "code",
   "execution_count": 21,
   "id": "a8c7b70b-0161-4577-8fc0-a73ba67305a9",
   "metadata": {},
   "outputs": [],
   "source": [
    "covid_copy = covid.copy() # Makes a copy of the file"
   ]
  },
  {
   "cell_type": "code",
   "execution_count": 22,
   "id": "5aefae78-9d3e-4c74-ac7a-0102cb5fed83",
   "metadata": {},
   "outputs": [
    {
     "data": {
      "text/html": [
       "<div>\n",
       "<style scoped>\n",
       "    .dataframe tbody tr th:only-of-type {\n",
       "        vertical-align: middle;\n",
       "    }\n",
       "\n",
       "    .dataframe tbody tr th {\n",
       "        vertical-align: top;\n",
       "    }\n",
       "\n",
       "    .dataframe thead th {\n",
       "        text-align: right;\n",
       "    }\n",
       "</style>\n",
       "<table border=\"1\" class=\"dataframe\">\n",
       "  <thead>\n",
       "    <tr style=\"text-align: right;\">\n",
       "      <th></th>\n",
       "      <th>date</th>\n",
       "      <th>new_cases</th>\n",
       "      <th>new_deaths</th>\n",
       "      <th>new_tests</th>\n",
       "    </tr>\n",
       "  </thead>\n",
       "  <tbody>\n",
       "    <tr>\n",
       "      <th>0</th>\n",
       "      <td>2020-04-21</td>\n",
       "      <td>2256.0</td>\n",
       "      <td>454.0</td>\n",
       "      <td>28095.0</td>\n",
       "    </tr>\n",
       "    <tr>\n",
       "      <th>1</th>\n",
       "      <td>2020-04-22</td>\n",
       "      <td>2729.0</td>\n",
       "      <td>534.0</td>\n",
       "      <td>44248.0</td>\n",
       "    </tr>\n",
       "    <tr>\n",
       "      <th>2</th>\n",
       "      <td>2020-04-23</td>\n",
       "      <td>3370.0</td>\n",
       "      <td>437.0</td>\n",
       "      <td>37083.0</td>\n",
       "    </tr>\n",
       "    <tr>\n",
       "      <th>3</th>\n",
       "      <td>2020-04-24</td>\n",
       "      <td>2646.0</td>\n",
       "      <td>464.0</td>\n",
       "      <td>95273.0</td>\n",
       "    </tr>\n",
       "    <tr>\n",
       "      <th>4</th>\n",
       "      <td>2020-04-25</td>\n",
       "      <td>3021.0</td>\n",
       "      <td>420.0</td>\n",
       "      <td>38676.0</td>\n",
       "    </tr>\n",
       "    <tr>\n",
       "      <th>5</th>\n",
       "      <td>2020-04-26</td>\n",
       "      <td>2357.0</td>\n",
       "      <td>415.0</td>\n",
       "      <td>24113.0</td>\n",
       "    </tr>\n",
       "    <tr>\n",
       "      <th>6</th>\n",
       "      <td>2020-04-27</td>\n",
       "      <td>2324.0</td>\n",
       "      <td>260.0</td>\n",
       "      <td>26678.0</td>\n",
       "    </tr>\n",
       "    <tr>\n",
       "      <th>7</th>\n",
       "      <td>2020-04-28</td>\n",
       "      <td>1739.0</td>\n",
       "      <td>333.0</td>\n",
       "      <td>37554.0</td>\n",
       "    </tr>\n",
       "  </tbody>\n",
       "</table>\n",
       "</div>"
      ],
      "text/plain": [
       "         date  new_cases  new_deaths  new_tests\n",
       "0  2020-04-21     2256.0       454.0    28095.0\n",
       "1  2020-04-22     2729.0       534.0    44248.0\n",
       "2  2020-04-23     3370.0       437.0    37083.0\n",
       "3  2020-04-24     2646.0       464.0    95273.0\n",
       "4  2020-04-25     3021.0       420.0    38676.0\n",
       "5  2020-04-26     2357.0       415.0    24113.0\n",
       "6  2020-04-27     2324.0       260.0    26678.0\n",
       "7  2020-04-28     1739.0       333.0    37554.0"
      ]
     },
     "execution_count": 22,
     "metadata": {},
     "output_type": "execute_result"
    }
   ],
   "source": [
    "covid"
   ]
  },
  {
   "cell_type": "code",
   "execution_count": 23,
   "id": "967446c7-6cde-4a36-90c0-ea9cfb5b4fbd",
   "metadata": {},
   "outputs": [
    {
     "data": {
      "text/html": [
       "<div>\n",
       "<style scoped>\n",
       "    .dataframe tbody tr th:only-of-type {\n",
       "        vertical-align: middle;\n",
       "    }\n",
       "\n",
       "    .dataframe tbody tr th {\n",
       "        vertical-align: top;\n",
       "    }\n",
       "\n",
       "    .dataframe thead th {\n",
       "        text-align: right;\n",
       "    }\n",
       "</style>\n",
       "<table border=\"1\" class=\"dataframe\">\n",
       "  <thead>\n",
       "    <tr style=\"text-align: right;\">\n",
       "      <th></th>\n",
       "      <th>date</th>\n",
       "      <th>new_cases</th>\n",
       "      <th>new_deaths</th>\n",
       "      <th>new_tests</th>\n",
       "    </tr>\n",
       "  </thead>\n",
       "  <tbody>\n",
       "    <tr>\n",
       "      <th>2</th>\n",
       "      <td>2020-04-23</td>\n",
       "      <td>3370.0</td>\n",
       "      <td>437.0</td>\n",
       "      <td>37083.0</td>\n",
       "    </tr>\n",
       "    <tr>\n",
       "      <th>3</th>\n",
       "      <td>2020-04-24</td>\n",
       "      <td>2646.0</td>\n",
       "      <td>464.0</td>\n",
       "      <td>95273.0</td>\n",
       "    </tr>\n",
       "    <tr>\n",
       "      <th>4</th>\n",
       "      <td>2020-04-25</td>\n",
       "      <td>3021.0</td>\n",
       "      <td>420.0</td>\n",
       "      <td>38676.0</td>\n",
       "    </tr>\n",
       "  </tbody>\n",
       "</table>\n",
       "</div>"
      ],
      "text/plain": [
       "         date  new_cases  new_deaths  new_tests\n",
       "2  2020-04-23     3370.0       437.0    37083.0\n",
       "3  2020-04-24     2646.0       464.0    95273.0\n",
       "4  2020-04-25     3021.0       420.0    38676.0"
      ]
     },
     "execution_count": 23,
     "metadata": {},
     "output_type": "execute_result"
    }
   ],
   "source": [
    "covid.loc[2:4]  # Only displays what is put in like you can use ranges or even a single value.."
   ]
  },
  {
   "cell_type": "code",
   "execution_count": 24,
   "id": "6d43610c-2c3c-4e14-b3a2-28086ce47952",
   "metadata": {},
   "outputs": [
    {
     "data": {
      "text/html": [
       "<div>\n",
       "<style scoped>\n",
       "    .dataframe tbody tr th:only-of-type {\n",
       "        vertical-align: middle;\n",
       "    }\n",
       "\n",
       "    .dataframe tbody tr th {\n",
       "        vertical-align: top;\n",
       "    }\n",
       "\n",
       "    .dataframe thead th {\n",
       "        text-align: right;\n",
       "    }\n",
       "</style>\n",
       "<table border=\"1\" class=\"dataframe\">\n",
       "  <thead>\n",
       "    <tr style=\"text-align: right;\">\n",
       "      <th></th>\n",
       "      <th>date</th>\n",
       "      <th>new_cases</th>\n",
       "      <th>new_deaths</th>\n",
       "      <th>new_tests</th>\n",
       "    </tr>\n",
       "  </thead>\n",
       "  <tbody>\n",
       "    <tr>\n",
       "      <th>0</th>\n",
       "      <td>2020-04-21</td>\n",
       "      <td>2256.0</td>\n",
       "      <td>454.0</td>\n",
       "      <td>28095.0</td>\n",
       "    </tr>\n",
       "    <tr>\n",
       "      <th>1</th>\n",
       "      <td>2020-04-22</td>\n",
       "      <td>2729.0</td>\n",
       "      <td>534.0</td>\n",
       "      <td>44248.0</td>\n",
       "    </tr>\n",
       "    <tr>\n",
       "      <th>2</th>\n",
       "      <td>2020-04-23</td>\n",
       "      <td>3370.0</td>\n",
       "      <td>437.0</td>\n",
       "      <td>37083.0</td>\n",
       "    </tr>\n",
       "    <tr>\n",
       "      <th>3</th>\n",
       "      <td>2020-04-24</td>\n",
       "      <td>2646.0</td>\n",
       "      <td>464.0</td>\n",
       "      <td>95273.0</td>\n",
       "    </tr>\n",
       "    <tr>\n",
       "      <th>4</th>\n",
       "      <td>2020-04-25</td>\n",
       "      <td>3021.0</td>\n",
       "      <td>420.0</td>\n",
       "      <td>38676.0</td>\n",
       "    </tr>\n",
       "  </tbody>\n",
       "</table>\n",
       "</div>"
      ],
      "text/plain": [
       "         date  new_cases  new_deaths  new_tests\n",
       "0  2020-04-21     2256.0       454.0    28095.0\n",
       "1  2020-04-22     2729.0       534.0    44248.0\n",
       "2  2020-04-23     3370.0       437.0    37083.0\n",
       "3  2020-04-24     2646.0       464.0    95273.0\n",
       "4  2020-04-25     3021.0       420.0    38676.0"
      ]
     },
     "execution_count": 24,
     "metadata": {},
     "output_type": "execute_result"
    }
   ],
   "source": [
    "covid.head(5)"
   ]
  },
  {
   "cell_type": "code",
   "execution_count": 25,
   "id": "659e194d-3346-415e-92d3-eaf65930d782",
   "metadata": {},
   "outputs": [
    {
     "data": {
      "text/html": [
       "<div>\n",
       "<style scoped>\n",
       "    .dataframe tbody tr th:only-of-type {\n",
       "        vertical-align: middle;\n",
       "    }\n",
       "\n",
       "    .dataframe tbody tr th {\n",
       "        vertical-align: top;\n",
       "    }\n",
       "\n",
       "    .dataframe thead th {\n",
       "        text-align: right;\n",
       "    }\n",
       "</style>\n",
       "<table border=\"1\" class=\"dataframe\">\n",
       "  <thead>\n",
       "    <tr style=\"text-align: right;\">\n",
       "      <th></th>\n",
       "      <th>date</th>\n",
       "      <th>new_cases</th>\n",
       "      <th>new_deaths</th>\n",
       "      <th>new_tests</th>\n",
       "    </tr>\n",
       "  </thead>\n",
       "  <tbody>\n",
       "    <tr>\n",
       "      <th>6</th>\n",
       "      <td>2020-04-27</td>\n",
       "      <td>2324.0</td>\n",
       "      <td>260.0</td>\n",
       "      <td>26678.0</td>\n",
       "    </tr>\n",
       "    <tr>\n",
       "      <th>7</th>\n",
       "      <td>2020-04-28</td>\n",
       "      <td>1739.0</td>\n",
       "      <td>333.0</td>\n",
       "      <td>37554.0</td>\n",
       "    </tr>\n",
       "  </tbody>\n",
       "</table>\n",
       "</div>"
      ],
      "text/plain": [
       "         date  new_cases  new_deaths  new_tests\n",
       "6  2020-04-27     2324.0       260.0    26678.0\n",
       "7  2020-04-28     1739.0       333.0    37554.0"
      ]
     },
     "execution_count": 25,
     "metadata": {},
     "output_type": "execute_result"
    }
   ],
   "source": [
    "covid.tail(2)"
   ]
  },
  {
   "cell_type": "code",
   "execution_count": 26,
   "id": "37cc6c77-2395-4aec-a299-0165852933b8",
   "metadata": {},
   "outputs": [
    {
     "data": {
      "text/plain": [
       "28095.0"
      ]
     },
     "execution_count": 26,
     "metadata": {},
     "output_type": "execute_result"
    }
   ],
   "source": [
    "covid.at[0, 'new_tests']"
   ]
  },
  {
   "cell_type": "code",
   "execution_count": 27,
   "id": "c33980fa-07de-4c20-8b6d-5268943f366a",
   "metadata": {},
   "outputs": [
    {
     "data": {
      "text/plain": [
       "numpy.float64"
      ]
     },
     "execution_count": 27,
     "metadata": {},
     "output_type": "execute_result"
    }
   ],
   "source": [
    "type(covid.at[0, 'new_tests'])"
   ]
  },
  {
   "cell_type": "code",
   "execution_count": 28,
   "id": "98d07fe9-9db1-469a-9ee8-808a75cec7a3",
   "metadata": {},
   "outputs": [
    {
     "data": {
      "text/plain": [
       "0"
      ]
     },
     "execution_count": 28,
     "metadata": {},
     "output_type": "execute_result"
    }
   ],
   "source": [
    "covid.new_tests.first_valid_index()  # Shows the index of the first valid new_tests row...For me in our file we don't have anything that is invalid(NAN) as written in the CSV that's why we have a 0..."
   ]
  },
  {
   "cell_type": "code",
   "execution_count": 29,
   "id": "5c5e1a85-5de7-4de0-9265-48866c3110bf",
   "metadata": {},
   "outputs": [
    {
     "data": {
      "text/html": [
       "<div>\n",
       "<style scoped>\n",
       "    .dataframe tbody tr th:only-of-type {\n",
       "        vertical-align: middle;\n",
       "    }\n",
       "\n",
       "    .dataframe tbody tr th {\n",
       "        vertical-align: top;\n",
       "    }\n",
       "\n",
       "    .dataframe thead th {\n",
       "        text-align: right;\n",
       "    }\n",
       "</style>\n",
       "<table border=\"1\" class=\"dataframe\">\n",
       "  <thead>\n",
       "    <tr style=\"text-align: right;\">\n",
       "      <th></th>\n",
       "      <th>date</th>\n",
       "      <th>new_cases</th>\n",
       "      <th>new_deaths</th>\n",
       "      <th>new_tests</th>\n",
       "    </tr>\n",
       "  </thead>\n",
       "  <tbody>\n",
       "    <tr>\n",
       "      <th>2</th>\n",
       "      <td>2020-04-23</td>\n",
       "      <td>3370.0</td>\n",
       "      <td>437.0</td>\n",
       "      <td>37083.0</td>\n",
       "    </tr>\n",
       "    <tr>\n",
       "      <th>5</th>\n",
       "      <td>2020-04-26</td>\n",
       "      <td>2357.0</td>\n",
       "      <td>415.0</td>\n",
       "      <td>24113.0</td>\n",
       "    </tr>\n",
       "    <tr>\n",
       "      <th>6</th>\n",
       "      <td>2020-04-27</td>\n",
       "      <td>2324.0</td>\n",
       "      <td>260.0</td>\n",
       "      <td>26678.0</td>\n",
       "    </tr>\n",
       "    <tr>\n",
       "      <th>4</th>\n",
       "      <td>2020-04-25</td>\n",
       "      <td>3021.0</td>\n",
       "      <td>420.0</td>\n",
       "      <td>38676.0</td>\n",
       "    </tr>\n",
       "    <tr>\n",
       "      <th>3</th>\n",
       "      <td>2020-04-24</td>\n",
       "      <td>2646.0</td>\n",
       "      <td>464.0</td>\n",
       "      <td>95273.0</td>\n",
       "    </tr>\n",
       "  </tbody>\n",
       "</table>\n",
       "</div>"
      ],
      "text/plain": [
       "         date  new_cases  new_deaths  new_tests\n",
       "2  2020-04-23     3370.0       437.0    37083.0\n",
       "5  2020-04-26     2357.0       415.0    24113.0\n",
       "6  2020-04-27     2324.0       260.0    26678.0\n",
       "4  2020-04-25     3021.0       420.0    38676.0\n",
       "3  2020-04-24     2646.0       464.0    95273.0"
      ]
     },
     "execution_count": 29,
     "metadata": {},
     "output_type": "execute_result"
    }
   ],
   "source": [
    "covid.sample(5)  # Randomly gives 5 values from your data.."
   ]
  },
  {
   "cell_type": "markdown",
   "id": "5ee8e74b-816e-4b2b-aac7-db4f9da2fb16",
   "metadata": {},
   "source": [
    "## What is the total number of cases and deaths?"
   ]
  },
  {
   "cell_type": "code",
   "execution_count": 30,
   "id": "70e1c949-4e2e-4a99-b8ec-7c0fcbe06a29",
   "metadata": {},
   "outputs": [],
   "source": [
    "total_cases = covid.new_cases.sum()\n",
    "total_deaths = covid.new_deaths.sum()"
   ]
  },
  {
   "cell_type": "code",
   "execution_count": 31,
   "id": "b70f72f5-1b23-49e8-b969-c48ed9450f94",
   "metadata": {},
   "outputs": [
    {
     "name": "stdout",
     "output_type": "stream",
     "text": [
      "The number of reported cases is 20442.0 and the number of reported deaths is 3317.0\n"
     ]
    }
   ],
   "source": [
    "print(f'The number of reported cases is {total_cases} and the number of reported deaths is {total_deaths}')"
   ]
  },
  {
   "cell_type": "markdown",
   "id": "ae0bbaff-9b3d-4e67-92a2-4b793c465914",
   "metadata": {},
   "source": [
    "## What is the overall death rate(ratio of reported deaths to reported cases)?"
   ]
  },
  {
   "cell_type": "code",
   "execution_count": 32,
   "id": "a9941a24-913f-4572-89d4-a6f82ddafbc1",
   "metadata": {},
   "outputs": [],
   "source": [
    "death_rate = covid.new_deaths.sum() / covid.new_cases.sum()"
   ]
  },
  {
   "cell_type": "code",
   "execution_count": 33,
   "id": "a1fa1be2-b7f9-4a63-b2df-a6c31f47647c",
   "metadata": {},
   "outputs": [
    {
     "name": "stdout",
     "output_type": "stream",
     "text": [
      "The overall reported death rate in Uganda is 0.16 %.\n"
     ]
    }
   ],
   "source": [
    "print(f'The overall reported death rate in Uganda is {death_rate:.2f} %.')  # :.2f stands for the number of decimal places to be showed up..."
   ]
  },
  {
   "cell_type": "code",
   "execution_count": 34,
   "id": "f8b0811d-25f8-4014-885b-fe9cd96ddb5a",
   "metadata": {},
   "outputs": [
    {
     "data": {
      "text/plain": [
       "0.16226396634380197"
      ]
     },
     "execution_count": 34,
     "metadata": {},
     "output_type": "execute_result"
    }
   ],
   "source": [
    "death_rate  # So without the :.2f expression..Then what is to be displayed is this....."
   ]
  },
  {
   "cell_type": "markdown",
   "id": "8839eddb-0c1e-49f2-bd17-ef4bef08a7ef",
   "metadata": {},
   "source": [
    "## What is the overall number of tests conducted? A total of 2000 tests were conducted before daily test numbers were being reported."
   ]
  },
  {
   "cell_type": "code",
   "execution_count": 35,
   "id": "d9a343c7-f40a-4c96-bf74-846166b88ef7",
   "metadata": {},
   "outputs": [],
   "source": [
    "initial_tests = 2000\n",
    "overall_number_of_tests_conducted = initial_tests + covid.new_tests.sum()"
   ]
  },
  {
   "cell_type": "code",
   "execution_count": 36,
   "id": "dcec6edc-47aa-4343-8c60-770a6dd6317d",
   "metadata": {},
   "outputs": [
    {
     "data": {
      "text/plain": [
       "333720.0"
      ]
     },
     "execution_count": 36,
     "metadata": {},
     "output_type": "execute_result"
    }
   ],
   "source": [
    "overall_number_of_tests_conducted"
   ]
  },
  {
   "cell_type": "markdown",
   "id": "ed9f6a2e-30f7-40c8-82ae-f9f3217925d6",
   "metadata": {},
   "source": [
    "## What fraction of the test returned a positive result?"
   ]
  },
  {
   "cell_type": "code",
   "execution_count": 37,
   "id": "b6dbdb98-aa36-40c3-be08-d5690d7656c8",
   "metadata": {},
   "outputs": [],
   "source": [
    "positive_rate = total_cases / overall_number_of_tests_conducted"
   ]
  },
  {
   "cell_type": "code",
   "execution_count": 38,
   "id": "fad31ef0-78ef-4d0a-9dc7-51635b9131ef",
   "metadata": {},
   "outputs": [
    {
     "name": "stdout",
     "output_type": "stream",
     "text": [
      "The fraction of the tests returned positive is 0.1%.\n"
     ]
    }
   ],
   "source": [
    "print(f'The fraction of the tests returned positive is {positive_rate:.1f}%.')"
   ]
  },
  {
   "cell_type": "code",
   "execution_count": 39,
   "id": "a96c7fcd-b0f0-4611-ad1a-6972142ff2b2",
   "metadata": {},
   "outputs": [
    {
     "data": {
      "text/html": [
       "<div>\n",
       "<style scoped>\n",
       "    .dataframe tbody tr th:only-of-type {\n",
       "        vertical-align: middle;\n",
       "    }\n",
       "\n",
       "    .dataframe tbody tr th {\n",
       "        vertical-align: top;\n",
       "    }\n",
       "\n",
       "    .dataframe thead th {\n",
       "        text-align: right;\n",
       "    }\n",
       "</style>\n",
       "<table border=\"1\" class=\"dataframe\">\n",
       "  <thead>\n",
       "    <tr style=\"text-align: right;\">\n",
       "      <th></th>\n",
       "      <th>new_cases</th>\n",
       "      <th>new_deaths</th>\n",
       "      <th>new_tests</th>\n",
       "    </tr>\n",
       "  </thead>\n",
       "  <tbody>\n",
       "    <tr>\n",
       "      <th>count</th>\n",
       "      <td>8.000000</td>\n",
       "      <td>8.000000</td>\n",
       "      <td>8.000000</td>\n",
       "    </tr>\n",
       "    <tr>\n",
       "      <th>mean</th>\n",
       "      <td>2555.250000</td>\n",
       "      <td>414.625000</td>\n",
       "      <td>41465.000000</td>\n",
       "    </tr>\n",
       "    <tr>\n",
       "      <th>std</th>\n",
       "      <td>502.530667</td>\n",
       "      <td>83.955664</td>\n",
       "      <td>22815.491266</td>\n",
       "    </tr>\n",
       "    <tr>\n",
       "      <th>min</th>\n",
       "      <td>1739.000000</td>\n",
       "      <td>260.000000</td>\n",
       "      <td>24113.000000</td>\n",
       "    </tr>\n",
       "    <tr>\n",
       "      <th>25%</th>\n",
       "      <td>2307.000000</td>\n",
       "      <td>394.500000</td>\n",
       "      <td>27740.750000</td>\n",
       "    </tr>\n",
       "    <tr>\n",
       "      <th>50%</th>\n",
       "      <td>2501.500000</td>\n",
       "      <td>428.500000</td>\n",
       "      <td>37318.500000</td>\n",
       "    </tr>\n",
       "    <tr>\n",
       "      <th>75%</th>\n",
       "      <td>2802.000000</td>\n",
       "      <td>456.500000</td>\n",
       "      <td>40069.000000</td>\n",
       "    </tr>\n",
       "    <tr>\n",
       "      <th>max</th>\n",
       "      <td>3370.000000</td>\n",
       "      <td>534.000000</td>\n",
       "      <td>95273.000000</td>\n",
       "    </tr>\n",
       "  </tbody>\n",
       "</table>\n",
       "</div>"
      ],
      "text/plain": [
       "         new_cases  new_deaths     new_tests\n",
       "count     8.000000    8.000000      8.000000\n",
       "mean   2555.250000  414.625000  41465.000000\n",
       "std     502.530667   83.955664  22815.491266\n",
       "min    1739.000000  260.000000  24113.000000\n",
       "25%    2307.000000  394.500000  27740.750000\n",
       "50%    2501.500000  428.500000  37318.500000\n",
       "75%    2802.000000  456.500000  40069.000000\n",
       "max    3370.000000  534.000000  95273.000000"
      ]
     },
     "execution_count": 39,
     "metadata": {},
     "output_type": "execute_result"
    }
   ],
   "source": [
    "covid.describe()"
   ]
  },
  {
   "cell_type": "markdown",
   "id": "74d28327-c4f0-44e3-8767-33b105fce0ab",
   "metadata": {},
   "source": [
    "# Sorting Rows and Querying"
   ]
  },
  {
   "cell_type": "code",
   "execution_count": 40,
   "id": "a3453fcf-ebe3-48a1-b69c-c956ff215e53",
   "metadata": {},
   "outputs": [],
   "source": [
    "high_new_cases = covid.new_cases > 2000"
   ]
  },
  {
   "cell_type": "code",
   "execution_count": 41,
   "id": "d355cecd-33df-4ebb-a644-4bfe40e06221",
   "metadata": {},
   "outputs": [
    {
     "data": {
      "text/plain": [
       "0     True\n",
       "1     True\n",
       "2     True\n",
       "3     True\n",
       "4     True\n",
       "5     True\n",
       "6     True\n",
       "7    False\n",
       "Name: new_cases, dtype: bool"
      ]
     },
     "execution_count": 41,
     "metadata": {},
     "output_type": "execute_result"
    }
   ],
   "source": [
    "high_new_cases"
   ]
  },
  {
   "cell_type": "code",
   "execution_count": 42,
   "id": "94cfb03c-42cd-49be-86aa-197e30c1b813",
   "metadata": {},
   "outputs": [
    {
     "data": {
      "text/html": [
       "<div>\n",
       "<style scoped>\n",
       "    .dataframe tbody tr th:only-of-type {\n",
       "        vertical-align: middle;\n",
       "    }\n",
       "\n",
       "    .dataframe tbody tr th {\n",
       "        vertical-align: top;\n",
       "    }\n",
       "\n",
       "    .dataframe thead th {\n",
       "        text-align: right;\n",
       "    }\n",
       "</style>\n",
       "<table border=\"1\" class=\"dataframe\">\n",
       "  <thead>\n",
       "    <tr style=\"text-align: right;\">\n",
       "      <th></th>\n",
       "      <th>date</th>\n",
       "      <th>new_cases</th>\n",
       "      <th>new_deaths</th>\n",
       "      <th>new_tests</th>\n",
       "    </tr>\n",
       "  </thead>\n",
       "  <tbody>\n",
       "    <tr>\n",
       "      <th>0</th>\n",
       "      <td>2020-04-21</td>\n",
       "      <td>2256.0</td>\n",
       "      <td>454.0</td>\n",
       "      <td>28095.0</td>\n",
       "    </tr>\n",
       "    <tr>\n",
       "      <th>1</th>\n",
       "      <td>2020-04-22</td>\n",
       "      <td>2729.0</td>\n",
       "      <td>534.0</td>\n",
       "      <td>44248.0</td>\n",
       "    </tr>\n",
       "    <tr>\n",
       "      <th>2</th>\n",
       "      <td>2020-04-23</td>\n",
       "      <td>3370.0</td>\n",
       "      <td>437.0</td>\n",
       "      <td>37083.0</td>\n",
       "    </tr>\n",
       "    <tr>\n",
       "      <th>3</th>\n",
       "      <td>2020-04-24</td>\n",
       "      <td>2646.0</td>\n",
       "      <td>464.0</td>\n",
       "      <td>95273.0</td>\n",
       "    </tr>\n",
       "    <tr>\n",
       "      <th>4</th>\n",
       "      <td>2020-04-25</td>\n",
       "      <td>3021.0</td>\n",
       "      <td>420.0</td>\n",
       "      <td>38676.0</td>\n",
       "    </tr>\n",
       "    <tr>\n",
       "      <th>5</th>\n",
       "      <td>2020-04-26</td>\n",
       "      <td>2357.0</td>\n",
       "      <td>415.0</td>\n",
       "      <td>24113.0</td>\n",
       "    </tr>\n",
       "    <tr>\n",
       "      <th>6</th>\n",
       "      <td>2020-04-27</td>\n",
       "      <td>2324.0</td>\n",
       "      <td>260.0</td>\n",
       "      <td>26678.0</td>\n",
       "    </tr>\n",
       "    <tr>\n",
       "      <th>7</th>\n",
       "      <td>2020-04-28</td>\n",
       "      <td>1739.0</td>\n",
       "      <td>333.0</td>\n",
       "      <td>37554.0</td>\n",
       "    </tr>\n",
       "  </tbody>\n",
       "</table>\n",
       "</div>"
      ],
      "text/plain": [
       "         date  new_cases  new_deaths  new_tests\n",
       "0  2020-04-21     2256.0       454.0    28095.0\n",
       "1  2020-04-22     2729.0       534.0    44248.0\n",
       "2  2020-04-23     3370.0       437.0    37083.0\n",
       "3  2020-04-24     2646.0       464.0    95273.0\n",
       "4  2020-04-25     3021.0       420.0    38676.0\n",
       "5  2020-04-26     2357.0       415.0    24113.0\n",
       "6  2020-04-27     2324.0       260.0    26678.0\n",
       "7  2020-04-28     1739.0       333.0    37554.0"
      ]
     },
     "execution_count": 42,
     "metadata": {},
     "output_type": "execute_result"
    }
   ],
   "source": [
    "covid"
   ]
  },
  {
   "cell_type": "code",
   "execution_count": 43,
   "id": "c9485301-b9f2-4c14-8528-9fb8172ea8fc",
   "metadata": {},
   "outputs": [
    {
     "data": {
      "text/html": [
       "<div>\n",
       "<style scoped>\n",
       "    .dataframe tbody tr th:only-of-type {\n",
       "        vertical-align: middle;\n",
       "    }\n",
       "\n",
       "    .dataframe tbody tr th {\n",
       "        vertical-align: top;\n",
       "    }\n",
       "\n",
       "    .dataframe thead th {\n",
       "        text-align: right;\n",
       "    }\n",
       "</style>\n",
       "<table border=\"1\" class=\"dataframe\">\n",
       "  <thead>\n",
       "    <tr style=\"text-align: right;\">\n",
       "      <th></th>\n",
       "      <th>date</th>\n",
       "      <th>new_cases</th>\n",
       "      <th>new_deaths</th>\n",
       "      <th>new_tests</th>\n",
       "    </tr>\n",
       "  </thead>\n",
       "  <tbody>\n",
       "    <tr>\n",
       "      <th>0</th>\n",
       "      <td>2020-04-21</td>\n",
       "      <td>2256.0</td>\n",
       "      <td>454.0</td>\n",
       "      <td>28095.0</td>\n",
       "    </tr>\n",
       "    <tr>\n",
       "      <th>1</th>\n",
       "      <td>2020-04-22</td>\n",
       "      <td>2729.0</td>\n",
       "      <td>534.0</td>\n",
       "      <td>44248.0</td>\n",
       "    </tr>\n",
       "    <tr>\n",
       "      <th>2</th>\n",
       "      <td>2020-04-23</td>\n",
       "      <td>3370.0</td>\n",
       "      <td>437.0</td>\n",
       "      <td>37083.0</td>\n",
       "    </tr>\n",
       "    <tr>\n",
       "      <th>3</th>\n",
       "      <td>2020-04-24</td>\n",
       "      <td>2646.0</td>\n",
       "      <td>464.0</td>\n",
       "      <td>95273.0</td>\n",
       "    </tr>\n",
       "    <tr>\n",
       "      <th>4</th>\n",
       "      <td>2020-04-25</td>\n",
       "      <td>3021.0</td>\n",
       "      <td>420.0</td>\n",
       "      <td>38676.0</td>\n",
       "    </tr>\n",
       "    <tr>\n",
       "      <th>5</th>\n",
       "      <td>2020-04-26</td>\n",
       "      <td>2357.0</td>\n",
       "      <td>415.0</td>\n",
       "      <td>24113.0</td>\n",
       "    </tr>\n",
       "    <tr>\n",
       "      <th>6</th>\n",
       "      <td>2020-04-27</td>\n",
       "      <td>2324.0</td>\n",
       "      <td>260.0</td>\n",
       "      <td>26678.0</td>\n",
       "    </tr>\n",
       "  </tbody>\n",
       "</table>\n",
       "</div>"
      ],
      "text/plain": [
       "         date  new_cases  new_deaths  new_tests\n",
       "0  2020-04-21     2256.0       454.0    28095.0\n",
       "1  2020-04-22     2729.0       534.0    44248.0\n",
       "2  2020-04-23     3370.0       437.0    37083.0\n",
       "3  2020-04-24     2646.0       464.0    95273.0\n",
       "4  2020-04-25     3021.0       420.0    38676.0\n",
       "5  2020-04-26     2357.0       415.0    24113.0\n",
       "6  2020-04-27     2324.0       260.0    26678.0"
      ]
     },
     "execution_count": 43,
     "metadata": {},
     "output_type": "execute_result"
    }
   ],
   "source": [
    "covid[high_new_cases]"
   ]
  },
  {
   "cell_type": "code",
   "execution_count": 44,
   "id": "19ebead2-c87f-40c8-a457-19fa13499127",
   "metadata": {},
   "outputs": [
    {
     "data": {
      "text/html": [
       "<div>\n",
       "<style scoped>\n",
       "    .dataframe tbody tr th:only-of-type {\n",
       "        vertical-align: middle;\n",
       "    }\n",
       "\n",
       "    .dataframe tbody tr th {\n",
       "        vertical-align: top;\n",
       "    }\n",
       "\n",
       "    .dataframe thead th {\n",
       "        text-align: right;\n",
       "    }\n",
       "</style>\n",
       "<table border=\"1\" class=\"dataframe\">\n",
       "  <thead>\n",
       "    <tr style=\"text-align: right;\">\n",
       "      <th></th>\n",
       "      <th>date</th>\n",
       "      <th>new_cases</th>\n",
       "      <th>new_deaths</th>\n",
       "      <th>new_tests</th>\n",
       "    </tr>\n",
       "  </thead>\n",
       "  <tbody>\n",
       "    <tr>\n",
       "      <th>0</th>\n",
       "      <td>2020-04-21</td>\n",
       "      <td>2256.0</td>\n",
       "      <td>454.0</td>\n",
       "      <td>28095.0</td>\n",
       "    </tr>\n",
       "    <tr>\n",
       "      <th>1</th>\n",
       "      <td>2020-04-22</td>\n",
       "      <td>2729.0</td>\n",
       "      <td>534.0</td>\n",
       "      <td>44248.0</td>\n",
       "    </tr>\n",
       "    <tr>\n",
       "      <th>...</th>\n",
       "      <td>...</td>\n",
       "      <td>...</td>\n",
       "      <td>...</td>\n",
       "      <td>...</td>\n",
       "    </tr>\n",
       "    <tr>\n",
       "      <th>5</th>\n",
       "      <td>2020-04-26</td>\n",
       "      <td>2357.0</td>\n",
       "      <td>415.0</td>\n",
       "      <td>24113.0</td>\n",
       "    </tr>\n",
       "    <tr>\n",
       "      <th>6</th>\n",
       "      <td>2020-04-27</td>\n",
       "      <td>2324.0</td>\n",
       "      <td>260.0</td>\n",
       "      <td>26678.0</td>\n",
       "    </tr>\n",
       "  </tbody>\n",
       "</table>\n",
       "<p>7 rows × 4 columns</p>\n",
       "</div>"
      ],
      "text/plain": [
       "          date  new_cases  new_deaths  new_tests\n",
       "0   2020-04-21     2256.0       454.0    28095.0\n",
       "1   2020-04-22     2729.0       534.0    44248.0\n",
       "..         ...        ...         ...        ...\n",
       "5   2020-04-26     2357.0       415.0    24113.0\n",
       "6   2020-04-27     2324.0       260.0    26678.0\n",
       "\n",
       "[7 rows x 4 columns]"
      ]
     },
     "metadata": {},
     "output_type": "display_data"
    }
   ],
   "source": [
    "from IPython.display import display\n",
    "with pd.option_context('display.max_rows', 4):\n",
    "    display(covid[high_new_cases])     # This function shows the numbers of rows that you want to be displayed on your terminal.."
   ]
  },
  {
   "cell_type": "code",
   "execution_count": 45,
   "id": "61d9d359-d078-4c65-a115-f6c46613051b",
   "metadata": {},
   "outputs": [],
   "source": [
    "covid['positive_rate'] = covid.new_cases / covid.new_tests"
   ]
  },
  {
   "cell_type": "code",
   "execution_count": 46,
   "id": "e3daeb54-a390-4e94-a64e-3b9483d5b814",
   "metadata": {},
   "outputs": [
    {
     "data": {
      "text/html": [
       "<div>\n",
       "<style scoped>\n",
       "    .dataframe tbody tr th:only-of-type {\n",
       "        vertical-align: middle;\n",
       "    }\n",
       "\n",
       "    .dataframe tbody tr th {\n",
       "        vertical-align: top;\n",
       "    }\n",
       "\n",
       "    .dataframe thead th {\n",
       "        text-align: right;\n",
       "    }\n",
       "</style>\n",
       "<table border=\"1\" class=\"dataframe\">\n",
       "  <thead>\n",
       "    <tr style=\"text-align: right;\">\n",
       "      <th></th>\n",
       "      <th>date</th>\n",
       "      <th>new_cases</th>\n",
       "      <th>new_deaths</th>\n",
       "      <th>new_tests</th>\n",
       "      <th>positive_rate</th>\n",
       "    </tr>\n",
       "  </thead>\n",
       "  <tbody>\n",
       "    <tr>\n",
       "      <th>0</th>\n",
       "      <td>2020-04-21</td>\n",
       "      <td>2256.0</td>\n",
       "      <td>454.0</td>\n",
       "      <td>28095.0</td>\n",
       "      <td>0.080299</td>\n",
       "    </tr>\n",
       "    <tr>\n",
       "      <th>1</th>\n",
       "      <td>2020-04-22</td>\n",
       "      <td>2729.0</td>\n",
       "      <td>534.0</td>\n",
       "      <td>44248.0</td>\n",
       "      <td>0.061675</td>\n",
       "    </tr>\n",
       "    <tr>\n",
       "      <th>2</th>\n",
       "      <td>2020-04-23</td>\n",
       "      <td>3370.0</td>\n",
       "      <td>437.0</td>\n",
       "      <td>37083.0</td>\n",
       "      <td>0.090877</td>\n",
       "    </tr>\n",
       "    <tr>\n",
       "      <th>3</th>\n",
       "      <td>2020-04-24</td>\n",
       "      <td>2646.0</td>\n",
       "      <td>464.0</td>\n",
       "      <td>95273.0</td>\n",
       "      <td>0.027773</td>\n",
       "    </tr>\n",
       "    <tr>\n",
       "      <th>4</th>\n",
       "      <td>2020-04-25</td>\n",
       "      <td>3021.0</td>\n",
       "      <td>420.0</td>\n",
       "      <td>38676.0</td>\n",
       "      <td>0.078110</td>\n",
       "    </tr>\n",
       "    <tr>\n",
       "      <th>5</th>\n",
       "      <td>2020-04-26</td>\n",
       "      <td>2357.0</td>\n",
       "      <td>415.0</td>\n",
       "      <td>24113.0</td>\n",
       "      <td>0.097748</td>\n",
       "    </tr>\n",
       "    <tr>\n",
       "      <th>6</th>\n",
       "      <td>2020-04-27</td>\n",
       "      <td>2324.0</td>\n",
       "      <td>260.0</td>\n",
       "      <td>26678.0</td>\n",
       "      <td>0.087113</td>\n",
       "    </tr>\n",
       "    <tr>\n",
       "      <th>7</th>\n",
       "      <td>2020-04-28</td>\n",
       "      <td>1739.0</td>\n",
       "      <td>333.0</td>\n",
       "      <td>37554.0</td>\n",
       "      <td>0.046307</td>\n",
       "    </tr>\n",
       "  </tbody>\n",
       "</table>\n",
       "</div>"
      ],
      "text/plain": [
       "         date  new_cases  new_deaths  new_tests  positive_rate\n",
       "0  2020-04-21     2256.0       454.0    28095.0       0.080299\n",
       "1  2020-04-22     2729.0       534.0    44248.0       0.061675\n",
       "2  2020-04-23     3370.0       437.0    37083.0       0.090877\n",
       "3  2020-04-24     2646.0       464.0    95273.0       0.027773\n",
       "4  2020-04-25     3021.0       420.0    38676.0       0.078110\n",
       "5  2020-04-26     2357.0       415.0    24113.0       0.097748\n",
       "6  2020-04-27     2324.0       260.0    26678.0       0.087113\n",
       "7  2020-04-28     1739.0       333.0    37554.0       0.046307"
      ]
     },
     "execution_count": 46,
     "metadata": {},
     "output_type": "execute_result"
    }
   ],
   "source": [
    "covid"
   ]
  },
  {
   "cell_type": "code",
   "execution_count": 47,
   "id": "b4f17b8f-1296-48eb-94bb-b18073e5cc5f",
   "metadata": {},
   "outputs": [
    {
     "data": {
      "text/plain": [
       "0.061254944264653"
      ]
     },
     "execution_count": 47,
     "metadata": {},
     "output_type": "execute_result"
    }
   ],
   "source": [
    "positive_rate"
   ]
  },
  {
   "cell_type": "code",
   "execution_count": 48,
   "id": "4b3b900a-d304-4b9d-b316-c152a1c80279",
   "metadata": {},
   "outputs": [],
   "source": [
    "high_ratio = covid[covid.new_cases / covid.new_tests > positive_rate]"
   ]
  },
  {
   "cell_type": "code",
   "execution_count": 49,
   "id": "58ddd53f-08e5-4ee8-bd12-f5d2fdcdc217",
   "metadata": {},
   "outputs": [
    {
     "data": {
      "text/html": [
       "<div>\n",
       "<style scoped>\n",
       "    .dataframe tbody tr th:only-of-type {\n",
       "        vertical-align: middle;\n",
       "    }\n",
       "\n",
       "    .dataframe tbody tr th {\n",
       "        vertical-align: top;\n",
       "    }\n",
       "\n",
       "    .dataframe thead th {\n",
       "        text-align: right;\n",
       "    }\n",
       "</style>\n",
       "<table border=\"1\" class=\"dataframe\">\n",
       "  <thead>\n",
       "    <tr style=\"text-align: right;\">\n",
       "      <th></th>\n",
       "      <th>date</th>\n",
       "      <th>new_cases</th>\n",
       "      <th>new_deaths</th>\n",
       "      <th>new_tests</th>\n",
       "      <th>positive_rate</th>\n",
       "    </tr>\n",
       "  </thead>\n",
       "  <tbody>\n",
       "    <tr>\n",
       "      <th>0</th>\n",
       "      <td>2020-04-21</td>\n",
       "      <td>2256.0</td>\n",
       "      <td>454.0</td>\n",
       "      <td>28095.0</td>\n",
       "      <td>0.080299</td>\n",
       "    </tr>\n",
       "    <tr>\n",
       "      <th>1</th>\n",
       "      <td>2020-04-22</td>\n",
       "      <td>2729.0</td>\n",
       "      <td>534.0</td>\n",
       "      <td>44248.0</td>\n",
       "      <td>0.061675</td>\n",
       "    </tr>\n",
       "    <tr>\n",
       "      <th>2</th>\n",
       "      <td>2020-04-23</td>\n",
       "      <td>3370.0</td>\n",
       "      <td>437.0</td>\n",
       "      <td>37083.0</td>\n",
       "      <td>0.090877</td>\n",
       "    </tr>\n",
       "    <tr>\n",
       "      <th>4</th>\n",
       "      <td>2020-04-25</td>\n",
       "      <td>3021.0</td>\n",
       "      <td>420.0</td>\n",
       "      <td>38676.0</td>\n",
       "      <td>0.078110</td>\n",
       "    </tr>\n",
       "    <tr>\n",
       "      <th>5</th>\n",
       "      <td>2020-04-26</td>\n",
       "      <td>2357.0</td>\n",
       "      <td>415.0</td>\n",
       "      <td>24113.0</td>\n",
       "      <td>0.097748</td>\n",
       "    </tr>\n",
       "    <tr>\n",
       "      <th>6</th>\n",
       "      <td>2020-04-27</td>\n",
       "      <td>2324.0</td>\n",
       "      <td>260.0</td>\n",
       "      <td>26678.0</td>\n",
       "      <td>0.087113</td>\n",
       "    </tr>\n",
       "  </tbody>\n",
       "</table>\n",
       "</div>"
      ],
      "text/plain": [
       "         date  new_cases  new_deaths  new_tests  positive_rate\n",
       "0  2020-04-21     2256.0       454.0    28095.0       0.080299\n",
       "1  2020-04-22     2729.0       534.0    44248.0       0.061675\n",
       "2  2020-04-23     3370.0       437.0    37083.0       0.090877\n",
       "4  2020-04-25     3021.0       420.0    38676.0       0.078110\n",
       "5  2020-04-26     2357.0       415.0    24113.0       0.097748\n",
       "6  2020-04-27     2324.0       260.0    26678.0       0.087113"
      ]
     },
     "execution_count": 49,
     "metadata": {},
     "output_type": "execute_result"
    }
   ],
   "source": [
    "high_ratio"
   ]
  },
  {
   "cell_type": "code",
   "execution_count": 50,
   "id": "3380a92c-4f19-4a4f-84f0-1cdf0f9ca9a3",
   "metadata": {},
   "outputs": [],
   "source": [
    "covid.drop(columns = ['positive_rate'], inplace = True)  # This is used to drop something in the data frame"
   ]
  },
  {
   "cell_type": "code",
   "execution_count": 51,
   "id": "32be5f6c-2337-4a52-8bde-d935ea2485e7",
   "metadata": {},
   "outputs": [
    {
     "data": {
      "text/html": [
       "<div>\n",
       "<style scoped>\n",
       "    .dataframe tbody tr th:only-of-type {\n",
       "        vertical-align: middle;\n",
       "    }\n",
       "\n",
       "    .dataframe tbody tr th {\n",
       "        vertical-align: top;\n",
       "    }\n",
       "\n",
       "    .dataframe thead th {\n",
       "        text-align: right;\n",
       "    }\n",
       "</style>\n",
       "<table border=\"1\" class=\"dataframe\">\n",
       "  <thead>\n",
       "    <tr style=\"text-align: right;\">\n",
       "      <th></th>\n",
       "      <th>date</th>\n",
       "      <th>new_cases</th>\n",
       "      <th>new_deaths</th>\n",
       "      <th>new_tests</th>\n",
       "    </tr>\n",
       "  </thead>\n",
       "  <tbody>\n",
       "    <tr>\n",
       "      <th>0</th>\n",
       "      <td>2020-04-21</td>\n",
       "      <td>2256.0</td>\n",
       "      <td>454.0</td>\n",
       "      <td>28095.0</td>\n",
       "    </tr>\n",
       "    <tr>\n",
       "      <th>1</th>\n",
       "      <td>2020-04-22</td>\n",
       "      <td>2729.0</td>\n",
       "      <td>534.0</td>\n",
       "      <td>44248.0</td>\n",
       "    </tr>\n",
       "    <tr>\n",
       "      <th>2</th>\n",
       "      <td>2020-04-23</td>\n",
       "      <td>3370.0</td>\n",
       "      <td>437.0</td>\n",
       "      <td>37083.0</td>\n",
       "    </tr>\n",
       "    <tr>\n",
       "      <th>3</th>\n",
       "      <td>2020-04-24</td>\n",
       "      <td>2646.0</td>\n",
       "      <td>464.0</td>\n",
       "      <td>95273.0</td>\n",
       "    </tr>\n",
       "    <tr>\n",
       "      <th>4</th>\n",
       "      <td>2020-04-25</td>\n",
       "      <td>3021.0</td>\n",
       "      <td>420.0</td>\n",
       "      <td>38676.0</td>\n",
       "    </tr>\n",
       "    <tr>\n",
       "      <th>5</th>\n",
       "      <td>2020-04-26</td>\n",
       "      <td>2357.0</td>\n",
       "      <td>415.0</td>\n",
       "      <td>24113.0</td>\n",
       "    </tr>\n",
       "    <tr>\n",
       "      <th>6</th>\n",
       "      <td>2020-04-27</td>\n",
       "      <td>2324.0</td>\n",
       "      <td>260.0</td>\n",
       "      <td>26678.0</td>\n",
       "    </tr>\n",
       "    <tr>\n",
       "      <th>7</th>\n",
       "      <td>2020-04-28</td>\n",
       "      <td>1739.0</td>\n",
       "      <td>333.0</td>\n",
       "      <td>37554.0</td>\n",
       "    </tr>\n",
       "  </tbody>\n",
       "</table>\n",
       "</div>"
      ],
      "text/plain": [
       "         date  new_cases  new_deaths  new_tests\n",
       "0  2020-04-21     2256.0       454.0    28095.0\n",
       "1  2020-04-22     2729.0       534.0    44248.0\n",
       "2  2020-04-23     3370.0       437.0    37083.0\n",
       "3  2020-04-24     2646.0       464.0    95273.0\n",
       "4  2020-04-25     3021.0       420.0    38676.0\n",
       "5  2020-04-26     2357.0       415.0    24113.0\n",
       "6  2020-04-27     2324.0       260.0    26678.0\n",
       "7  2020-04-28     1739.0       333.0    37554.0"
      ]
     },
     "execution_count": 51,
     "metadata": {},
     "output_type": "execute_result"
    }
   ],
   "source": [
    "covid"
   ]
  },
  {
   "cell_type": "code",
   "execution_count": 52,
   "id": "160cef9a-5dab-4071-ba58-d5dede7dc323",
   "metadata": {},
   "outputs": [
    {
     "data": {
      "text/html": [
       "<div>\n",
       "<style scoped>\n",
       "    .dataframe tbody tr th:only-of-type {\n",
       "        vertical-align: middle;\n",
       "    }\n",
       "\n",
       "    .dataframe tbody tr th {\n",
       "        vertical-align: top;\n",
       "    }\n",
       "\n",
       "    .dataframe thead th {\n",
       "        text-align: right;\n",
       "    }\n",
       "</style>\n",
       "<table border=\"1\" class=\"dataframe\">\n",
       "  <thead>\n",
       "    <tr style=\"text-align: right;\">\n",
       "      <th></th>\n",
       "      <th>date</th>\n",
       "      <th>new_cases</th>\n",
       "      <th>new_deaths</th>\n",
       "      <th>new_tests</th>\n",
       "    </tr>\n",
       "  </thead>\n",
       "  <tbody>\n",
       "    <tr>\n",
       "      <th>2</th>\n",
       "      <td>2020-04-23</td>\n",
       "      <td>3370.0</td>\n",
       "      <td>437.0</td>\n",
       "      <td>37083.0</td>\n",
       "    </tr>\n",
       "    <tr>\n",
       "      <th>4</th>\n",
       "      <td>2020-04-25</td>\n",
       "      <td>3021.0</td>\n",
       "      <td>420.0</td>\n",
       "      <td>38676.0</td>\n",
       "    </tr>\n",
       "    <tr>\n",
       "      <th>1</th>\n",
       "      <td>2020-04-22</td>\n",
       "      <td>2729.0</td>\n",
       "      <td>534.0</td>\n",
       "      <td>44248.0</td>\n",
       "    </tr>\n",
       "    <tr>\n",
       "      <th>3</th>\n",
       "      <td>2020-04-24</td>\n",
       "      <td>2646.0</td>\n",
       "      <td>464.0</td>\n",
       "      <td>95273.0</td>\n",
       "    </tr>\n",
       "    <tr>\n",
       "      <th>5</th>\n",
       "      <td>2020-04-26</td>\n",
       "      <td>2357.0</td>\n",
       "      <td>415.0</td>\n",
       "      <td>24113.0</td>\n",
       "    </tr>\n",
       "    <tr>\n",
       "      <th>6</th>\n",
       "      <td>2020-04-27</td>\n",
       "      <td>2324.0</td>\n",
       "      <td>260.0</td>\n",
       "      <td>26678.0</td>\n",
       "    </tr>\n",
       "    <tr>\n",
       "      <th>0</th>\n",
       "      <td>2020-04-21</td>\n",
       "      <td>2256.0</td>\n",
       "      <td>454.0</td>\n",
       "      <td>28095.0</td>\n",
       "    </tr>\n",
       "    <tr>\n",
       "      <th>7</th>\n",
       "      <td>2020-04-28</td>\n",
       "      <td>1739.0</td>\n",
       "      <td>333.0</td>\n",
       "      <td>37554.0</td>\n",
       "    </tr>\n",
       "  </tbody>\n",
       "</table>\n",
       "</div>"
      ],
      "text/plain": [
       "         date  new_cases  new_deaths  new_tests\n",
       "2  2020-04-23     3370.0       437.0    37083.0\n",
       "4  2020-04-25     3021.0       420.0    38676.0\n",
       "1  2020-04-22     2729.0       534.0    44248.0\n",
       "3  2020-04-24     2646.0       464.0    95273.0\n",
       "5  2020-04-26     2357.0       415.0    24113.0\n",
       "6  2020-04-27     2324.0       260.0    26678.0\n",
       "0  2020-04-21     2256.0       454.0    28095.0\n",
       "7  2020-04-28     1739.0       333.0    37554.0"
      ]
     },
     "execution_count": 52,
     "metadata": {},
     "output_type": "execute_result"
    }
   ],
   "source": [
    "covid.sort_values('new_cases', ascending = False).head(8) # This sorts values from the highest to the lowest.."
   ]
  },
  {
   "cell_type": "code",
   "execution_count": 53,
   "id": "55d312bf-123f-4db2-aa45-1b6e3b18c4fb",
   "metadata": {},
   "outputs": [
    {
     "data": {
      "text/html": [
       "<div>\n",
       "<style scoped>\n",
       "    .dataframe tbody tr th:only-of-type {\n",
       "        vertical-align: middle;\n",
       "    }\n",
       "\n",
       "    .dataframe tbody tr th {\n",
       "        vertical-align: top;\n",
       "    }\n",
       "\n",
       "    .dataframe thead th {\n",
       "        text-align: right;\n",
       "    }\n",
       "</style>\n",
       "<table border=\"1\" class=\"dataframe\">\n",
       "  <thead>\n",
       "    <tr style=\"text-align: right;\">\n",
       "      <th></th>\n",
       "      <th>date</th>\n",
       "      <th>new_cases</th>\n",
       "      <th>new_deaths</th>\n",
       "      <th>new_tests</th>\n",
       "    </tr>\n",
       "  </thead>\n",
       "  <tbody>\n",
       "    <tr>\n",
       "      <th>7</th>\n",
       "      <td>2020-04-28</td>\n",
       "      <td>1739.0</td>\n",
       "      <td>333.0</td>\n",
       "      <td>37554.0</td>\n",
       "    </tr>\n",
       "    <tr>\n",
       "      <th>0</th>\n",
       "      <td>2020-04-21</td>\n",
       "      <td>2256.0</td>\n",
       "      <td>454.0</td>\n",
       "      <td>28095.0</td>\n",
       "    </tr>\n",
       "    <tr>\n",
       "      <th>6</th>\n",
       "      <td>2020-04-27</td>\n",
       "      <td>2324.0</td>\n",
       "      <td>260.0</td>\n",
       "      <td>26678.0</td>\n",
       "    </tr>\n",
       "    <tr>\n",
       "      <th>5</th>\n",
       "      <td>2020-04-26</td>\n",
       "      <td>2357.0</td>\n",
       "      <td>415.0</td>\n",
       "      <td>24113.0</td>\n",
       "    </tr>\n",
       "    <tr>\n",
       "      <th>3</th>\n",
       "      <td>2020-04-24</td>\n",
       "      <td>2646.0</td>\n",
       "      <td>464.0</td>\n",
       "      <td>95273.0</td>\n",
       "    </tr>\n",
       "    <tr>\n",
       "      <th>1</th>\n",
       "      <td>2020-04-22</td>\n",
       "      <td>2729.0</td>\n",
       "      <td>534.0</td>\n",
       "      <td>44248.0</td>\n",
       "    </tr>\n",
       "    <tr>\n",
       "      <th>4</th>\n",
       "      <td>2020-04-25</td>\n",
       "      <td>3021.0</td>\n",
       "      <td>420.0</td>\n",
       "      <td>38676.0</td>\n",
       "    </tr>\n",
       "    <tr>\n",
       "      <th>2</th>\n",
       "      <td>2020-04-23</td>\n",
       "      <td>3370.0</td>\n",
       "      <td>437.0</td>\n",
       "      <td>37083.0</td>\n",
       "    </tr>\n",
       "  </tbody>\n",
       "</table>\n",
       "</div>"
      ],
      "text/plain": [
       "         date  new_cases  new_deaths  new_tests\n",
       "7  2020-04-28     1739.0       333.0    37554.0\n",
       "0  2020-04-21     2256.0       454.0    28095.0\n",
       "6  2020-04-27     2324.0       260.0    26678.0\n",
       "5  2020-04-26     2357.0       415.0    24113.0\n",
       "3  2020-04-24     2646.0       464.0    95273.0\n",
       "1  2020-04-22     2729.0       534.0    44248.0\n",
       "4  2020-04-25     3021.0       420.0    38676.0\n",
       "2  2020-04-23     3370.0       437.0    37083.0"
      ]
     },
     "execution_count": 53,
     "metadata": {},
     "output_type": "execute_result"
    }
   ],
   "source": [
    "covid.sort_values('new_cases').head(8) # By just using the sort method, You just accessing the least to the highest."
   ]
  },
  {
   "cell_type": "code",
   "execution_count": 54,
   "id": "a8bb477a-cd79-4d68-bfcf-ebcc97a7b04e",
   "metadata": {},
   "outputs": [
    {
     "data": {
      "text/html": [
       "<div>\n",
       "<style scoped>\n",
       "    .dataframe tbody tr th:only-of-type {\n",
       "        vertical-align: middle;\n",
       "    }\n",
       "\n",
       "    .dataframe tbody tr th {\n",
       "        vertical-align: top;\n",
       "    }\n",
       "\n",
       "    .dataframe thead th {\n",
       "        text-align: right;\n",
       "    }\n",
       "</style>\n",
       "<table border=\"1\" class=\"dataframe\">\n",
       "  <thead>\n",
       "    <tr style=\"text-align: right;\">\n",
       "      <th></th>\n",
       "      <th>date</th>\n",
       "      <th>new_cases</th>\n",
       "      <th>new_deaths</th>\n",
       "      <th>new_tests</th>\n",
       "    </tr>\n",
       "  </thead>\n",
       "  <tbody>\n",
       "    <tr>\n",
       "      <th>4</th>\n",
       "      <td>2020-04-25</td>\n",
       "      <td>3021.0</td>\n",
       "      <td>420.0</td>\n",
       "      <td>38676.0</td>\n",
       "    </tr>\n",
       "    <tr>\n",
       "      <th>5</th>\n",
       "      <td>2020-04-26</td>\n",
       "      <td>2357.0</td>\n",
       "      <td>415.0</td>\n",
       "      <td>24113.0</td>\n",
       "    </tr>\n",
       "    <tr>\n",
       "      <th>6</th>\n",
       "      <td>2020-04-27</td>\n",
       "      <td>2324.0</td>\n",
       "      <td>260.0</td>\n",
       "      <td>26678.0</td>\n",
       "    </tr>\n",
       "    <tr>\n",
       "      <th>7</th>\n",
       "      <td>2020-04-28</td>\n",
       "      <td>1739.0</td>\n",
       "      <td>333.0</td>\n",
       "      <td>37554.0</td>\n",
       "    </tr>\n",
       "  </tbody>\n",
       "</table>\n",
       "</div>"
      ],
      "text/plain": [
       "         date  new_cases  new_deaths  new_tests\n",
       "4  2020-04-25     3021.0       420.0    38676.0\n",
       "5  2020-04-26     2357.0       415.0    24113.0\n",
       "6  2020-04-27     2324.0       260.0    26678.0\n",
       "7  2020-04-28     1739.0       333.0    37554.0"
      ]
     },
     "execution_count": 54,
     "metadata": {},
     "output_type": "execute_result"
    }
   ],
   "source": [
    "covid.loc[4:8] # Shows what we have in our data frame in the range listed"
   ]
  },
  {
   "cell_type": "code",
   "execution_count": 55,
   "id": "0f898ca1-3b87-43fd-b1d0-84c7cbd705b0",
   "metadata": {
    "collapsed": true,
    "jupyter": {
     "outputs_hidden": true
    },
    "tags": []
   },
   "outputs": [
    {
     "ename": "KeyError",
     "evalue": "'new-cases'",
     "output_type": "error",
     "traceback": [
      "\u001b[1;31m---------------------------------------------------------------------------\u001b[0m",
      "\u001b[1;31mKeyError\u001b[0m                                  Traceback (most recent call last)",
      "\u001b[1;32mc:\\users\\jonathan_k\\appdata\\local\\programs\\python\\python39\\lib\\site-packages\\pandas\\core\\indexes\\base.py\u001b[0m in \u001b[0;36mget_loc\u001b[1;34m(self, key, method, tolerance)\u001b[0m\n\u001b[0;32m   3079\u001b[0m             \u001b[1;32mtry\u001b[0m\u001b[1;33m:\u001b[0m\u001b[1;33m\u001b[0m\u001b[1;33m\u001b[0m\u001b[0m\n\u001b[1;32m-> 3080\u001b[1;33m                 \u001b[1;32mreturn\u001b[0m \u001b[0mself\u001b[0m\u001b[1;33m.\u001b[0m\u001b[0m_engine\u001b[0m\u001b[1;33m.\u001b[0m\u001b[0mget_loc\u001b[0m\u001b[1;33m(\u001b[0m\u001b[0mcasted_key\u001b[0m\u001b[1;33m)\u001b[0m\u001b[1;33m\u001b[0m\u001b[1;33m\u001b[0m\u001b[0m\n\u001b[0m\u001b[0;32m   3081\u001b[0m             \u001b[1;32mexcept\u001b[0m \u001b[0mKeyError\u001b[0m \u001b[1;32mas\u001b[0m \u001b[0merr\u001b[0m\u001b[1;33m:\u001b[0m\u001b[1;33m\u001b[0m\u001b[1;33m\u001b[0m\u001b[0m\n",
      "\u001b[1;32mpandas\\_libs\\index.pyx\u001b[0m in \u001b[0;36mpandas._libs.index.IndexEngine.get_loc\u001b[1;34m()\u001b[0m\n",
      "\u001b[1;32mpandas\\_libs\\index.pyx\u001b[0m in \u001b[0;36mpandas._libs.index.IndexEngine.get_loc\u001b[1;34m()\u001b[0m\n",
      "\u001b[1;32mpandas\\_libs\\hashtable_class_helper.pxi\u001b[0m in \u001b[0;36mpandas._libs.hashtable.PyObjectHashTable.get_item\u001b[1;34m()\u001b[0m\n",
      "\u001b[1;32mpandas\\_libs\\hashtable_class_helper.pxi\u001b[0m in \u001b[0;36mpandas._libs.hashtable.PyObjectHashTable.get_item\u001b[1;34m()\u001b[0m\n",
      "\u001b[1;31mKeyError\u001b[0m: 'new-cases'",
      "\nThe above exception was the direct cause of the following exception:\n",
      "\u001b[1;31mKeyError\u001b[0m                                  Traceback (most recent call last)",
      "\u001b[1;32m<ipython-input-55-eef8e789998f>\u001b[0m in \u001b[0;36m<module>\u001b[1;34m\u001b[0m\n\u001b[1;32m----> 1\u001b[1;33m \u001b[0mcovid\u001b[0m\u001b[1;33m.\u001b[0m\u001b[0mat\u001b[0m\u001b[1;33m[\u001b[0m\u001b[1;36m190\u001b[0m\u001b[1;33m,\u001b[0m \u001b[1;34m'new_cases'\u001b[0m\u001b[1;33m]\u001b[0m \u001b[1;33m=\u001b[0m \u001b[1;33m(\u001b[0m\u001b[0mcovid\u001b[0m\u001b[1;33m.\u001b[0m\u001b[0mat\u001b[0m\u001b[1;33m[\u001b[0m\u001b[1;36m172\u001b[0m\u001b[1;33m,\u001b[0m \u001b[1;34m'new-cases'\u001b[0m\u001b[1;33m]\u001b[0m \u001b[1;33m+\u001b[0m \u001b[0mcovid\u001b[0m\u001b[1;33m.\u001b[0m\u001b[0mat\u001b[0m\u001b[1;33m[\u001b[0m\u001b[1;36m172\u001b[0m\u001b[1;33m,\u001b[0m \u001b[1;34m'new_cases'\u001b[0m\u001b[1;33m]\u001b[0m\u001b[1;33m)\u001b[0m \u001b[1;33m/\u001b[0m \u001b[1;36m2\u001b[0m \u001b[1;31m# Here we are changing data in our data frames..\u001b[0m\u001b[1;33m\u001b[0m\u001b[1;33m\u001b[0m\u001b[0m\n\u001b[0m",
      "\u001b[1;32mc:\\users\\jonathan_k\\appdata\\local\\programs\\python\\python39\\lib\\site-packages\\pandas\\core\\indexing.py\u001b[0m in \u001b[0;36m__getitem__\u001b[1;34m(self, key)\u001b[0m\n\u001b[0;32m   2154\u001b[0m             \u001b[1;32mreturn\u001b[0m \u001b[0mself\u001b[0m\u001b[1;33m.\u001b[0m\u001b[0mobj\u001b[0m\u001b[1;33m.\u001b[0m\u001b[0mloc\u001b[0m\u001b[1;33m[\u001b[0m\u001b[0mkey\u001b[0m\u001b[1;33m]\u001b[0m\u001b[1;33m\u001b[0m\u001b[1;33m\u001b[0m\u001b[0m\n\u001b[0;32m   2155\u001b[0m \u001b[1;33m\u001b[0m\u001b[0m\n\u001b[1;32m-> 2156\u001b[1;33m         \u001b[1;32mreturn\u001b[0m \u001b[0msuper\u001b[0m\u001b[1;33m(\u001b[0m\u001b[1;33m)\u001b[0m\u001b[1;33m.\u001b[0m\u001b[0m__getitem__\u001b[0m\u001b[1;33m(\u001b[0m\u001b[0mkey\u001b[0m\u001b[1;33m)\u001b[0m\u001b[1;33m\u001b[0m\u001b[1;33m\u001b[0m\u001b[0m\n\u001b[0m\u001b[0;32m   2157\u001b[0m \u001b[1;33m\u001b[0m\u001b[0m\n\u001b[0;32m   2158\u001b[0m     \u001b[1;32mdef\u001b[0m \u001b[0m__setitem__\u001b[0m\u001b[1;33m(\u001b[0m\u001b[0mself\u001b[0m\u001b[1;33m,\u001b[0m \u001b[0mkey\u001b[0m\u001b[1;33m,\u001b[0m \u001b[0mvalue\u001b[0m\u001b[1;33m)\u001b[0m\u001b[1;33m:\u001b[0m\u001b[1;33m\u001b[0m\u001b[1;33m\u001b[0m\u001b[0m\n",
      "\u001b[1;32mc:\\users\\jonathan_k\\appdata\\local\\programs\\python\\python39\\lib\\site-packages\\pandas\\core\\indexing.py\u001b[0m in \u001b[0;36m__getitem__\u001b[1;34m(self, key)\u001b[0m\n\u001b[0;32m   2101\u001b[0m \u001b[1;33m\u001b[0m\u001b[0m\n\u001b[0;32m   2102\u001b[0m         \u001b[0mkey\u001b[0m \u001b[1;33m=\u001b[0m \u001b[0mself\u001b[0m\u001b[1;33m.\u001b[0m\u001b[0m_convert_key\u001b[0m\u001b[1;33m(\u001b[0m\u001b[0mkey\u001b[0m\u001b[1;33m)\u001b[0m\u001b[1;33m\u001b[0m\u001b[1;33m\u001b[0m\u001b[0m\n\u001b[1;32m-> 2103\u001b[1;33m         \u001b[1;32mreturn\u001b[0m \u001b[0mself\u001b[0m\u001b[1;33m.\u001b[0m\u001b[0mobj\u001b[0m\u001b[1;33m.\u001b[0m\u001b[0m_get_value\u001b[0m\u001b[1;33m(\u001b[0m\u001b[1;33m*\u001b[0m\u001b[0mkey\u001b[0m\u001b[1;33m,\u001b[0m \u001b[0mtakeable\u001b[0m\u001b[1;33m=\u001b[0m\u001b[0mself\u001b[0m\u001b[1;33m.\u001b[0m\u001b[0m_takeable\u001b[0m\u001b[1;33m)\u001b[0m\u001b[1;33m\u001b[0m\u001b[1;33m\u001b[0m\u001b[0m\n\u001b[0m\u001b[0;32m   2104\u001b[0m \u001b[1;33m\u001b[0m\u001b[0m\n\u001b[0;32m   2105\u001b[0m     \u001b[1;32mdef\u001b[0m \u001b[0m__setitem__\u001b[0m\u001b[1;33m(\u001b[0m\u001b[0mself\u001b[0m\u001b[1;33m,\u001b[0m \u001b[0mkey\u001b[0m\u001b[1;33m,\u001b[0m \u001b[0mvalue\u001b[0m\u001b[1;33m)\u001b[0m\u001b[1;33m:\u001b[0m\u001b[1;33m\u001b[0m\u001b[1;33m\u001b[0m\u001b[0m\n",
      "\u001b[1;32mc:\\users\\jonathan_k\\appdata\\local\\programs\\python\\python39\\lib\\site-packages\\pandas\\core\\frame.py\u001b[0m in \u001b[0;36m_get_value\u001b[1;34m(self, index, col, takeable)\u001b[0m\n\u001b[0;32m   3127\u001b[0m             \u001b[1;32mreturn\u001b[0m \u001b[0mseries\u001b[0m\u001b[1;33m.\u001b[0m\u001b[0m_values\u001b[0m\u001b[1;33m[\u001b[0m\u001b[0mindex\u001b[0m\u001b[1;33m]\u001b[0m\u001b[1;33m\u001b[0m\u001b[1;33m\u001b[0m\u001b[0m\n\u001b[0;32m   3128\u001b[0m \u001b[1;33m\u001b[0m\u001b[0m\n\u001b[1;32m-> 3129\u001b[1;33m         \u001b[0mseries\u001b[0m \u001b[1;33m=\u001b[0m \u001b[0mself\u001b[0m\u001b[1;33m.\u001b[0m\u001b[0m_get_item_cache\u001b[0m\u001b[1;33m(\u001b[0m\u001b[0mcol\u001b[0m\u001b[1;33m)\u001b[0m\u001b[1;33m\u001b[0m\u001b[1;33m\u001b[0m\u001b[0m\n\u001b[0m\u001b[0;32m   3130\u001b[0m         \u001b[0mengine\u001b[0m \u001b[1;33m=\u001b[0m \u001b[0mself\u001b[0m\u001b[1;33m.\u001b[0m\u001b[0mindex\u001b[0m\u001b[1;33m.\u001b[0m\u001b[0m_engine\u001b[0m\u001b[1;33m\u001b[0m\u001b[1;33m\u001b[0m\u001b[0m\n\u001b[0;32m   3131\u001b[0m \u001b[1;33m\u001b[0m\u001b[0m\n",
      "\u001b[1;32mc:\\users\\jonathan_k\\appdata\\local\\programs\\python\\python39\\lib\\site-packages\\pandas\\core\\generic.py\u001b[0m in \u001b[0;36m_get_item_cache\u001b[1;34m(self, item)\u001b[0m\n\u001b[0;32m   3790\u001b[0m             \u001b[1;31m#  pending resolution of GH#33047\u001b[0m\u001b[1;33m\u001b[0m\u001b[1;33m\u001b[0m\u001b[1;33m\u001b[0m\u001b[0m\n\u001b[0;32m   3791\u001b[0m \u001b[1;33m\u001b[0m\u001b[0m\n\u001b[1;32m-> 3792\u001b[1;33m             \u001b[0mloc\u001b[0m \u001b[1;33m=\u001b[0m \u001b[0mself\u001b[0m\u001b[1;33m.\u001b[0m\u001b[0mcolumns\u001b[0m\u001b[1;33m.\u001b[0m\u001b[0mget_loc\u001b[0m\u001b[1;33m(\u001b[0m\u001b[0mitem\u001b[0m\u001b[1;33m)\u001b[0m\u001b[1;33m\u001b[0m\u001b[1;33m\u001b[0m\u001b[0m\n\u001b[0m\u001b[0;32m   3793\u001b[0m             \u001b[0mvalues\u001b[0m \u001b[1;33m=\u001b[0m \u001b[0mself\u001b[0m\u001b[1;33m.\u001b[0m\u001b[0m_mgr\u001b[0m\u001b[1;33m.\u001b[0m\u001b[0miget\u001b[0m\u001b[1;33m(\u001b[0m\u001b[0mloc\u001b[0m\u001b[1;33m)\u001b[0m\u001b[1;33m\u001b[0m\u001b[1;33m\u001b[0m\u001b[0m\n\u001b[0;32m   3794\u001b[0m             \u001b[0mres\u001b[0m \u001b[1;33m=\u001b[0m \u001b[0mself\u001b[0m\u001b[1;33m.\u001b[0m\u001b[0m_box_col_values\u001b[0m\u001b[1;33m(\u001b[0m\u001b[0mvalues\u001b[0m\u001b[1;33m,\u001b[0m \u001b[0mloc\u001b[0m\u001b[1;33m)\u001b[0m\u001b[1;33m.\u001b[0m\u001b[0m__finalize__\u001b[0m\u001b[1;33m(\u001b[0m\u001b[0mself\u001b[0m\u001b[1;33m)\u001b[0m\u001b[1;33m\u001b[0m\u001b[1;33m\u001b[0m\u001b[0m\n",
      "\u001b[1;32mc:\\users\\jonathan_k\\appdata\\local\\programs\\python\\python39\\lib\\site-packages\\pandas\\core\\indexes\\base.py\u001b[0m in \u001b[0;36mget_loc\u001b[1;34m(self, key, method, tolerance)\u001b[0m\n\u001b[0;32m   3080\u001b[0m                 \u001b[1;32mreturn\u001b[0m \u001b[0mself\u001b[0m\u001b[1;33m.\u001b[0m\u001b[0m_engine\u001b[0m\u001b[1;33m.\u001b[0m\u001b[0mget_loc\u001b[0m\u001b[1;33m(\u001b[0m\u001b[0mcasted_key\u001b[0m\u001b[1;33m)\u001b[0m\u001b[1;33m\u001b[0m\u001b[1;33m\u001b[0m\u001b[0m\n\u001b[0;32m   3081\u001b[0m             \u001b[1;32mexcept\u001b[0m \u001b[0mKeyError\u001b[0m \u001b[1;32mas\u001b[0m \u001b[0merr\u001b[0m\u001b[1;33m:\u001b[0m\u001b[1;33m\u001b[0m\u001b[1;33m\u001b[0m\u001b[0m\n\u001b[1;32m-> 3082\u001b[1;33m                 \u001b[1;32mraise\u001b[0m \u001b[0mKeyError\u001b[0m\u001b[1;33m(\u001b[0m\u001b[0mkey\u001b[0m\u001b[1;33m)\u001b[0m \u001b[1;32mfrom\u001b[0m \u001b[0merr\u001b[0m\u001b[1;33m\u001b[0m\u001b[1;33m\u001b[0m\u001b[0m\n\u001b[0m\u001b[0;32m   3083\u001b[0m \u001b[1;33m\u001b[0m\u001b[0m\n\u001b[0;32m   3084\u001b[0m         \u001b[1;32mif\u001b[0m \u001b[0mtolerance\u001b[0m \u001b[1;32mis\u001b[0m \u001b[1;32mnot\u001b[0m \u001b[1;32mNone\u001b[0m\u001b[1;33m:\u001b[0m\u001b[1;33m\u001b[0m\u001b[1;33m\u001b[0m\u001b[0m\n",
      "\u001b[1;31mKeyError\u001b[0m: 'new-cases'"
     ]
    }
   ],
   "source": [
    "covid.at[190, 'new_cases'] = (covid.at[172, 'new-cases'] + covid.at[172, 'new_cases']) / 2 # Here we are changing data in our data frames.."
   ]
  },
  {
   "cell_type": "code",
   "execution_count": 57,
   "id": "8ae698a8-ecd1-48ea-91e5-e6fc8b5d0a6b",
   "metadata": {},
   "outputs": [
    {
     "data": {
      "text/plain": [
       "0    2020-04-21\n",
       "1    2020-04-22\n",
       "2    2020-04-23\n",
       "3    2020-04-24\n",
       "4    2020-04-25\n",
       "5    2020-04-26\n",
       "6    2020-04-27\n",
       "7    2020-04-28\n",
       "Name: date, dtype: object"
      ]
     },
     "execution_count": 57,
     "metadata": {},
     "output_type": "execute_result"
    }
   ],
   "source": [
    "covid.date"
   ]
  },
  {
   "cell_type": "code",
   "execution_count": 58,
   "id": "523bcfd9-3115-4d09-b38f-36287fc931ba",
   "metadata": {},
   "outputs": [],
   "source": [
    "covid['date'] = pd.to_datetime(covid.date)"
   ]
  },
  {
   "cell_type": "code",
   "execution_count": 59,
   "id": "5e3bf933-c68f-4033-b3d2-c6afa7e4a9f8",
   "metadata": {},
   "outputs": [
    {
     "data": {
      "text/plain": [
       "0   2020-04-21\n",
       "1   2020-04-22\n",
       "2   2020-04-23\n",
       "3   2020-04-24\n",
       "4   2020-04-25\n",
       "5   2020-04-26\n",
       "6   2020-04-27\n",
       "7   2020-04-28\n",
       "Name: date, dtype: datetime64[ns]"
      ]
     },
     "execution_count": 59,
     "metadata": {},
     "output_type": "execute_result"
    }
   ],
   "source": [
    "covid['date']"
   ]
  },
  {
   "cell_type": "code",
   "execution_count": 60,
   "id": "842d5de1-f228-477e-983b-d38e6ea8c0bc",
   "metadata": {},
   "outputs": [],
   "source": [
    "covid['year'] = pd.DatetimeIndex(covid.date).year\n",
    "covid['month'] = pd.DatetimeIndex(covid.date).month\n",
    "covid['day'] = pd.DatetimeIndex(covid.date).day\n",
    "covid['weekday'] = pd.DatetimeIndex(covid.date).weekday"
   ]
  },
  {
   "cell_type": "code",
   "execution_count": 61,
   "id": "be1d13be-940e-4be1-a1af-17e59dc81b1f",
   "metadata": {},
   "outputs": [
    {
     "data": {
      "text/html": [
       "<div>\n",
       "<style scoped>\n",
       "    .dataframe tbody tr th:only-of-type {\n",
       "        vertical-align: middle;\n",
       "    }\n",
       "\n",
       "    .dataframe tbody tr th {\n",
       "        vertical-align: top;\n",
       "    }\n",
       "\n",
       "    .dataframe thead th {\n",
       "        text-align: right;\n",
       "    }\n",
       "</style>\n",
       "<table border=\"1\" class=\"dataframe\">\n",
       "  <thead>\n",
       "    <tr style=\"text-align: right;\">\n",
       "      <th></th>\n",
       "      <th>date</th>\n",
       "      <th>new_cases</th>\n",
       "      <th>new_deaths</th>\n",
       "      <th>new_tests</th>\n",
       "      <th>year</th>\n",
       "      <th>month</th>\n",
       "      <th>day</th>\n",
       "      <th>weekday</th>\n",
       "    </tr>\n",
       "  </thead>\n",
       "  <tbody>\n",
       "    <tr>\n",
       "      <th>0</th>\n",
       "      <td>2020-04-21</td>\n",
       "      <td>2256.0</td>\n",
       "      <td>454.0</td>\n",
       "      <td>28095.0</td>\n",
       "      <td>2020</td>\n",
       "      <td>4</td>\n",
       "      <td>21</td>\n",
       "      <td>1</td>\n",
       "    </tr>\n",
       "    <tr>\n",
       "      <th>1</th>\n",
       "      <td>2020-04-22</td>\n",
       "      <td>2729.0</td>\n",
       "      <td>534.0</td>\n",
       "      <td>44248.0</td>\n",
       "      <td>2020</td>\n",
       "      <td>4</td>\n",
       "      <td>22</td>\n",
       "      <td>2</td>\n",
       "    </tr>\n",
       "    <tr>\n",
       "      <th>2</th>\n",
       "      <td>2020-04-23</td>\n",
       "      <td>3370.0</td>\n",
       "      <td>437.0</td>\n",
       "      <td>37083.0</td>\n",
       "      <td>2020</td>\n",
       "      <td>4</td>\n",
       "      <td>23</td>\n",
       "      <td>3</td>\n",
       "    </tr>\n",
       "    <tr>\n",
       "      <th>3</th>\n",
       "      <td>2020-04-24</td>\n",
       "      <td>2646.0</td>\n",
       "      <td>464.0</td>\n",
       "      <td>95273.0</td>\n",
       "      <td>2020</td>\n",
       "      <td>4</td>\n",
       "      <td>24</td>\n",
       "      <td>4</td>\n",
       "    </tr>\n",
       "    <tr>\n",
       "      <th>4</th>\n",
       "      <td>2020-04-25</td>\n",
       "      <td>3021.0</td>\n",
       "      <td>420.0</td>\n",
       "      <td>38676.0</td>\n",
       "      <td>2020</td>\n",
       "      <td>4</td>\n",
       "      <td>25</td>\n",
       "      <td>5</td>\n",
       "    </tr>\n",
       "    <tr>\n",
       "      <th>5</th>\n",
       "      <td>2020-04-26</td>\n",
       "      <td>2357.0</td>\n",
       "      <td>415.0</td>\n",
       "      <td>24113.0</td>\n",
       "      <td>2020</td>\n",
       "      <td>4</td>\n",
       "      <td>26</td>\n",
       "      <td>6</td>\n",
       "    </tr>\n",
       "    <tr>\n",
       "      <th>6</th>\n",
       "      <td>2020-04-27</td>\n",
       "      <td>2324.0</td>\n",
       "      <td>260.0</td>\n",
       "      <td>26678.0</td>\n",
       "      <td>2020</td>\n",
       "      <td>4</td>\n",
       "      <td>27</td>\n",
       "      <td>0</td>\n",
       "    </tr>\n",
       "    <tr>\n",
       "      <th>7</th>\n",
       "      <td>2020-04-28</td>\n",
       "      <td>1739.0</td>\n",
       "      <td>333.0</td>\n",
       "      <td>37554.0</td>\n",
       "      <td>2020</td>\n",
       "      <td>4</td>\n",
       "      <td>28</td>\n",
       "      <td>1</td>\n",
       "    </tr>\n",
       "  </tbody>\n",
       "</table>\n",
       "</div>"
      ],
      "text/plain": [
       "        date  new_cases  new_deaths  new_tests  year  month  day  weekday\n",
       "0 2020-04-21     2256.0       454.0    28095.0  2020      4   21        1\n",
       "1 2020-04-22     2729.0       534.0    44248.0  2020      4   22        2\n",
       "2 2020-04-23     3370.0       437.0    37083.0  2020      4   23        3\n",
       "3 2020-04-24     2646.0       464.0    95273.0  2020      4   24        4\n",
       "4 2020-04-25     3021.0       420.0    38676.0  2020      4   25        5\n",
       "5 2020-04-26     2357.0       415.0    24113.0  2020      4   26        6\n",
       "6 2020-04-27     2324.0       260.0    26678.0  2020      4   27        0\n",
       "7 2020-04-28     1739.0       333.0    37554.0  2020      4   28        1"
      ]
     },
     "execution_count": 61,
     "metadata": {},
     "output_type": "execute_result"
    }
   ],
   "source": [
    "covid"
   ]
  },
  {
   "cell_type": "code",
   "execution_count": 62,
   "id": "117a7da4-502b-4ea8-8fd3-357bc15497fe",
   "metadata": {},
   "outputs": [
    {
     "data": {
      "text/html": [
       "<div>\n",
       "<style scoped>\n",
       "    .dataframe tbody tr th:only-of-type {\n",
       "        vertical-align: middle;\n",
       "    }\n",
       "\n",
       "    .dataframe tbody tr th {\n",
       "        vertical-align: top;\n",
       "    }\n",
       "\n",
       "    .dataframe thead th {\n",
       "        text-align: right;\n",
       "    }\n",
       "</style>\n",
       "<table border=\"1\" class=\"dataframe\">\n",
       "  <thead>\n",
       "    <tr style=\"text-align: right;\">\n",
       "      <th></th>\n",
       "      <th>date</th>\n",
       "      <th>new_cases</th>\n",
       "      <th>new_deaths</th>\n",
       "      <th>new_tests</th>\n",
       "      <th>year</th>\n",
       "      <th>month</th>\n",
       "      <th>day</th>\n",
       "      <th>weekday</th>\n",
       "    </tr>\n",
       "  </thead>\n",
       "  <tbody>\n",
       "    <tr>\n",
       "      <th>0</th>\n",
       "      <td>2020-04-21</td>\n",
       "      <td>2256.0</td>\n",
       "      <td>454.0</td>\n",
       "      <td>28095.0</td>\n",
       "      <td>2020</td>\n",
       "      <td>4</td>\n",
       "      <td>21</td>\n",
       "      <td>1</td>\n",
       "    </tr>\n",
       "    <tr>\n",
       "      <th>1</th>\n",
       "      <td>2020-04-22</td>\n",
       "      <td>2729.0</td>\n",
       "      <td>534.0</td>\n",
       "      <td>44248.0</td>\n",
       "      <td>2020</td>\n",
       "      <td>4</td>\n",
       "      <td>22</td>\n",
       "      <td>2</td>\n",
       "    </tr>\n",
       "    <tr>\n",
       "      <th>2</th>\n",
       "      <td>2020-04-23</td>\n",
       "      <td>3370.0</td>\n",
       "      <td>437.0</td>\n",
       "      <td>37083.0</td>\n",
       "      <td>2020</td>\n",
       "      <td>4</td>\n",
       "      <td>23</td>\n",
       "      <td>3</td>\n",
       "    </tr>\n",
       "    <tr>\n",
       "      <th>3</th>\n",
       "      <td>2020-04-24</td>\n",
       "      <td>2646.0</td>\n",
       "      <td>464.0</td>\n",
       "      <td>95273.0</td>\n",
       "      <td>2020</td>\n",
       "      <td>4</td>\n",
       "      <td>24</td>\n",
       "      <td>4</td>\n",
       "    </tr>\n",
       "    <tr>\n",
       "      <th>4</th>\n",
       "      <td>2020-04-25</td>\n",
       "      <td>3021.0</td>\n",
       "      <td>420.0</td>\n",
       "      <td>38676.0</td>\n",
       "      <td>2020</td>\n",
       "      <td>4</td>\n",
       "      <td>25</td>\n",
       "      <td>5</td>\n",
       "    </tr>\n",
       "    <tr>\n",
       "      <th>5</th>\n",
       "      <td>2020-04-26</td>\n",
       "      <td>2357.0</td>\n",
       "      <td>415.0</td>\n",
       "      <td>24113.0</td>\n",
       "      <td>2020</td>\n",
       "      <td>4</td>\n",
       "      <td>26</td>\n",
       "      <td>6</td>\n",
       "    </tr>\n",
       "    <tr>\n",
       "      <th>6</th>\n",
       "      <td>2020-04-27</td>\n",
       "      <td>2324.0</td>\n",
       "      <td>260.0</td>\n",
       "      <td>26678.0</td>\n",
       "      <td>2020</td>\n",
       "      <td>4</td>\n",
       "      <td>27</td>\n",
       "      <td>0</td>\n",
       "    </tr>\n",
       "    <tr>\n",
       "      <th>7</th>\n",
       "      <td>2020-04-28</td>\n",
       "      <td>1739.0</td>\n",
       "      <td>333.0</td>\n",
       "      <td>37554.0</td>\n",
       "      <td>2020</td>\n",
       "      <td>4</td>\n",
       "      <td>28</td>\n",
       "      <td>1</td>\n",
       "    </tr>\n",
       "  </tbody>\n",
       "</table>\n",
       "</div>"
      ],
      "text/plain": [
       "        date  new_cases  new_deaths  new_tests  year  month  day  weekday\n",
       "0 2020-04-21     2256.0       454.0    28095.0  2020      4   21        1\n",
       "1 2020-04-22     2729.0       534.0    44248.0  2020      4   22        2\n",
       "2 2020-04-23     3370.0       437.0    37083.0  2020      4   23        3\n",
       "3 2020-04-24     2646.0       464.0    95273.0  2020      4   24        4\n",
       "4 2020-04-25     3021.0       420.0    38676.0  2020      4   25        5\n",
       "5 2020-04-26     2357.0       415.0    24113.0  2020      4   26        6\n",
       "6 2020-04-27     2324.0       260.0    26678.0  2020      4   27        0\n",
       "7 2020-04-28     1739.0       333.0    37554.0  2020      4   28        1"
      ]
     },
     "execution_count": 62,
     "metadata": {},
     "output_type": "execute_result"
    }
   ],
   "source": [
    "covid_may = covid[covid.month == 4]\n",
    "covid_may"
   ]
  },
  {
   "cell_type": "code",
   "execution_count": 63,
   "id": "50514dea-3226-4d21-ac65-d418f3867ecc",
   "metadata": {},
   "outputs": [
    {
     "data": {
      "text/html": [
       "<div>\n",
       "<style scoped>\n",
       "    .dataframe tbody tr th:only-of-type {\n",
       "        vertical-align: middle;\n",
       "    }\n",
       "\n",
       "    .dataframe tbody tr th {\n",
       "        vertical-align: top;\n",
       "    }\n",
       "\n",
       "    .dataframe thead th {\n",
       "        text-align: right;\n",
       "    }\n",
       "</style>\n",
       "<table border=\"1\" class=\"dataframe\">\n",
       "  <thead>\n",
       "    <tr style=\"text-align: right;\">\n",
       "      <th></th>\n",
       "      <th>new_cases</th>\n",
       "      <th>new_deaths</th>\n",
       "      <th>new_tests</th>\n",
       "    </tr>\n",
       "  </thead>\n",
       "  <tbody>\n",
       "    <tr>\n",
       "      <th>0</th>\n",
       "      <td>2256.0</td>\n",
       "      <td>454.0</td>\n",
       "      <td>28095.0</td>\n",
       "    </tr>\n",
       "    <tr>\n",
       "      <th>1</th>\n",
       "      <td>2729.0</td>\n",
       "      <td>534.0</td>\n",
       "      <td>44248.0</td>\n",
       "    </tr>\n",
       "    <tr>\n",
       "      <th>2</th>\n",
       "      <td>3370.0</td>\n",
       "      <td>437.0</td>\n",
       "      <td>37083.0</td>\n",
       "    </tr>\n",
       "    <tr>\n",
       "      <th>3</th>\n",
       "      <td>2646.0</td>\n",
       "      <td>464.0</td>\n",
       "      <td>95273.0</td>\n",
       "    </tr>\n",
       "    <tr>\n",
       "      <th>4</th>\n",
       "      <td>3021.0</td>\n",
       "      <td>420.0</td>\n",
       "      <td>38676.0</td>\n",
       "    </tr>\n",
       "    <tr>\n",
       "      <th>5</th>\n",
       "      <td>2357.0</td>\n",
       "      <td>415.0</td>\n",
       "      <td>24113.0</td>\n",
       "    </tr>\n",
       "    <tr>\n",
       "      <th>6</th>\n",
       "      <td>2324.0</td>\n",
       "      <td>260.0</td>\n",
       "      <td>26678.0</td>\n",
       "    </tr>\n",
       "    <tr>\n",
       "      <th>7</th>\n",
       "      <td>1739.0</td>\n",
       "      <td>333.0</td>\n",
       "      <td>37554.0</td>\n",
       "    </tr>\n",
       "  </tbody>\n",
       "</table>\n",
       "</div>"
      ],
      "text/plain": [
       "   new_cases  new_deaths  new_tests\n",
       "0     2256.0       454.0    28095.0\n",
       "1     2729.0       534.0    44248.0\n",
       "2     3370.0       437.0    37083.0\n",
       "3     2646.0       464.0    95273.0\n",
       "4     3021.0       420.0    38676.0\n",
       "5     2357.0       415.0    24113.0\n",
       "6     2324.0       260.0    26678.0\n",
       "7     1739.0       333.0    37554.0"
      ]
     },
     "execution_count": 63,
     "metadata": {},
     "output_type": "execute_result"
    }
   ],
   "source": [
    "covid_may_metrics = covid_may[['new_cases', 'new_deaths', 'new_tests']]\n",
    "covid_may_metrics"
   ]
  },
  {
   "cell_type": "code",
   "execution_count": 64,
   "id": "0bb0fc7d-daae-49f0-b931-38d8ef0e03a6",
   "metadata": {},
   "outputs": [
    {
     "data": {
      "text/plain": [
       "new_cases      20442.0\n",
       "new_deaths      3317.0\n",
       "new_tests     331720.0\n",
       "dtype: float64"
      ]
     },
     "execution_count": 64,
     "metadata": {},
     "output_type": "execute_result"
    }
   ],
   "source": [
    "covid_may_totals = covid_may_metrics.sum()\n",
    "covid_may_totals"
   ]
  },
  {
   "cell_type": "code",
   "execution_count": 65,
   "id": "09e065ac-783c-4740-a17e-fee31e5a8bb2",
   "metadata": {},
   "outputs": [
    {
     "data": {
      "text/plain": [
       "pandas.core.series.Series"
      ]
     },
     "execution_count": 65,
     "metadata": {},
     "output_type": "execute_result"
    }
   ],
   "source": [
    "type(covid_may_totals)"
   ]
  },
  {
   "cell_type": "code",
   "execution_count": 66,
   "id": "d849ec75-1217-4ad7-a6b3-a3be6779377c",
   "metadata": {},
   "outputs": [
    {
     "data": {
      "text/plain": [
       "new_cases      20442.0\n",
       "new_deaths      3317.0\n",
       "new_tests     331720.0\n",
       "year           16160.0\n",
       "month             32.0\n",
       "day              196.0\n",
       "weekday           22.0\n",
       "dtype: float64"
      ]
     },
     "execution_count": 66,
     "metadata": {},
     "output_type": "execute_result"
    }
   ],
   "source": [
    "covid.sum()"
   ]
  },
  {
   "cell_type": "code",
   "execution_count": 67,
   "id": "05822b26-40e4-4ecf-9c1c-aa9dcb594c7c",
   "metadata": {},
   "outputs": [
    {
     "data": {
      "text/plain": [
       "2555.25"
      ]
     },
     "execution_count": 67,
     "metadata": {},
     "output_type": "execute_result"
    }
   ],
   "source": [
    "# Overall average cases\n",
    "covid.new_cases.mean()"
   ]
  },
  {
   "cell_type": "code",
   "execution_count": 68,
   "id": "6f43c4cf-0e05-4369-95c2-90c6db330a8d",
   "metadata": {},
   "outputs": [
    {
     "data": {
      "text/plain": [
       "2357.0"
      ]
     },
     "execution_count": 68,
     "metadata": {},
     "output_type": "execute_result"
    }
   ],
   "source": [
    "# Average For Sundays\n",
    "covid[covid.weekday == 6].new_cases.mean()"
   ]
  },
  {
   "cell_type": "code",
   "execution_count": 69,
   "id": "0af226d6-18a1-4f89-b637-2a97013f7a7c",
   "metadata": {},
   "outputs": [],
   "source": [
    "monthly_groups = covid.groupby('month')"
   ]
  },
  {
   "cell_type": "code",
   "execution_count": 70,
   "id": "59ded6f8-fdae-439f-abc0-7b6f5879c60a",
   "metadata": {},
   "outputs": [
    {
     "data": {
      "text/html": [
       "<div>\n",
       "<style scoped>\n",
       "    .dataframe tbody tr th:only-of-type {\n",
       "        vertical-align: middle;\n",
       "    }\n",
       "\n",
       "    .dataframe tbody tr th {\n",
       "        vertical-align: top;\n",
       "    }\n",
       "\n",
       "    .dataframe thead th {\n",
       "        text-align: right;\n",
       "    }\n",
       "</style>\n",
       "<table border=\"1\" class=\"dataframe\">\n",
       "  <thead>\n",
       "    <tr style=\"text-align: right;\">\n",
       "      <th></th>\n",
       "      <th>new_cases</th>\n",
       "      <th>new_deaths</th>\n",
       "      <th>new_tests</th>\n",
       "    </tr>\n",
       "    <tr>\n",
       "      <th>month</th>\n",
       "      <th></th>\n",
       "      <th></th>\n",
       "      <th></th>\n",
       "    </tr>\n",
       "  </thead>\n",
       "  <tbody>\n",
       "    <tr>\n",
       "      <th>4</th>\n",
       "      <td>20442.0</td>\n",
       "      <td>3317.0</td>\n",
       "      <td>331720.0</td>\n",
       "    </tr>\n",
       "  </tbody>\n",
       "</table>\n",
       "</div>"
      ],
      "text/plain": [
       "       new_cases  new_deaths  new_tests\n",
       "month                                  \n",
       "4        20442.0      3317.0   331720.0"
      ]
     },
     "execution_count": 70,
     "metadata": {},
     "output_type": "execute_result"
    }
   ],
   "source": [
    "monthly_groups[['new_cases', 'new_deaths', 'new_tests']].sum() # The groupby function help sum up data monthly per month"
   ]
  },
  {
   "cell_type": "code",
   "execution_count": 71,
   "id": "2824d250-5f38-4e3b-9921-5d82679d9a3d",
   "metadata": {},
   "outputs": [
    {
     "data": {
      "text/plain": [
       "20442.0"
      ]
     },
     "execution_count": 71,
     "metadata": {},
     "output_type": "execute_result"
    }
   ],
   "source": [
    "covid['new_cases'].sum()"
   ]
  },
  {
   "cell_type": "code",
   "execution_count": 72,
   "id": "8178d852-733c-4ca2-b357-21be66ea9b02",
   "metadata": {},
   "outputs": [],
   "source": [
    "weekly_groups = covid.groupby('weekday')"
   ]
  },
  {
   "cell_type": "code",
   "execution_count": 73,
   "id": "ce329aa6-f9a0-4054-90b1-2ac0b7271825",
   "metadata": {},
   "outputs": [
    {
     "data": {
      "text/html": [
       "<div>\n",
       "<style scoped>\n",
       "    .dataframe tbody tr th:only-of-type {\n",
       "        vertical-align: middle;\n",
       "    }\n",
       "\n",
       "    .dataframe tbody tr th {\n",
       "        vertical-align: top;\n",
       "    }\n",
       "\n",
       "    .dataframe thead th {\n",
       "        text-align: right;\n",
       "    }\n",
       "</style>\n",
       "<table border=\"1\" class=\"dataframe\">\n",
       "  <thead>\n",
       "    <tr style=\"text-align: right;\">\n",
       "      <th></th>\n",
       "      <th>new_cases</th>\n",
       "      <th>new_deaths</th>\n",
       "      <th>new_tests</th>\n",
       "    </tr>\n",
       "    <tr>\n",
       "      <th>weekday</th>\n",
       "      <th></th>\n",
       "      <th></th>\n",
       "      <th></th>\n",
       "    </tr>\n",
       "  </thead>\n",
       "  <tbody>\n",
       "    <tr>\n",
       "      <th>0</th>\n",
       "      <td>2324.0</td>\n",
       "      <td>260.0</td>\n",
       "      <td>26678.0</td>\n",
       "    </tr>\n",
       "    <tr>\n",
       "      <th>1</th>\n",
       "      <td>1997.5</td>\n",
       "      <td>393.5</td>\n",
       "      <td>32824.5</td>\n",
       "    </tr>\n",
       "    <tr>\n",
       "      <th>2</th>\n",
       "      <td>2729.0</td>\n",
       "      <td>534.0</td>\n",
       "      <td>44248.0</td>\n",
       "    </tr>\n",
       "    <tr>\n",
       "      <th>3</th>\n",
       "      <td>3370.0</td>\n",
       "      <td>437.0</td>\n",
       "      <td>37083.0</td>\n",
       "    </tr>\n",
       "    <tr>\n",
       "      <th>4</th>\n",
       "      <td>2646.0</td>\n",
       "      <td>464.0</td>\n",
       "      <td>95273.0</td>\n",
       "    </tr>\n",
       "    <tr>\n",
       "      <th>5</th>\n",
       "      <td>3021.0</td>\n",
       "      <td>420.0</td>\n",
       "      <td>38676.0</td>\n",
       "    </tr>\n",
       "    <tr>\n",
       "      <th>6</th>\n",
       "      <td>2357.0</td>\n",
       "      <td>415.0</td>\n",
       "      <td>24113.0</td>\n",
       "    </tr>\n",
       "  </tbody>\n",
       "</table>\n",
       "</div>"
      ],
      "text/plain": [
       "         new_cases  new_deaths  new_tests\n",
       "weekday                                  \n",
       "0           2324.0       260.0    26678.0\n",
       "1           1997.5       393.5    32824.5\n",
       "2           2729.0       534.0    44248.0\n",
       "3           3370.0       437.0    37083.0\n",
       "4           2646.0       464.0    95273.0\n",
       "5           3021.0       420.0    38676.0\n",
       "6           2357.0       415.0    24113.0"
      ]
     },
     "execution_count": 73,
     "metadata": {},
     "output_type": "execute_result"
    }
   ],
   "source": [
    "weekly_groups[['new_cases', 'new_deaths', 'new_tests']].mean() # The groupby function help sum up data monthly per day"
   ]
  },
  {
   "cell_type": "markdown",
   "id": "1337d4fd-8323-4a07-9867-6411aee70c6b",
   "metadata": {},
   "source": [
    "## Cumsum is having the total but added from the the top to the least and all displayed until the end.."
   ]
  },
  {
   "cell_type": "code",
   "execution_count": 74,
   "id": "4cfc8a2a-43f1-4724-ac93-db7a8d0b2020",
   "metadata": {},
   "outputs": [],
   "source": [
    "covid['total_cases'] = covid.new_cases.cumsum()"
   ]
  },
  {
   "cell_type": "code",
   "execution_count": 75,
   "id": "d6299167-4784-4245-b655-143db0b3d514",
   "metadata": {},
   "outputs": [],
   "source": [
    "covid['total_deaths'] = covid.new_deaths.cumsum()"
   ]
  },
  {
   "cell_type": "code",
   "execution_count": 76,
   "id": "e68c2cb0-7fba-4660-90b1-d52b541dd0ee",
   "metadata": {},
   "outputs": [],
   "source": [
    "covid['total_tests'] = covid.new_tests.cumsum() + initial_tests"
   ]
  },
  {
   "cell_type": "code",
   "execution_count": 77,
   "id": "21334057-3236-4d2e-b61d-4d2d41d02740",
   "metadata": {},
   "outputs": [
    {
     "data": {
      "text/html": [
       "<div>\n",
       "<style scoped>\n",
       "    .dataframe tbody tr th:only-of-type {\n",
       "        vertical-align: middle;\n",
       "    }\n",
       "\n",
       "    .dataframe tbody tr th {\n",
       "        vertical-align: top;\n",
       "    }\n",
       "\n",
       "    .dataframe thead th {\n",
       "        text-align: right;\n",
       "    }\n",
       "</style>\n",
       "<table border=\"1\" class=\"dataframe\">\n",
       "  <thead>\n",
       "    <tr style=\"text-align: right;\">\n",
       "      <th></th>\n",
       "      <th>date</th>\n",
       "      <th>new_cases</th>\n",
       "      <th>new_deaths</th>\n",
       "      <th>new_tests</th>\n",
       "      <th>year</th>\n",
       "      <th>month</th>\n",
       "      <th>day</th>\n",
       "      <th>weekday</th>\n",
       "      <th>total_cases</th>\n",
       "      <th>total_deaths</th>\n",
       "      <th>total_tests</th>\n",
       "    </tr>\n",
       "  </thead>\n",
       "  <tbody>\n",
       "    <tr>\n",
       "      <th>0</th>\n",
       "      <td>2020-04-21</td>\n",
       "      <td>2256.0</td>\n",
       "      <td>454.0</td>\n",
       "      <td>28095.0</td>\n",
       "      <td>2020</td>\n",
       "      <td>4</td>\n",
       "      <td>21</td>\n",
       "      <td>1</td>\n",
       "      <td>2256.0</td>\n",
       "      <td>454.0</td>\n",
       "      <td>30095.0</td>\n",
       "    </tr>\n",
       "    <tr>\n",
       "      <th>1</th>\n",
       "      <td>2020-04-22</td>\n",
       "      <td>2729.0</td>\n",
       "      <td>534.0</td>\n",
       "      <td>44248.0</td>\n",
       "      <td>2020</td>\n",
       "      <td>4</td>\n",
       "      <td>22</td>\n",
       "      <td>2</td>\n",
       "      <td>4985.0</td>\n",
       "      <td>988.0</td>\n",
       "      <td>74343.0</td>\n",
       "    </tr>\n",
       "    <tr>\n",
       "      <th>2</th>\n",
       "      <td>2020-04-23</td>\n",
       "      <td>3370.0</td>\n",
       "      <td>437.0</td>\n",
       "      <td>37083.0</td>\n",
       "      <td>2020</td>\n",
       "      <td>4</td>\n",
       "      <td>23</td>\n",
       "      <td>3</td>\n",
       "      <td>8355.0</td>\n",
       "      <td>1425.0</td>\n",
       "      <td>111426.0</td>\n",
       "    </tr>\n",
       "    <tr>\n",
       "      <th>3</th>\n",
       "      <td>2020-04-24</td>\n",
       "      <td>2646.0</td>\n",
       "      <td>464.0</td>\n",
       "      <td>95273.0</td>\n",
       "      <td>2020</td>\n",
       "      <td>4</td>\n",
       "      <td>24</td>\n",
       "      <td>4</td>\n",
       "      <td>11001.0</td>\n",
       "      <td>1889.0</td>\n",
       "      <td>206699.0</td>\n",
       "    </tr>\n",
       "    <tr>\n",
       "      <th>4</th>\n",
       "      <td>2020-04-25</td>\n",
       "      <td>3021.0</td>\n",
       "      <td>420.0</td>\n",
       "      <td>38676.0</td>\n",
       "      <td>2020</td>\n",
       "      <td>4</td>\n",
       "      <td>25</td>\n",
       "      <td>5</td>\n",
       "      <td>14022.0</td>\n",
       "      <td>2309.0</td>\n",
       "      <td>245375.0</td>\n",
       "    </tr>\n",
       "    <tr>\n",
       "      <th>5</th>\n",
       "      <td>2020-04-26</td>\n",
       "      <td>2357.0</td>\n",
       "      <td>415.0</td>\n",
       "      <td>24113.0</td>\n",
       "      <td>2020</td>\n",
       "      <td>4</td>\n",
       "      <td>26</td>\n",
       "      <td>6</td>\n",
       "      <td>16379.0</td>\n",
       "      <td>2724.0</td>\n",
       "      <td>269488.0</td>\n",
       "    </tr>\n",
       "    <tr>\n",
       "      <th>6</th>\n",
       "      <td>2020-04-27</td>\n",
       "      <td>2324.0</td>\n",
       "      <td>260.0</td>\n",
       "      <td>26678.0</td>\n",
       "      <td>2020</td>\n",
       "      <td>4</td>\n",
       "      <td>27</td>\n",
       "      <td>0</td>\n",
       "      <td>18703.0</td>\n",
       "      <td>2984.0</td>\n",
       "      <td>296166.0</td>\n",
       "    </tr>\n",
       "    <tr>\n",
       "      <th>7</th>\n",
       "      <td>2020-04-28</td>\n",
       "      <td>1739.0</td>\n",
       "      <td>333.0</td>\n",
       "      <td>37554.0</td>\n",
       "      <td>2020</td>\n",
       "      <td>4</td>\n",
       "      <td>28</td>\n",
       "      <td>1</td>\n",
       "      <td>20442.0</td>\n",
       "      <td>3317.0</td>\n",
       "      <td>333720.0</td>\n",
       "    </tr>\n",
       "  </tbody>\n",
       "</table>\n",
       "</div>"
      ],
      "text/plain": [
       "        date  new_cases  new_deaths  new_tests  year  month  day  weekday  \\\n",
       "0 2020-04-21     2256.0       454.0    28095.0  2020      4   21        1   \n",
       "1 2020-04-22     2729.0       534.0    44248.0  2020      4   22        2   \n",
       "2 2020-04-23     3370.0       437.0    37083.0  2020      4   23        3   \n",
       "3 2020-04-24     2646.0       464.0    95273.0  2020      4   24        4   \n",
       "4 2020-04-25     3021.0       420.0    38676.0  2020      4   25        5   \n",
       "5 2020-04-26     2357.0       415.0    24113.0  2020      4   26        6   \n",
       "6 2020-04-27     2324.0       260.0    26678.0  2020      4   27        0   \n",
       "7 2020-04-28     1739.0       333.0    37554.0  2020      4   28        1   \n",
       "\n",
       "   total_cases  total_deaths  total_tests  \n",
       "0       2256.0         454.0      30095.0  \n",
       "1       4985.0         988.0      74343.0  \n",
       "2       8355.0        1425.0     111426.0  \n",
       "3      11001.0        1889.0     206699.0  \n",
       "4      14022.0        2309.0     245375.0  \n",
       "5      16379.0        2724.0     269488.0  \n",
       "6      18703.0        2984.0     296166.0  \n",
       "7      20442.0        3317.0     333720.0  "
      ]
     },
     "execution_count": 77,
     "metadata": {},
     "output_type": "execute_result"
    }
   ],
   "source": [
    "covid"
   ]
  },
  {
   "cell_type": "code",
   "execution_count": 78,
   "id": "0ff338a4-103d-47aa-843b-bc01a1deea49",
   "metadata": {},
   "outputs": [
    {
     "data": {
      "text/plain": [
       "20442.0"
      ]
     },
     "execution_count": 78,
     "metadata": {},
     "output_type": "execute_result"
    }
   ],
   "source": [
    "covid['new_cases'].sum()"
   ]
  },
  {
   "cell_type": "markdown",
   "id": "208c4968-42e4-4e5a-9398-9af48fb9ff70",
   "metadata": {},
   "source": [
    "## Here we are selecting the coutry that we want to acces for we are working with data for one country not.\n",
    "### Locations[Locations.location == 'Uganda\"]"
   ]
  },
  {
   "cell_type": "code",
   "execution_count": 79,
   "id": "3322e9af-f22c-41ab-add1-dce75be57f76",
   "metadata": {},
   "outputs": [],
   "source": [
    "# Here is the link for downloading the file..\n",
    "locations_file = 'https://hub.jovian.ml/wp-content/uploads/2020/09/locations.csv''locations.csv'"
   ]
  },
  {
   "cell_type": "code",
   "execution_count": 80,
   "id": "98b023e7-f95c-4e4f-8fe6-98f96285042d",
   "metadata": {},
   "outputs": [],
   "source": [
    "covid['Location'] = 'Uganda'"
   ]
  },
  {
   "cell_type": "code",
   "execution_count": 81,
   "id": "02e0b3c2-dd5c-4b68-ba24-eb4865ad66a0",
   "metadata": {},
   "outputs": [
    {
     "data": {
      "text/html": [
       "<div>\n",
       "<style scoped>\n",
       "    .dataframe tbody tr th:only-of-type {\n",
       "        vertical-align: middle;\n",
       "    }\n",
       "\n",
       "    .dataframe tbody tr th {\n",
       "        vertical-align: top;\n",
       "    }\n",
       "\n",
       "    .dataframe thead th {\n",
       "        text-align: right;\n",
       "    }\n",
       "</style>\n",
       "<table border=\"1\" class=\"dataframe\">\n",
       "  <thead>\n",
       "    <tr style=\"text-align: right;\">\n",
       "      <th></th>\n",
       "      <th>date</th>\n",
       "      <th>new_cases</th>\n",
       "      <th>new_deaths</th>\n",
       "      <th>new_tests</th>\n",
       "      <th>year</th>\n",
       "      <th>month</th>\n",
       "      <th>day</th>\n",
       "      <th>weekday</th>\n",
       "      <th>total_cases</th>\n",
       "      <th>total_deaths</th>\n",
       "      <th>total_tests</th>\n",
       "      <th>Location</th>\n",
       "    </tr>\n",
       "  </thead>\n",
       "  <tbody>\n",
       "    <tr>\n",
       "      <th>0</th>\n",
       "      <td>2020-04-21</td>\n",
       "      <td>2256.0</td>\n",
       "      <td>454.0</td>\n",
       "      <td>28095.0</td>\n",
       "      <td>2020</td>\n",
       "      <td>4</td>\n",
       "      <td>21</td>\n",
       "      <td>1</td>\n",
       "      <td>2256.0</td>\n",
       "      <td>454.0</td>\n",
       "      <td>30095.0</td>\n",
       "      <td>Uganda</td>\n",
       "    </tr>\n",
       "    <tr>\n",
       "      <th>1</th>\n",
       "      <td>2020-04-22</td>\n",
       "      <td>2729.0</td>\n",
       "      <td>534.0</td>\n",
       "      <td>44248.0</td>\n",
       "      <td>2020</td>\n",
       "      <td>4</td>\n",
       "      <td>22</td>\n",
       "      <td>2</td>\n",
       "      <td>4985.0</td>\n",
       "      <td>988.0</td>\n",
       "      <td>74343.0</td>\n",
       "      <td>Uganda</td>\n",
       "    </tr>\n",
       "    <tr>\n",
       "      <th>2</th>\n",
       "      <td>2020-04-23</td>\n",
       "      <td>3370.0</td>\n",
       "      <td>437.0</td>\n",
       "      <td>37083.0</td>\n",
       "      <td>2020</td>\n",
       "      <td>4</td>\n",
       "      <td>23</td>\n",
       "      <td>3</td>\n",
       "      <td>8355.0</td>\n",
       "      <td>1425.0</td>\n",
       "      <td>111426.0</td>\n",
       "      <td>Uganda</td>\n",
       "    </tr>\n",
       "    <tr>\n",
       "      <th>3</th>\n",
       "      <td>2020-04-24</td>\n",
       "      <td>2646.0</td>\n",
       "      <td>464.0</td>\n",
       "      <td>95273.0</td>\n",
       "      <td>2020</td>\n",
       "      <td>4</td>\n",
       "      <td>24</td>\n",
       "      <td>4</td>\n",
       "      <td>11001.0</td>\n",
       "      <td>1889.0</td>\n",
       "      <td>206699.0</td>\n",
       "      <td>Uganda</td>\n",
       "    </tr>\n",
       "    <tr>\n",
       "      <th>4</th>\n",
       "      <td>2020-04-25</td>\n",
       "      <td>3021.0</td>\n",
       "      <td>420.0</td>\n",
       "      <td>38676.0</td>\n",
       "      <td>2020</td>\n",
       "      <td>4</td>\n",
       "      <td>25</td>\n",
       "      <td>5</td>\n",
       "      <td>14022.0</td>\n",
       "      <td>2309.0</td>\n",
       "      <td>245375.0</td>\n",
       "      <td>Uganda</td>\n",
       "    </tr>\n",
       "    <tr>\n",
       "      <th>5</th>\n",
       "      <td>2020-04-26</td>\n",
       "      <td>2357.0</td>\n",
       "      <td>415.0</td>\n",
       "      <td>24113.0</td>\n",
       "      <td>2020</td>\n",
       "      <td>4</td>\n",
       "      <td>26</td>\n",
       "      <td>6</td>\n",
       "      <td>16379.0</td>\n",
       "      <td>2724.0</td>\n",
       "      <td>269488.0</td>\n",
       "      <td>Uganda</td>\n",
       "    </tr>\n",
       "    <tr>\n",
       "      <th>6</th>\n",
       "      <td>2020-04-27</td>\n",
       "      <td>2324.0</td>\n",
       "      <td>260.0</td>\n",
       "      <td>26678.0</td>\n",
       "      <td>2020</td>\n",
       "      <td>4</td>\n",
       "      <td>27</td>\n",
       "      <td>0</td>\n",
       "      <td>18703.0</td>\n",
       "      <td>2984.0</td>\n",
       "      <td>296166.0</td>\n",
       "      <td>Uganda</td>\n",
       "    </tr>\n",
       "    <tr>\n",
       "      <th>7</th>\n",
       "      <td>2020-04-28</td>\n",
       "      <td>1739.0</td>\n",
       "      <td>333.0</td>\n",
       "      <td>37554.0</td>\n",
       "      <td>2020</td>\n",
       "      <td>4</td>\n",
       "      <td>28</td>\n",
       "      <td>1</td>\n",
       "      <td>20442.0</td>\n",
       "      <td>3317.0</td>\n",
       "      <td>333720.0</td>\n",
       "      <td>Uganda</td>\n",
       "    </tr>\n",
       "  </tbody>\n",
       "</table>\n",
       "</div>"
      ],
      "text/plain": [
       "        date  new_cases  new_deaths  new_tests  year  month  day  weekday  \\\n",
       "0 2020-04-21     2256.0       454.0    28095.0  2020      4   21        1   \n",
       "1 2020-04-22     2729.0       534.0    44248.0  2020      4   22        2   \n",
       "2 2020-04-23     3370.0       437.0    37083.0  2020      4   23        3   \n",
       "3 2020-04-24     2646.0       464.0    95273.0  2020      4   24        4   \n",
       "4 2020-04-25     3021.0       420.0    38676.0  2020      4   25        5   \n",
       "5 2020-04-26     2357.0       415.0    24113.0  2020      4   26        6   \n",
       "6 2020-04-27     2324.0       260.0    26678.0  2020      4   27        0   \n",
       "7 2020-04-28     1739.0       333.0    37554.0  2020      4   28        1   \n",
       "\n",
       "   total_cases  total_deaths  total_tests Location  \n",
       "0       2256.0         454.0      30095.0   Uganda  \n",
       "1       4985.0         988.0      74343.0   Uganda  \n",
       "2       8355.0        1425.0     111426.0   Uganda  \n",
       "3      11001.0        1889.0     206699.0   Uganda  \n",
       "4      14022.0        2309.0     245375.0   Uganda  \n",
       "5      16379.0        2724.0     269488.0   Uganda  \n",
       "6      18703.0        2984.0     296166.0   Uganda  \n",
       "7      20442.0        3317.0     333720.0   Uganda  "
      ]
     },
     "execution_count": 81,
     "metadata": {},
     "output_type": "execute_result"
    }
   ],
   "source": [
    "covid"
   ]
  },
  {
   "cell_type": "code",
   "execution_count": 86,
   "id": "31790ef2-ff52-4fbd-8a29-bedd4e099d7c",
   "metadata": {
    "collapsed": true,
    "jupyter": {
     "outputs_hidden": true
    },
    "tags": []
   },
   "outputs": [
    {
     "ename": "KeyError",
     "evalue": "\"['Locations'] not found in axis\"",
     "output_type": "error",
     "traceback": [
      "\u001b[1;31m---------------------------------------------------------------------------\u001b[0m",
      "\u001b[1;31mKeyError\u001b[0m                                  Traceback (most recent call last)",
      "\u001b[1;32m<ipython-input-86-60b246ee168b>\u001b[0m in \u001b[0;36m<module>\u001b[1;34m\u001b[0m\n\u001b[1;32m----> 1\u001b[1;33m \u001b[0mcovid\u001b[0m\u001b[1;33m.\u001b[0m\u001b[0mdrop\u001b[0m\u001b[1;33m(\u001b[0m\u001b[0mcolumns\u001b[0m \u001b[1;33m=\u001b[0m \u001b[1;33m[\u001b[0m\u001b[1;34m'Locations'\u001b[0m\u001b[1;33m]\u001b[0m\u001b[1;33m,\u001b[0m \u001b[0minplace\u001b[0m \u001b[1;33m=\u001b[0m \u001b[1;32mTrue\u001b[0m\u001b[1;33m)\u001b[0m\u001b[1;33m\u001b[0m\u001b[1;33m\u001b[0m\u001b[0m\n\u001b[0m",
      "\u001b[1;32mc:\\users\\jonathan_k\\appdata\\local\\programs\\python\\python39\\lib\\site-packages\\pandas\\core\\frame.py\u001b[0m in \u001b[0;36mdrop\u001b[1;34m(self, labels, axis, index, columns, level, inplace, errors)\u001b[0m\n\u001b[0;32m   4306\u001b[0m                 \u001b[0mweight\u001b[0m  \u001b[1;36m1.0\u001b[0m     \u001b[1;36m0.8\u001b[0m\u001b[1;33m\u001b[0m\u001b[1;33m\u001b[0m\u001b[0m\n\u001b[0;32m   4307\u001b[0m         \"\"\"\n\u001b[1;32m-> 4308\u001b[1;33m         return super().drop(\n\u001b[0m\u001b[0;32m   4309\u001b[0m             \u001b[0mlabels\u001b[0m\u001b[1;33m=\u001b[0m\u001b[0mlabels\u001b[0m\u001b[1;33m,\u001b[0m\u001b[1;33m\u001b[0m\u001b[1;33m\u001b[0m\u001b[0m\n\u001b[0;32m   4310\u001b[0m             \u001b[0maxis\u001b[0m\u001b[1;33m=\u001b[0m\u001b[0maxis\u001b[0m\u001b[1;33m,\u001b[0m\u001b[1;33m\u001b[0m\u001b[1;33m\u001b[0m\u001b[0m\n",
      "\u001b[1;32mc:\\users\\jonathan_k\\appdata\\local\\programs\\python\\python39\\lib\\site-packages\\pandas\\core\\generic.py\u001b[0m in \u001b[0;36mdrop\u001b[1;34m(self, labels, axis, index, columns, level, inplace, errors)\u001b[0m\n\u001b[0;32m   4151\u001b[0m         \u001b[1;32mfor\u001b[0m \u001b[0maxis\u001b[0m\u001b[1;33m,\u001b[0m \u001b[0mlabels\u001b[0m \u001b[1;32min\u001b[0m \u001b[0maxes\u001b[0m\u001b[1;33m.\u001b[0m\u001b[0mitems\u001b[0m\u001b[1;33m(\u001b[0m\u001b[1;33m)\u001b[0m\u001b[1;33m:\u001b[0m\u001b[1;33m\u001b[0m\u001b[1;33m\u001b[0m\u001b[0m\n\u001b[0;32m   4152\u001b[0m             \u001b[1;32mif\u001b[0m \u001b[0mlabels\u001b[0m \u001b[1;32mis\u001b[0m \u001b[1;32mnot\u001b[0m \u001b[1;32mNone\u001b[0m\u001b[1;33m:\u001b[0m\u001b[1;33m\u001b[0m\u001b[1;33m\u001b[0m\u001b[0m\n\u001b[1;32m-> 4153\u001b[1;33m                 \u001b[0mobj\u001b[0m \u001b[1;33m=\u001b[0m \u001b[0mobj\u001b[0m\u001b[1;33m.\u001b[0m\u001b[0m_drop_axis\u001b[0m\u001b[1;33m(\u001b[0m\u001b[0mlabels\u001b[0m\u001b[1;33m,\u001b[0m \u001b[0maxis\u001b[0m\u001b[1;33m,\u001b[0m \u001b[0mlevel\u001b[0m\u001b[1;33m=\u001b[0m\u001b[0mlevel\u001b[0m\u001b[1;33m,\u001b[0m \u001b[0merrors\u001b[0m\u001b[1;33m=\u001b[0m\u001b[0merrors\u001b[0m\u001b[1;33m)\u001b[0m\u001b[1;33m\u001b[0m\u001b[1;33m\u001b[0m\u001b[0m\n\u001b[0m\u001b[0;32m   4154\u001b[0m \u001b[1;33m\u001b[0m\u001b[0m\n\u001b[0;32m   4155\u001b[0m         \u001b[1;32mif\u001b[0m \u001b[0minplace\u001b[0m\u001b[1;33m:\u001b[0m\u001b[1;33m\u001b[0m\u001b[1;33m\u001b[0m\u001b[0m\n",
      "\u001b[1;32mc:\\users\\jonathan_k\\appdata\\local\\programs\\python\\python39\\lib\\site-packages\\pandas\\core\\generic.py\u001b[0m in \u001b[0;36m_drop_axis\u001b[1;34m(self, labels, axis, level, errors)\u001b[0m\n\u001b[0;32m   4186\u001b[0m                 \u001b[0mnew_axis\u001b[0m \u001b[1;33m=\u001b[0m \u001b[0maxis\u001b[0m\u001b[1;33m.\u001b[0m\u001b[0mdrop\u001b[0m\u001b[1;33m(\u001b[0m\u001b[0mlabels\u001b[0m\u001b[1;33m,\u001b[0m \u001b[0mlevel\u001b[0m\u001b[1;33m=\u001b[0m\u001b[0mlevel\u001b[0m\u001b[1;33m,\u001b[0m \u001b[0merrors\u001b[0m\u001b[1;33m=\u001b[0m\u001b[0merrors\u001b[0m\u001b[1;33m)\u001b[0m\u001b[1;33m\u001b[0m\u001b[1;33m\u001b[0m\u001b[0m\n\u001b[0;32m   4187\u001b[0m             \u001b[1;32melse\u001b[0m\u001b[1;33m:\u001b[0m\u001b[1;33m\u001b[0m\u001b[1;33m\u001b[0m\u001b[0m\n\u001b[1;32m-> 4188\u001b[1;33m                 \u001b[0mnew_axis\u001b[0m \u001b[1;33m=\u001b[0m \u001b[0maxis\u001b[0m\u001b[1;33m.\u001b[0m\u001b[0mdrop\u001b[0m\u001b[1;33m(\u001b[0m\u001b[0mlabels\u001b[0m\u001b[1;33m,\u001b[0m \u001b[0merrors\u001b[0m\u001b[1;33m=\u001b[0m\u001b[0merrors\u001b[0m\u001b[1;33m)\u001b[0m\u001b[1;33m\u001b[0m\u001b[1;33m\u001b[0m\u001b[0m\n\u001b[0m\u001b[0;32m   4189\u001b[0m             \u001b[0mresult\u001b[0m \u001b[1;33m=\u001b[0m \u001b[0mself\u001b[0m\u001b[1;33m.\u001b[0m\u001b[0mreindex\u001b[0m\u001b[1;33m(\u001b[0m\u001b[1;33m**\u001b[0m\u001b[1;33m{\u001b[0m\u001b[0maxis_name\u001b[0m\u001b[1;33m:\u001b[0m \u001b[0mnew_axis\u001b[0m\u001b[1;33m}\u001b[0m\u001b[1;33m)\u001b[0m\u001b[1;33m\u001b[0m\u001b[1;33m\u001b[0m\u001b[0m\n\u001b[0;32m   4190\u001b[0m \u001b[1;33m\u001b[0m\u001b[0m\n",
      "\u001b[1;32mc:\\users\\jonathan_k\\appdata\\local\\programs\\python\\python39\\lib\\site-packages\\pandas\\core\\indexes\\base.py\u001b[0m in \u001b[0;36mdrop\u001b[1;34m(self, labels, errors)\u001b[0m\n\u001b[0;32m   5589\u001b[0m         \u001b[1;32mif\u001b[0m \u001b[0mmask\u001b[0m\u001b[1;33m.\u001b[0m\u001b[0many\u001b[0m\u001b[1;33m(\u001b[0m\u001b[1;33m)\u001b[0m\u001b[1;33m:\u001b[0m\u001b[1;33m\u001b[0m\u001b[1;33m\u001b[0m\u001b[0m\n\u001b[0;32m   5590\u001b[0m             \u001b[1;32mif\u001b[0m \u001b[0merrors\u001b[0m \u001b[1;33m!=\u001b[0m \u001b[1;34m\"ignore\"\u001b[0m\u001b[1;33m:\u001b[0m\u001b[1;33m\u001b[0m\u001b[1;33m\u001b[0m\u001b[0m\n\u001b[1;32m-> 5591\u001b[1;33m                 \u001b[1;32mraise\u001b[0m \u001b[0mKeyError\u001b[0m\u001b[1;33m(\u001b[0m\u001b[1;34mf\"{labels[mask]} not found in axis\"\u001b[0m\u001b[1;33m)\u001b[0m\u001b[1;33m\u001b[0m\u001b[1;33m\u001b[0m\u001b[0m\n\u001b[0m\u001b[0;32m   5592\u001b[0m             \u001b[0mindexer\u001b[0m \u001b[1;33m=\u001b[0m \u001b[0mindexer\u001b[0m\u001b[1;33m[\u001b[0m\u001b[1;33m~\u001b[0m\u001b[0mmask\u001b[0m\u001b[1;33m]\u001b[0m\u001b[1;33m\u001b[0m\u001b[1;33m\u001b[0m\u001b[0m\n\u001b[0;32m   5593\u001b[0m         \u001b[1;32mreturn\u001b[0m \u001b[0mself\u001b[0m\u001b[1;33m.\u001b[0m\u001b[0mdelete\u001b[0m\u001b[1;33m(\u001b[0m\u001b[0mindexer\u001b[0m\u001b[1;33m)\u001b[0m\u001b[1;33m\u001b[0m\u001b[1;33m\u001b[0m\u001b[0m\n",
      "\u001b[1;31mKeyError\u001b[0m: \"['Locations'] not found in axis\""
     ]
    }
   ],
   "source": [
    "covid.drop(columns = ['Locations'], inplace = True)"
   ]
  },
  {
   "cell_type": "code",
   "execution_count": null,
   "id": "d905d528-2e9e-431a-9f40-d3e37adc50df",
   "metadata": {
    "tags": []
   },
   "outputs": [],
   "source": [
    "merged_data = covid.merge(Locations, on = 'Location')"
   ]
  },
  {
   "cell_type": "code",
   "execution_count": 90,
   "id": "03fbc117-c7af-453c-bdc7-ea6f5900fe01",
   "metadata": {
    "collapsed": true,
    "jupyter": {
     "outputs_hidden": true
    },
    "tags": []
   },
   "outputs": [
    {
     "ename": "NameError",
     "evalue": "name 'merged_df' is not defined",
     "output_type": "error",
     "traceback": [
      "\u001b[1;31m---------------------------------------------------------------------------\u001b[0m",
      "\u001b[1;31mNameError\u001b[0m                                 Traceback (most recent call last)",
      "\u001b[1;32m<ipython-input-90-611252dc1a59>\u001b[0m in \u001b[0;36m<module>\u001b[1;34m\u001b[0m\n\u001b[1;32m----> 1\u001b[1;33m \u001b[0mmerged_data\u001b[0m\u001b[1;33m[\u001b[0m\u001b[1;34m'cases_per_million'\u001b[0m\u001b[1;33m]\u001b[0m \u001b[1;33m=\u001b[0m \u001b[0mmerged_df\u001b[0m\u001b[1;33m.\u001b[0m\u001b[0mtotal_cases\u001b[0m \u001b[1;33m*\u001b[0m \u001b[1;36m1e6\u001b[0m \u001b[1;33m/\u001b[0m \u001b[0mmerged_df_population\u001b[0m\u001b[1;33m\u001b[0m\u001b[1;33m\u001b[0m\u001b[0m\n\u001b[0m",
      "\u001b[1;31mNameError\u001b[0m: name 'merged_df' is not defined"
     ]
    }
   ],
   "source": [
    "merged_data['cases_per_million'] = merged_df.total_cases * 1e6 / merged_df_population"
   ]
  },
  {
   "cell_type": "code",
   "execution_count": 91,
   "id": "c0298afa-7090-4008-a692-11459438e113",
   "metadata": {},
   "outputs": [],
   "source": [
    "result_df = merged_df[[............]]"
   ]
  },
  {
   "cell_type": "markdown",
   "id": "d6e97c23-d2a8-4cd4-8a3f-88e252a04eca",
   "metadata": {},
   "source": [
    "# Lewis You've got to learn more about merging"
   ]
  },
  {
   "cell_type": "code",
   "execution_count": 93,
   "id": "56a465a9-8366-418f-aa1c-e1c7fa67b060",
   "metadata": {},
   "outputs": [],
   "source": [
    "covid.to_csv('New_climate_results.csv', index = None)  # This changes the file into a readable csv file"
   ]
  },
  {
   "cell_type": "code",
   "execution_count": 97,
   "id": "52d46248-3afb-467b-8fb6-b38727b5301e",
   "metadata": {},
   "outputs": [
    {
     "data": {
      "text/plain": [
       "<AxesSubplot:xlabel='date'>"
      ]
     },
     "execution_count": 97,
     "metadata": {},
     "output_type": "execute_result"
    },
    {
     "data": {
      "image/png": "[encoded data removed]",
      "text/plain": [
       "<Figure size 432x288 with 1 Axes>"
      ]
     },
     "metadata": {
      "needs_background": "light"
     },
     "output_type": "display_data"
    }
   ],
   "source": [
    "covid.new_cases.plot()"
   ]
  },
  {
   "cell_type": "code",
   "execution_count": 95,
   "id": "1671e602-a0df-4ccb-b763-6a640c599257",
   "metadata": {},
   "outputs": [],
   "source": [
    "covid.set_index('date', inplace = True)"
   ]
  },
  {
   "cell_type": "code",
   "execution_count": 96,
   "id": "7044c184-28cc-4b87-8191-f5b8c0075823",
   "metadata": {},
   "outputs": [
    {
     "data": {
      "text/html": [
       "<div>\n",
       "<style scoped>\n",
       "    .dataframe tbody tr th:only-of-type {\n",
       "        vertical-align: middle;\n",
       "    }\n",
       "\n",
       "    .dataframe tbody tr th {\n",
       "        vertical-align: top;\n",
       "    }\n",
       "\n",
       "    .dataframe thead th {\n",
       "        text-align: right;\n",
       "    }\n",
       "</style>\n",
       "<table border=\"1\" class=\"dataframe\">\n",
       "  <thead>\n",
       "    <tr style=\"text-align: right;\">\n",
       "      <th></th>\n",
       "      <th>new_cases</th>\n",
       "      <th>new_deaths</th>\n",
       "      <th>new_tests</th>\n",
       "      <th>year</th>\n",
       "      <th>month</th>\n",
       "      <th>day</th>\n",
       "      <th>weekday</th>\n",
       "      <th>total_cases</th>\n",
       "      <th>total_deaths</th>\n",
       "      <th>total_tests</th>\n",
       "    </tr>\n",
       "    <tr>\n",
       "      <th>date</th>\n",
       "      <th></th>\n",
       "      <th></th>\n",
       "      <th></th>\n",
       "      <th></th>\n",
       "      <th></th>\n",
       "      <th></th>\n",
       "      <th></th>\n",
       "      <th></th>\n",
       "      <th></th>\n",
       "      <th></th>\n",
       "    </tr>\n",
       "  </thead>\n",
       "  <tbody>\n",
       "    <tr>\n",
       "      <th>2020-04-21</th>\n",
       "      <td>2256.0</td>\n",
       "      <td>454.0</td>\n",
       "      <td>28095.0</td>\n",
       "      <td>2020</td>\n",
       "      <td>4</td>\n",
       "      <td>21</td>\n",
       "      <td>1</td>\n",
       "      <td>2256.0</td>\n",
       "      <td>454.0</td>\n",
       "      <td>30095.0</td>\n",
       "    </tr>\n",
       "    <tr>\n",
       "      <th>2020-04-22</th>\n",
       "      <td>2729.0</td>\n",
       "      <td>534.0</td>\n",
       "      <td>44248.0</td>\n",
       "      <td>2020</td>\n",
       "      <td>4</td>\n",
       "      <td>22</td>\n",
       "      <td>2</td>\n",
       "      <td>4985.0</td>\n",
       "      <td>988.0</td>\n",
       "      <td>74343.0</td>\n",
       "    </tr>\n",
       "    <tr>\n",
       "      <th>2020-04-23</th>\n",
       "      <td>3370.0</td>\n",
       "      <td>437.0</td>\n",
       "      <td>37083.0</td>\n",
       "      <td>2020</td>\n",
       "      <td>4</td>\n",
       "      <td>23</td>\n",
       "      <td>3</td>\n",
       "      <td>8355.0</td>\n",
       "      <td>1425.0</td>\n",
       "      <td>111426.0</td>\n",
       "    </tr>\n",
       "    <tr>\n",
       "      <th>2020-04-24</th>\n",
       "      <td>2646.0</td>\n",
       "      <td>464.0</td>\n",
       "      <td>95273.0</td>\n",
       "      <td>2020</td>\n",
       "      <td>4</td>\n",
       "      <td>24</td>\n",
       "      <td>4</td>\n",
       "      <td>11001.0</td>\n",
       "      <td>1889.0</td>\n",
       "      <td>206699.0</td>\n",
       "    </tr>\n",
       "    <tr>\n",
       "      <th>2020-04-25</th>\n",
       "      <td>3021.0</td>\n",
       "      <td>420.0</td>\n",
       "      <td>38676.0</td>\n",
       "      <td>2020</td>\n",
       "      <td>4</td>\n",
       "      <td>25</td>\n",
       "      <td>5</td>\n",
       "      <td>14022.0</td>\n",
       "      <td>2309.0</td>\n",
       "      <td>245375.0</td>\n",
       "    </tr>\n",
       "    <tr>\n",
       "      <th>2020-04-26</th>\n",
       "      <td>2357.0</td>\n",
       "      <td>415.0</td>\n",
       "      <td>24113.0</td>\n",
       "      <td>2020</td>\n",
       "      <td>4</td>\n",
       "      <td>26</td>\n",
       "      <td>6</td>\n",
       "      <td>16379.0</td>\n",
       "      <td>2724.0</td>\n",
       "      <td>269488.0</td>\n",
       "    </tr>\n",
       "    <tr>\n",
       "      <th>2020-04-27</th>\n",
       "      <td>2324.0</td>\n",
       "      <td>260.0</td>\n",
       "      <td>26678.0</td>\n",
       "      <td>2020</td>\n",
       "      <td>4</td>\n",
       "      <td>27</td>\n",
       "      <td>0</td>\n",
       "      <td>18703.0</td>\n",
       "      <td>2984.0</td>\n",
       "      <td>296166.0</td>\n",
       "    </tr>\n",
       "    <tr>\n",
       "      <th>2020-04-28</th>\n",
       "      <td>1739.0</td>\n",
       "      <td>333.0</td>\n",
       "      <td>37554.0</td>\n",
       "      <td>2020</td>\n",
       "      <td>4</td>\n",
       "      <td>28</td>\n",
       "      <td>1</td>\n",
       "      <td>20442.0</td>\n",
       "      <td>3317.0</td>\n",
       "      <td>333720.0</td>\n",
       "    </tr>\n",
       "  </tbody>\n",
       "</table>\n",
       "</div>"
      ],
      "text/plain": [
       "            new_cases  new_deaths  new_tests  year  month  day  weekday  \\\n",
       "date                                                                      \n",
       "2020-04-21     2256.0       454.0    28095.0  2020      4   21        1   \n",
       "2020-04-22     2729.0       534.0    44248.0  2020      4   22        2   \n",
       "2020-04-23     3370.0       437.0    37083.0  2020      4   23        3   \n",
       "2020-04-24     2646.0       464.0    95273.0  2020      4   24        4   \n",
       "2020-04-25     3021.0       420.0    38676.0  2020      4   25        5   \n",
       "2020-04-26     2357.0       415.0    24113.0  2020      4   26        6   \n",
       "2020-04-27     2324.0       260.0    26678.0  2020      4   27        0   \n",
       "2020-04-28     1739.0       333.0    37554.0  2020      4   28        1   \n",
       "\n",
       "            total_cases  total_deaths  total_tests  \n",
       "date                                                \n",
       "2020-04-21       2256.0         454.0      30095.0  \n",
       "2020-04-22       4985.0         988.0      74343.0  \n",
       "2020-04-23       8355.0        1425.0     111426.0  \n",
       "2020-04-24      11001.0        1889.0     206699.0  \n",
       "2020-04-25      14022.0        2309.0     245375.0  \n",
       "2020-04-26      16379.0        2724.0     269488.0  \n",
       "2020-04-27      18703.0        2984.0     296166.0  \n",
       "2020-04-28      20442.0        3317.0     333720.0  "
      ]
     },
     "execution_count": 96,
     "metadata": {},
     "output_type": "execute_result"
    }
   ],
   "source": [
    "covid"
   ]
  },
  {
   "cell_type": "code",
   "execution_count": 98,
   "id": "35bf56e3-e60a-43c6-b2e4-a56d53f5aafe",
   "metadata": {},
   "outputs": [
    {
     "data": {
      "image/png": "[encoded data removed]",
      "text/plain": [
       "<Figure size 432x288 with 1 Axes>"
      ]
     },
     "metadata": {
      "needs_background": "light"
     },
     "output_type": "display_data"
    }
   ],
   "source": [
    "covid.new_cases.plot()\n",
    "covid.new_deaths.plot();"
   ]
  },
  {
   "cell_type": "code",
   "execution_count": 99,
   "id": "a5ac9bde-83d3-4160-b178-2244aab637bf",
   "metadata": {},
   "outputs": [],
   "source": [
    "death_rate = covid.total_deaths / covid.total_cases"
   ]
  },
  {
   "cell_type": "code",
   "execution_count": 100,
   "id": "de14a390-3856-4498-a62d-23e279a0d6e9",
   "metadata": {},
   "outputs": [
    {
     "data": {
      "image/png": "[encoded data removed]",
      "text/plain": [
       "<Figure size 432x288 with 1 Axes>"
      ]
     },
     "metadata": {
      "needs_background": "light"
     },
     "output_type": "display_data"
    }
   ],
   "source": [
    "death_rate.plot(title = 'Death_rate');"
   ]
  },
  {
   "cell_type": "code",
   "execution_count": 104,
   "id": "cd1705ed-2bbc-4fa0-81dc-01410f5d0e7d",
   "metadata": {},
   "outputs": [
    {
     "data": {
      "image/png": "[encoded data removed]",
      "text/plain": [
       "<Figure size 432x288 with 1 Axes>"
      ]
     },
     "metadata": {
      "needs_background": "light"
     },
     "output_type": "display_data"
    }
   ],
   "source": [
    "positive_rate = covid.total_cases / covid.total_tests\n",
    "positive_rate.plot(title = 'Positive_Rate');"
   ]
  },
  {
   "cell_type": "code",
   "execution_count": 108,
   "id": "e2fbf6da-85b2-4786-9b90-f5d3e0e62dcc",
   "metadata": {},
   "outputs": [
    {
     "data": {
      "image/png": "[encoded data removed]",
      "text/plain": [
       "<Figure size 432x288 with 1 Axes>"
      ]
     },
     "metadata": {
      "needs_background": "light"
     },
     "output_type": "display_data"
    }
   ],
   "source": [
    "monthly_groups.new_cases.plot(kind = 'bar');  # You can also have monthly analyasis"
   ]
  },
  {
   "cell_type": "markdown",
   "id": "a423172d-fb82-4e86-a1dc-3b7a24c3c282",
   "metadata": {},
   "source": [
    "# Questions at 4:45"
   ]
  },
  {
   "cell_type": "markdown",
   "id": "5dbabcd3-26bb-4ad7-a8ad-c18ec29aca4a",
   "metadata": {},
   "source": [
    "## Our world in data covid raw data  this is a link to download"
   ]
  },
  {
   "cell_type": "markdown",
   "id": "644ecb46-0d1d-43b1-894b-9abc63688c42",
   "metadata": {},
   "source": [
    "# 5:53"
   ]
  },
  {
   "cell_type": "code",
   "execution_count": null,
   "id": "1ef237b1-342d-46b2-aa72-7f7674becc02",
   "metadata": {},
   "outputs": [],
   "source": []
  }
 ],
 "metadata": {
  "kernelspec": {
   "display_name": "Python 3",
   "language": "python",
   "name": "python3"
  },
  "language_info": {
   "codemirror_mode": {
    "name": "ipython",
    "version": 3
   },
   "file_extension": ".py",
   "mimetype": "text/x-python",
   "name": "python",
   "nbconvert_exporter": "python",
   "pygments_lexer": "ipython3",
   "version": "3.9.0"
  }
 },
 "nbformat": 4,
 "nbformat_minor": 5
}
