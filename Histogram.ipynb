{
 "cells": [
  {
   "cell_type": "code",
   "execution_count": 6,
   "id": "42f94b88-6226-4de3-ab19-e3dbfae47d4a",
   "metadata": {},
   "outputs": [],
   "source": [
    "import seaborn as sns"
   ]
  },
  {
   "cell_type": "code",
   "execution_count": 5,
   "id": "cf98ba20-5c21-4448-99f3-0167109d7334",
   "metadata": {},
   "outputs": [],
   "source": [
    "import pandas as pd"
   ]
  },
  {
   "cell_type": "code",
   "execution_count": 25,
   "id": "73ca809a-9717-4c67-b97d-35a5fd8a8d94",
   "metadata": {},
   "outputs": [],
   "source": [
    "import matplotlib.pyplot as plt"
   ]
  },
  {
   "cell_type": "code",
   "execution_count": 10,
   "id": "e888fc5f-02a7-4912-bc22-4211d9ce2238",
   "metadata": {},
   "outputs": [],
   "source": [
    "covid = pd.read_csv('./.data/covid_results.txt')"
   ]
  },
  {
   "cell_type": "code",
   "execution_count": 36,
   "id": "8c6a7508-9348-412e-a808-dd37623ea76f",
   "metadata": {},
   "outputs": [
    {
     "data": {
      "image/png": "[encoded data removed]",
      "text/plain": [
       "<Figure size 432x288 with 1 Axes>"
      ]
     },
     "metadata": {
      "needs_background": "light"
     },
     "output_type": "display_data"
    }
   ],
   "source": [
    "plt.title('covid')\n",
    "plt.hist(covid.new_cases, bins = 3); # bins changes the number of bars to be displayed"
   ]
  },
  {
   "cell_type": "code",
   "execution_count": null,
   "id": "e6e86c78-b044-4a39-a2f8-fc64ce2d6eda",
   "metadata": {},
   "outputs": [],
   "source": []
  }
 ],
 "metadata": {
  "kernelspec": {
   "display_name": "Python 3",
   "language": "python",
   "name": "python3"
  },
  "language_info": {
   "codemirror_mode": {
    "name": "ipython",
    "version": 3
   },
   "file_extension": ".py",
   "mimetype": "text/x-python",
   "name": "python",
   "nbconvert_exporter": "python",
   "pygments_lexer": "ipython3",
   "version": "3.9.0"
  }
 },
 "nbformat": 4,
 "nbformat_minor": 5
}
