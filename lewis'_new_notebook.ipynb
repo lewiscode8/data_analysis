{
 "cells": [
  {
   "cell_type": "code",
   "execution_count": 9,
   "id": "4ac6b9f5-aa54-4228-a727-9fcabe8649d4",
   "metadata": {},
   "outputs": [
    {
     "name": "stdout",
     "output_type": "stream",
     "text": [
      "*\n",
      "***\n",
      "*****\n",
      "*******\n",
      "*********\n"
     ]
    }
   ],
   "source": [
    "# Make a diamond loop or anyb other...\n",
    "\n",
    "line = '*'\n",
    "max_length = 10\n",
    "\n",
    "while len(line) <= max_length:\n",
    "    print(line)\n",
    "    line += '**'"
   ]
  },
  {
   "cell_type": "code",
   "execution_count": 8,
   "id": "43611755-fc05-4abe-a4c4-2f19c6f6d901",
   "metadata": {},
   "outputs": [
    {
     "name": "stdout",
     "output_type": "stream",
     "text": [
      "Hello\n",
      "How are You?\n"
     ]
    }
   ],
   "source": [
    "# Functions Which I love the most for they are interesting\n",
    "def greeting():\n",
    "    print('Hello')\n",
    "    print('How are You?')\n",
    "greeting()"
   ]
  },
  {
   "cell_type": "code",
   "execution_count": 3,
   "id": "54b93bf1-a674-49d8-a665-5777a7d52f15",
   "metadata": {},
   "outputs": [
    {
     "name": "stdout",
     "output_type": "stream",
     "text": [
      "Hello, Lewis\n"
     ]
    }
   ],
   "source": [
    "def say_hello(name):\n",
    "    print(f'Hello, {name}')\n",
    "say_hello('Lewis')"
   ]
  },
  {
   "cell_type": "code",
   "execution_count": 4,
   "id": "574ab4b1-55bf-44a2-8efd-57e6f99976cb",
   "metadata": {},
   "outputs": [
    {
     "name": "stdout",
     "output_type": "stream",
     "text": [
      "Why Me?\n"
     ]
    }
   ],
   "source": [
    "print('Why Me?')"
   ]
  },
  {
   "cell_type": "code",
   "execution_count": 2,
   "id": "998243ef-9a36-4f85-a262-60461524a824",
   "metadata": {},
   "outputs": [],
   "source": [
    "# Function find my age\n",
    "def find_my_age(birth_year, current_year):\n",
    "    age_finder = current_year-birth_year\n",
    "    return age_finder"
   ]
  },
  {
   "cell_type": "code",
   "execution_count": 3,
   "id": "22adf617-5657-491a-a14c-21089b00e9dc",
   "metadata": {},
   "outputs": [
    {
     "data": {
      "text/plain": [
       "18"
      ]
     },
     "execution_count": 3,
     "metadata": {},
     "output_type": "execute_result"
    }
   ],
   "source": [
    "find_my_age(2003, 2021)"
   ]
  },
  {
   "cell_type": "code",
   "execution_count": 27,
   "id": "46cabf8c-44c3-4d2c-8279-f64ef637f3c5",
   "metadata": {},
   "outputs": [
    {
     "data": {
      "text/plain": [
       "420"
      ]
     },
     "execution_count": 27,
     "metadata": {},
     "output_type": "execute_result"
    }
   ],
   "source": [
    "import math\n",
    "\n",
    "def trips_expence(duration, return_flight, Hotel_per_day, weekly_car_rental):\n",
    "    trip_cost = math.ceil(duration * return_flight + Hotel_per_day + weekly_car_rental)\n",
    "    return trip_cost\n",
    "paris = trips_expence(1,200,20,200)\n",
    "paris"
   ]
  },
  {
   "cell_type": "code",
   "execution_count": 13,
   "id": "bd0d96df-af09-4ca6-9501-34fd53e8a519",
   "metadata": {},
   "outputs": [
    {
     "data": {
      "text/plain": [
       "400"
      ]
     },
     "execution_count": 13,
     "metadata": {},
     "output_type": "execute_result"
    }
   ],
   "source": [
    "London = trips_expence(250,30,120)\n",
    "London"
   ]
  },
  {
   "cell_type": "code",
   "execution_count": 14,
   "id": "d9f877c2-d012-41d9-87b7-3729c1faf310",
   "metadata": {},
   "outputs": [
    {
     "data": {
      "text/plain": [
       "465"
      ]
     },
     "execution_count": 14,
     "metadata": {},
     "output_type": "execute_result"
    }
   ],
   "source": [
    "Dubai = trips_expence(370,15,80)\n",
    "Dubai"
   ]
  },
  {
   "cell_type": "code",
   "execution_count": 22,
   "id": "cc5084c1-1b2c-4544-94e0-ade7cfad12d4",
   "metadata": {},
   "outputs": [
    {
     "data": {
      "text/plain": [
       "530"
      ]
     },
     "execution_count": 22,
     "metadata": {},
     "output_type": "execute_result"
    }
   ],
   "source": [
    "Mumbai = trips_expence(450,10,70)\n",
    "Mumbai"
   ]
  },
  {
   "cell_type": "code",
   "execution_count": 33,
   "id": "46b4377a-9f1c-4c09-9e2d-29ab66df1633",
   "metadata": {},
   "outputs": [
    {
     "name": "stdout",
     "output_type": "stream",
     "text": [
      "[0.3, 0.3, 0.5]\n"
     ]
    }
   ],
   "source": [
    "weights = [0.3,0.3,0.5]\n",
    "print(weights)"
   ]
  },
  {
   "cell_type": "code",
   "execution_count": 34,
   "id": "ddafe180-5fc2-48ca-be07-ba1151e31330",
   "metadata": {},
   "outputs": [
    {
     "data": {
      "text/plain": [
       "[0.3, 0.3, 0.5]"
      ]
     },
     "execution_count": 34,
     "metadata": {},
     "output_type": "execute_result"
    }
   ],
   "source": [
    "weights"
   ]
  },
  {
   "cell_type": "code",
   "execution_count": 35,
   "id": "6c95f335-9ebe-43f7-bb9b-fadc0af2b795",
   "metadata": {},
   "outputs": [
    {
     "name": "stdout",
     "output_type": "stream",
     "text": [
      "[73, 67, 43]\n"
     ]
    }
   ],
   "source": [
    "Kanto = [73, 67, 43]\n",
    "print(Kanto)"
   ]
  },
  {
   "cell_type": "code",
   "execution_count": 4,
   "id": "ec159704-90ba-4503-b204-26d76ce6f8d2",
   "metadata": {},
   "outputs": [],
   "source": [
    "# Zip aligns things in line to each other\n",
    "def crop_yield(region, weights):\n",
    "    result = 0\n",
    "    for x, w in zip(region, weights):\n",
    "        result += x * w\n",
    "    return result"
   ]
  },
  {
   "cell_type": "code",
   "execution_count": 1,
   "id": "824054db-dd2a-4aa6-a711-4f5bcffb0415",
   "metadata": {},
   "outputs": [],
   "source": [
    "# !pip install seaborn"
   ]
  },
  {
   "cell_type": "code",
   "execution_count": 15,
   "id": "3869dbd4-1ffc-49f9-93a0-4fe7d87d7266",
   "metadata": {},
   "outputs": [
    {
     "name": "stdout",
     "output_type": "stream",
     "text": [
      "Howw are You?\n"
     ]
    }
   ],
   "source": [
    "print('Howw are You?')"
   ]
  },
  {
   "cell_type": "code",
   "execution_count": 2,
   "id": "7f648125-b069-4289-9879-0fe254145062",
   "metadata": {},
   "outputs": [
    {
     "data": {
      "text/plain": [
       "2000"
      ]
     },
     "execution_count": 2,
     "metadata": {},
     "output_type": "execute_result"
    }
   ],
   "source": [
    "def birth_year_finder(age):\n",
    "    birth_year = 2021 - age\n",
    "    return birth_year\n",
    "birth_year_finder(21)"
   ]
  },
  {
   "cell_type": "code",
   "execution_count": 29,
   "id": "55b96eeb-6db5-4595-9cad-c962ececcb1b",
   "metadata": {},
   "outputs": [
    {
     "name": "stdout",
     "output_type": "stream",
     "text": [
      "How are You??\n"
     ]
    }
   ],
   "source": [
    "greeting()"
   ]
  },
  {
   "cell_type": "code",
   "execution_count": 12,
   "id": "561d2a9d-a158-4453-bd91-95a177201b33",
   "metadata": {},
   "outputs": [
    {
     "name": "stdout",
     "output_type": "stream",
     "text": [
      "*\n",
      "**\n",
      "***\n",
      "****\n",
      "*****\n",
      "******\n",
      "*******\n",
      "********\n",
      "*********\n"
     ]
    }
   ],
   "source": [
    "i = '*'\n",
    "\n",
    "while len(i) < 10:\n",
    "    print(i)\n",
    "    i += '*'"
   ]
  },
  {
   "cell_type": "code",
   "execution_count": 1,
   "id": "23f8d5c5-59af-4ad7-970b-21648f67a8ab",
   "metadata": {},
   "outputs": [],
   "source": [
    "import numpy as np"
   ]
  },
  {
   "cell_type": "code",
   "execution_count": 2,
   "id": "6f6cd5dc-166b-4eb2-a558-f9d1ef70f9eb",
   "metadata": {},
   "outputs": [],
   "source": [
    "Kanto = np.array([73, 67, 43])"
   ]
  },
  {
   "cell_type": "code",
   "execution_count": 3,
   "id": "eee941a7-df03-4fcb-8449-6353c50de7e2",
   "metadata": {},
   "outputs": [
    {
     "data": {
      "text/plain": [
       "array([73, 67, 43])"
      ]
     },
     "execution_count": 3,
     "metadata": {},
     "output_type": "execute_result"
    }
   ],
   "source": [
    "Kanto"
   ]
  },
  {
   "cell_type": "code",
   "execution_count": 13,
   "id": "87a9f878-ddc2-4e05-9317-fdac975e14aa",
   "metadata": {},
   "outputs": [
    {
     "data": {
      "text/plain": [
       "numpy.ndarray"
      ]
     },
     "execution_count": 13,
     "metadata": {},
     "output_type": "execute_result"
    }
   ],
   "source": [
    "type(Kanto)"
   ]
  },
  {
   "cell_type": "code",
   "execution_count": 15,
   "id": "7f397cee-2037-42cb-b1de-ab0de958441b",
   "metadata": {},
   "outputs": [],
   "source": [
    "arr1 = list(range(1000000))\n",
    "arr2 = list(range(1000000, 2000000))\n",
    "\n",
    "arr1_np = np.array(arr1)\n",
    "arr2_np = np.array(arr2)"
   ]
  },
  {
   "cell_type": "code",
   "execution_count": 16,
   "id": "431b4cc9-db99-4274-a47e-2c9770406f4f",
   "metadata": {},
   "outputs": [
    {
     "name": "stdout",
     "output_type": "stream",
     "text": [
      "Wall time: 311 ms\n"
     ]
    },
    {
     "data": {
      "text/plain": [
       "833332333333500000"
      ]
     },
     "execution_count": 16,
     "metadata": {},
     "output_type": "execute_result"
    }
   ],
   "source": [
    "%%time\n",
    "result = 0\n",
    "for x1, x2 in zip(arr1, arr2):\n",
    "    result += x1*x2\n",
    "result"
   ]
  },
  {
   "cell_type": "code",
   "execution_count": 19,
   "id": "29877379-66e5-47d1-9cd1-39071307fdcd",
   "metadata": {},
   "outputs": [],
   "source": [
    "import numpy as y"
   ]
  },
  {
   "cell_type": "code",
   "execution_count": 20,
   "id": "7a6f2027-5e27-4042-9dc3-e956a7cf8185",
   "metadata": {},
   "outputs": [
    {
     "data": {
      "text/plain": [
       "24"
      ]
     },
     "execution_count": 20,
     "metadata": {},
     "output_type": "execute_result"
    }
   ],
   "source": [
    "y.dot(12,2)"
   ]
  },
  {
   "cell_type": "code",
   "execution_count": 21,
   "id": "50d92026-23b3-439b-83f3-2140b56e8fba",
   "metadata": {},
   "outputs": [],
   "source": [
    "e = [2, 3]\n",
    "q = [1, 2]"
   ]
  },
  {
   "cell_type": "code",
   "execution_count": 22,
   "id": "50e6a441-60cc-436f-9db3-5211f22c90c2",
   "metadata": {},
   "outputs": [
    {
     "data": {
      "text/plain": [
       "8"
      ]
     },
     "execution_count": 22,
     "metadata": {},
     "output_type": "execute_result"
    }
   ],
   "source": [
    "y.dot(e, q)"
   ]
  },
  {
   "cell_type": "code",
   "execution_count": null,
   "id": "376fdd48-da06-493b-a301-294fa8fdf3be",
   "metadata": {},
   "outputs": [],
   "source": [
    "# Thanks Jesus For Always Being There For ME..\n",
    "# That's y i Put this project i your hands may it give glory\n",
    "#And I believe if i move this journey with you Whether hard or easy i Will persevere..."
   ]
  },
  {
   "cell_type": "code",
   "execution_count": 53,
   "id": "4b412ec8-5d10-42a8-9009-33963c1a9fd8",
   "metadata": {},
   "outputs": [
    {
     "name": "stdout",
     "output_type": "stream",
     "text": [
      "My name is lewis and I am 37\n"
     ]
    }
   ],
   "source": [
    "class user:\n",
    "    def __init__(self, name, age, email):\n",
    "        self.name = name\n",
    "        self.age = age\n",
    "        self.email = email\n",
    "\n",
    "    def greeting(self):\n",
    "        return f'My name is {self.name} and I am {self.age}'\n",
    "\n",
    "lewis = user('lewis', 37, 'lewiscode8a@gmail.com')\n",
    "print(lewis.greeting())"
   ]
  },
  {
   "cell_type": "code",
   "execution_count": null,
   "id": "53399044-3354-4bab-adce-7ee3b7a90ddd",
   "metadata": {},
   "outputs": [],
   "source": []
  }
 ],
 "metadata": {
  "kernelspec": {
   "display_name": "Python 3",
   "language": "python",
   "name": "python3"
  },
  "language_info": {
   "codemirror_mode": {
    "name": "ipython",
    "version": 3
   },
   "file_extension": ".py",
   "mimetype": "text/x-python",
   "name": "python",
   "nbconvert_exporter": "python",
   "pygments_lexer": "ipython3",
   "version": "3.9.0"
  },
  "toc-autonumbering": false,
  "toc-showmarkdowntxt": false
 },
 "nbformat": 4,
 "nbformat_minor": 5
}
