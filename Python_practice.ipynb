{
 "cells": [
  {
   "cell_type": "markdown",
   "id": "88c04d4e-fbdb-4b36-a53d-64833351e37a",
   "metadata": {},
   "source": [
    "# Here is some of our trial Python Codes.."
   ]
  },
  {
   "cell_type": "code",
   "execution_count": 1,
   "id": "1f41e48a-2047-4ee7-9169-edbe47ddef0a",
   "metadata": {},
   "outputs": [
    {
     "name": "stdout",
     "output_type": "stream",
     "text": [
      "[3, 4, 5, 6, 7, 8]\n"
     ]
    }
   ],
   "source": [
    "numbers = [1, 2, 3, 4, 5, 6, 7, 8] # This appends numbers from one list to another.\n",
    "update = []\n",
    "\n",
    "for number in numbers:\n",
    "    if number > 2:\n",
    "        update.append(number)\n",
    "print(update)"
   ]
  },
  {
   "cell_type": "code",
   "execution_count": 2,
   "id": "3a9806ba-83cf-44d0-a3e5-48e96f0edc6c",
   "metadata": {},
   "outputs": [
    {
     "name": "stdout",
     "output_type": "stream",
     "text": [
      "[2, 4]\n"
     ]
    }
   ],
   "source": [
    "numbers = [2]\n",
    "numbers.append(4)\n",
    "print(numbers)"
   ]
  },
  {
   "cell_type": "code",
   "execution_count": 3,
   "id": "96f3776e-52dd-43ba-a2ff-ca2bfaa74a11",
   "metadata": {},
   "outputs": [
    {
     "name": "stdout",
     "output_type": "stream",
     "text": [
      "[6]\n"
     ]
    }
   ],
   "source": [
    "numbers1 = [1, 2, 3, 4, 5, 6, 7, 8]\n",
    "update1 = []\n",
    "\n",
    "for number in numbers:\n",
    "    if number >= 4:\n",
    "        number += 2 # This code runs first before appending the values that's why it has the values Work The Way we want them to work\n",
    "        update1.append(number)\n",
    "print(update1)"
   ]
  },
  {
   "cell_type": "code",
   "execution_count": 5,
   "id": "3745a788-e746-49ad-a11d-82f8ebe37f56",
   "metadata": {},
   "outputs": [
    {
     "name": "stdout",
     "output_type": "stream",
     "text": [
      "0\n",
      "1\n",
      "2\n",
      "3\n",
      "4\n",
      "5\n"
     ]
    }
   ],
   "source": [
    "i = 0\n",
    "\n",
    "while i <= 5:\n",
    "    print(i)\n",
    "    i += 1 # This is a while loop.\n",
    "    "
   ]
  },
  {
   "cell_type": "code",
   "execution_count": 12,
   "id": "cb0fca09-d6ef-4ae3-975a-b56b360c4ffa",
   "metadata": {},
   "outputs": [
    {
     "name": "stdout",
     "output_type": "stream",
     "text": [
      "No please\n"
     ]
    }
   ],
   "source": [
    "i = 8\n",
    "if i <= 4:\n",
    "    print('This is correct')\n",
    "elif i == 5:\n",
    "    print('This Wrong no')\n",
    "else:\n",
    "    print('No please')   # These are if Loops.."
   ]
  },
  {
   "cell_type": "code",
   "execution_count": null,
   "id": "6d8d6888-32af-40dc-a8d7-66bea3ee6270",
   "metadata": {},
   "outputs": [],
   "source": []
  }
 ],
 "metadata": {
  "kernelspec": {
   "display_name": "Python 3",
   "language": "python",
   "name": "python3"
  },
  "language_info": {
   "codemirror_mode": {
    "name": "ipython",
    "version": 3
   },
   "file_extension": ".py",
   "mimetype": "text/x-python",
   "name": "python",
   "nbconvert_exporter": "python",
   "pygments_lexer": "ipython3",
   "version": "3.9.0"
  }
 },
 "nbformat": 4,
 "nbformat_minor": 5
}
